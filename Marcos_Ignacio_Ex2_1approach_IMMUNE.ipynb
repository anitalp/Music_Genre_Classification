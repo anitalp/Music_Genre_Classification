{
  "nbformat": 4,
  "nbformat_minor": 0,
  "metadata": {
    "kernelspec": {
      "display_name": "Python 3",
      "language": "python",
      "name": "python3"
    },
    "language_info": {
      "codemirror_mode": {
        "name": "ipython",
        "version": 3
      },
      "file_extension": ".py",
      "mimetype": "text/x-python",
      "name": "python",
      "nbconvert_exporter": "python",
      "pygments_lexer": "ipython3",
      "version": "3.6.10"
    },
    "colab": {
      "name": "Marcos_Ignacio_Ex2_1approach.ipynb",
      "provenance": [],
      "include_colab_link": true
    }
  },
  "cells": [
    {
      "cell_type": "markdown",
      "metadata": {
        "id": "view-in-github",
        "colab_type": "text"
      },
      "source": [
        "<a href=\"https://colab.research.google.com/github/anitalp/Music_Genre_Classification/blob/master/Marcos_Ignacio_Ex2_1approach_IMMUNE.ipynb\" target=\"_parent\"><img src=\"https://colab.research.google.com/assets/colab-badge.svg\" alt=\"Open In Colab\"/></a>"
      ]
    },
    {
      "cell_type": "markdown",
      "metadata": {
        "id": "znqQhapbqNBr",
        "colab_type": "text"
      },
      "source": [
        "We will use the GZAN genres set for this excercise.\n",
        "We start importing all libraries needed for our genre classifier."
      ]
    },
    {
      "cell_type": "code",
      "metadata": {
        "id": "7sCWIw2ZqNBs",
        "colab_type": "code",
        "colab": {}
      },
      "source": [
        "import librosa\n",
        "import pandas as pd\n",
        "import numpy as np\n",
        "import matplotlib.pyplot as plt\n",
        "%matplotlib inline\n",
        "import os\n",
        "from PIL import Image\n",
        "import pathlib\n",
        "import csv\n",
        "\n",
        "from sklearn.model_selection import train_test_split\n",
        "from sklearn.preprocessing import LabelEncoder, StandardScaler\n",
        "\n",
        "import keras\n",
        "\n",
        "import warnings\n",
        "warnings.filterwarnings('ignore')"
      ],
      "execution_count": null,
      "outputs": []
    },
    {
      "cell_type": "markdown",
      "metadata": {
        "id": "0rs8wqioqNBx",
        "colab_type": "text"
      },
      "source": [
        "Now we create an algorythm so we can use the GPU and boost our computation capabilities."
      ]
    },
    {
      "cell_type": "code",
      "metadata": {
        "id": "EtcLMhZRqNBy",
        "colab_type": "code",
        "colab": {},
        "outputId": "d90a2462-de4e-471a-c3a6-d08d488688db"
      },
      "source": [
        "import tensorflow as tf\n",
        "import os\n",
        "os.environ['TF_CPP_MIN_LOG_LEVEL'] = '3'\n",
        "os.environ[\"CUDA_DEVICE_ORDER\"] = \"PCI_BUS_ID\"\n",
        "os.environ[\"CUDA_VISIBLE_DEVICES\"] = '0' # Set to -1 if CPU should be used CPU = -1 , GPU = 0\n",
        "\n",
        "gpus = tf.config.experimental.list_physical_devices('GPU')\n",
        "cpus = tf.config.experimental.list_physical_devices('CPU')\n",
        "\n",
        "if gpus:\n",
        "    try:\n",
        "        # Currently, memory growth needs to be the same across GPUs\n",
        "        for gpu in gpus:\n",
        "            tf.config.experimental.set_memory_growth(gpu, True)\n",
        "        logical_gpus = tf.config.experimental.list_logical_devices('GPU')\n",
        "        print(len(gpus), \"Physical GPUs,\", len(logical_gpus), \"Logical GPUs\")\n",
        "    except RuntimeError as e:\n",
        "        # Memory growth must be set before GPUs have been initialized\n",
        "        print(e)\n",
        "elif cpus:\n",
        "    try:\n",
        "        # Currently, memory growth needs to be the same across GPUs\n",
        "        logical_cpus= tf.config.experimental.list_logical_devices('CPU')\n",
        "        print(len(cpus), \"Physical CPU,\", len(logical_cpus), \"Logical CPU\")\n",
        "    except RuntimeError as e:\n",
        "        # Memory growth must be set before GPUs have been initialized\n",
        "        print(e)"
      ],
      "execution_count": null,
      "outputs": [
        {
          "output_type": "stream",
          "text": [
            "1 Physical GPUs, 1 Logical GPUs\n"
          ],
          "name": "stdout"
        }
      ]
    },
    {
      "cell_type": "markdown",
      "metadata": {
        "id": "t7crCbUbqNB2",
        "colab_type": "text"
      },
      "source": [
        "Its time to extract from our songs their spectrogram, a visual map of their frequencies spectrum in a short period or segment, so later we may be able to extract relevant features."
      ]
    },
    {
      "cell_type": "code",
      "metadata": {
        "id": "WU_vRNMkqNB3",
        "colab_type": "code",
        "colab": {},
        "outputId": "9c0b8645-6507-4670-c5a7-77705b119f06"
      },
      "source": [
        "cmap = plt.get_cmap('inferno')\n",
        "\n",
        "plt.figure(figsize=(10,10))\n",
        "genres = 'blues classical country disco hiphop jazz metal pop reggae rock'.split()\n",
        "for g in genres:\n",
        "    pathlib.Path(f'img_data/{g}').mkdir(parents=True, exist_ok=True)     \n",
        "    for filename in os.listdir(f'./data/genres/{g}'):\n",
        "        songname = f'./data/genres/{g}/{filename}'\n",
        "        y, sr = librosa.load(songname, mono=True, duration=5)\n",
        "        plt.specgram(y, NFFT=2048, Fs=2, Fc=0, noverlap=128, cmap=cmap, sides='default', mode='default', scale='dB');\n",
        "        plt.axis('off');\n",
        "        plt.savefig(f'img_data/{g}/{filename[:-3].replace(\".\", \"\")}.png')\n",
        "        plt.clf()\n",
        " "
      ],
      "execution_count": null,
      "outputs": [
        {
          "output_type": "display_data",
          "data": {
            "text/plain": [
              "<Figure size 720x720 with 0 Axes>"
            ]
          },
          "metadata": {
            "tags": []
          }
        }
      ]
    },
    {
      "cell_type": "markdown",
      "metadata": {
        "id": "RVVBw6GTqNB5",
        "colab_type": "text"
      },
      "source": [
        "Based on the spectogram results, now we can extract the MFCC´s coefficients plus other important and differencial features."
      ]
    },
    {
      "cell_type": "code",
      "metadata": {
        "id": "DdRhiCsLqNB6",
        "colab_type": "code",
        "colab": {}
      },
      "source": [
        "header = 'filename chroma_stft spectral_centroid spectral_bandwidth rolloff zero_crossing_rate'\n",
        "for i in range(1, 21):\n",
        "    header += f' mfcc{i}'\n",
        "header += ' label'\n",
        "header = header.split()"
      ],
      "execution_count": null,
      "outputs": []
    },
    {
      "cell_type": "markdown",
      "metadata": {
        "id": "2_07SrCyqNB8",
        "colab_type": "text"
      },
      "source": [
        "Once we have extract these features, which will help us to classified, lets say objectively, our music in different genres, we should create a new .csv file with all of them properly organized by song, and defining their label. Label will be our target."
      ]
    },
    {
      "cell_type": "code",
      "metadata": {
        "id": "2UYvGr6XqNB9",
        "colab_type": "code",
        "colab": {}
      },
      "source": [
        "file = open('data_MYMUSIC.csv', 'w', newline='')\n",
        "with file:\n",
        "    writer = csv.writer(file)\n",
        "    writer.writerow(header)\n",
        "genres = 'blues classical country disco hiphop jazz metal pop reggae rock'.split()\n",
        "for g in genres:\n",
        "    for filename in os.listdir(f'./data/genres/{g}'):\n",
        "        songname = f'./data/genres/{g}/{filename}'\n",
        "        y, sr = librosa.load(songname, mono=True, duration=30)\n",
        "        chroma_stft = librosa.feature.chroma_stft(y=y, sr=sr)\n",
        "        spec_cent = librosa.feature.spectral_centroid(y=y, sr=sr)\n",
        "        spec_bw = librosa.feature.spectral_bandwidth(y=y, sr=sr)\n",
        "        rolloff = librosa.feature.spectral_rolloff(y=y, sr=sr)\n",
        "        zcr = librosa.feature.zero_crossing_rate(y)\n",
        "        mfcc = librosa.feature.mfcc(y=y, sr=sr,n_mfcc=20)\n",
        "        #to_append = f'{filename} {np.mean(chroma_stft)} {np.mean(rmse)} {np.mean(spec_cent)} {np.mean(spec_bw)} {np.mean(rolloff)} {np.mean(zcr)}'    \n",
        "        to_append = f'{filename} {np.mean(chroma_stft)} {np.mean(spec_cent)} {np.mean(spec_bw)} {np.mean(rolloff)} {np.mean(zcr)}'    \n",
        "        for e in mfcc:\n",
        "            to_append += f' {np.mean(e)}'\n",
        "        to_append += f' {g}'\n",
        "        file = open('data_MYMUSIC.csv', 'a', newline='')\n",
        "        with file:\n",
        "            writer = csv.writer(file)\n",
        "            writer.writerow(to_append.split())"
      ],
      "execution_count": null,
      "outputs": []
    },
    {
      "cell_type": "markdown",
      "metadata": {
        "id": "aL_Ymw-qqNCC",
        "colab_type": "text"
      },
      "source": [
        "We print our collected data:"
      ]
    },
    {
      "cell_type": "code",
      "metadata": {
        "id": "qWG4esb_qNCD",
        "colab_type": "code",
        "colab": {},
        "outputId": "61fee23f-663f-40d4-fa67-4178d32a7478"
      },
      "source": [
        "data = pd.read_csv('data_MYMUSIC.csv')\n",
        "data"
      ],
      "execution_count": null,
      "outputs": [
        {
          "output_type": "execute_result",
          "data": {
            "text/html": [
              "<div>\n",
              "<style scoped>\n",
              "    .dataframe tbody tr th:only-of-type {\n",
              "        vertical-align: middle;\n",
              "    }\n",
              "\n",
              "    .dataframe tbody tr th {\n",
              "        vertical-align: top;\n",
              "    }\n",
              "\n",
              "    .dataframe thead th {\n",
              "        text-align: right;\n",
              "    }\n",
              "</style>\n",
              "<table border=\"1\" class=\"dataframe\">\n",
              "  <thead>\n",
              "    <tr style=\"text-align: right;\">\n",
              "      <th></th>\n",
              "      <th>filename</th>\n",
              "      <th>chroma_stft</th>\n",
              "      <th>spectral_centroid</th>\n",
              "      <th>spectral_bandwidth</th>\n",
              "      <th>rolloff</th>\n",
              "      <th>zero_crossing_rate</th>\n",
              "      <th>mfcc1</th>\n",
              "      <th>mfcc2</th>\n",
              "      <th>mfcc3</th>\n",
              "      <th>mfcc4</th>\n",
              "      <th>...</th>\n",
              "      <th>mfcc12</th>\n",
              "      <th>mfcc13</th>\n",
              "      <th>mfcc14</th>\n",
              "      <th>mfcc15</th>\n",
              "      <th>mfcc16</th>\n",
              "      <th>mfcc17</th>\n",
              "      <th>mfcc18</th>\n",
              "      <th>mfcc19</th>\n",
              "      <th>mfcc20</th>\n",
              "      <th>label</th>\n",
              "    </tr>\n",
              "  </thead>\n",
              "  <tbody>\n",
              "    <tr>\n",
              "      <th>0</th>\n",
              "      <td>blues.00000.wav</td>\n",
              "      <td>0.349943</td>\n",
              "      <td>1784.420446</td>\n",
              "      <td>2002.650192</td>\n",
              "      <td>3806.485316</td>\n",
              "      <td>0.083066</td>\n",
              "      <td>-113.596748</td>\n",
              "      <td>121.557297</td>\n",
              "      <td>-19.158825</td>\n",
              "      <td>42.351032</td>\n",
              "      <td>...</td>\n",
              "      <td>8.810669</td>\n",
              "      <td>-3.667368</td>\n",
              "      <td>5.751691</td>\n",
              "      <td>-5.162763</td>\n",
              "      <td>0.750948</td>\n",
              "      <td>-1.691938</td>\n",
              "      <td>-0.409953</td>\n",
              "      <td>-2.300209</td>\n",
              "      <td>1.219929</td>\n",
              "      <td>blues</td>\n",
              "    </tr>\n",
              "    <tr>\n",
              "      <th>1</th>\n",
              "      <td>blues.00001.wav</td>\n",
              "      <td>0.340983</td>\n",
              "      <td>1529.835316</td>\n",
              "      <td>2038.617579</td>\n",
              "      <td>3548.820207</td>\n",
              "      <td>0.056044</td>\n",
              "      <td>-207.556793</td>\n",
              "      <td>124.006721</td>\n",
              "      <td>8.930560</td>\n",
              "      <td>35.874687</td>\n",
              "      <td>...</td>\n",
              "      <td>5.376803</td>\n",
              "      <td>-2.239120</td>\n",
              "      <td>4.216963</td>\n",
              "      <td>-6.012273</td>\n",
              "      <td>0.936109</td>\n",
              "      <td>-0.716537</td>\n",
              "      <td>0.293876</td>\n",
              "      <td>-0.287431</td>\n",
              "      <td>0.531573</td>\n",
              "      <td>blues</td>\n",
              "    </tr>\n",
              "    <tr>\n",
              "      <th>2</th>\n",
              "      <td>blues.00002.wav</td>\n",
              "      <td>0.363603</td>\n",
              "      <td>1552.481958</td>\n",
              "      <td>1747.165985</td>\n",
              "      <td>3040.514948</td>\n",
              "      <td>0.076301</td>\n",
              "      <td>-90.754387</td>\n",
              "      <td>140.459900</td>\n",
              "      <td>-29.109968</td>\n",
              "      <td>31.689013</td>\n",
              "      <td>...</td>\n",
              "      <td>5.789265</td>\n",
              "      <td>-8.905224</td>\n",
              "      <td>-1.083720</td>\n",
              "      <td>-9.218359</td>\n",
              "      <td>2.455806</td>\n",
              "      <td>-7.726901</td>\n",
              "      <td>-1.815723</td>\n",
              "      <td>-3.433434</td>\n",
              "      <td>-2.226821</td>\n",
              "      <td>blues</td>\n",
              "    </tr>\n",
              "    <tr>\n",
              "      <th>3</th>\n",
              "      <td>blues.00003.wav</td>\n",
              "      <td>0.404779</td>\n",
              "      <td>1070.119953</td>\n",
              "      <td>1596.333948</td>\n",
              "      <td>2185.028454</td>\n",
              "      <td>0.033309</td>\n",
              "      <td>-199.431152</td>\n",
              "      <td>150.099213</td>\n",
              "      <td>5.647593</td>\n",
              "      <td>26.871927</td>\n",
              "      <td>...</td>\n",
              "      <td>6.087677</td>\n",
              "      <td>-2.476421</td>\n",
              "      <td>-1.073890</td>\n",
              "      <td>-2.874778</td>\n",
              "      <td>0.780977</td>\n",
              "      <td>-3.316932</td>\n",
              "      <td>0.637982</td>\n",
              "      <td>-0.619690</td>\n",
              "      <td>-3.408233</td>\n",
              "      <td>blues</td>\n",
              "    </tr>\n",
              "    <tr>\n",
              "      <th>4</th>\n",
              "      <td>blues.00004.wav</td>\n",
              "      <td>0.308590</td>\n",
              "      <td>1835.494603</td>\n",
              "      <td>1748.362448</td>\n",
              "      <td>3580.945013</td>\n",
              "      <td>0.101500</td>\n",
              "      <td>-160.266037</td>\n",
              "      <td>126.198807</td>\n",
              "      <td>-35.605450</td>\n",
              "      <td>22.153301</td>\n",
              "      <td>...</td>\n",
              "      <td>-2.806384</td>\n",
              "      <td>-6.934123</td>\n",
              "      <td>-7.558618</td>\n",
              "      <td>-9.173553</td>\n",
              "      <td>-4.512165</td>\n",
              "      <td>-5.453538</td>\n",
              "      <td>-0.924161</td>\n",
              "      <td>-4.409333</td>\n",
              "      <td>-11.703781</td>\n",
              "      <td>blues</td>\n",
              "    </tr>\n",
              "    <tr>\n",
              "      <th>...</th>\n",
              "      <td>...</td>\n",
              "      <td>...</td>\n",
              "      <td>...</td>\n",
              "      <td>...</td>\n",
              "      <td>...</td>\n",
              "      <td>...</td>\n",
              "      <td>...</td>\n",
              "      <td>...</td>\n",
              "      <td>...</td>\n",
              "      <td>...</td>\n",
              "      <td>...</td>\n",
              "      <td>...</td>\n",
              "      <td>...</td>\n",
              "      <td>...</td>\n",
              "      <td>...</td>\n",
              "      <td>...</td>\n",
              "      <td>...</td>\n",
              "      <td>...</td>\n",
              "      <td>...</td>\n",
              "      <td>...</td>\n",
              "      <td>...</td>\n",
              "    </tr>\n",
              "    <tr>\n",
              "      <th>995</th>\n",
              "      <td>rock.00095.wav</td>\n",
              "      <td>0.351991</td>\n",
              "      <td>2008.581132</td>\n",
              "      <td>2106.617024</td>\n",
              "      <td>4254.215942</td>\n",
              "      <td>0.089267</td>\n",
              "      <td>-153.632309</td>\n",
              "      <td>109.857262</td>\n",
              "      <td>-23.085709</td>\n",
              "      <td>59.040672</td>\n",
              "      <td>...</td>\n",
              "      <td>12.350818</td>\n",
              "      <td>-12.306271</td>\n",
              "      <td>5.780973</td>\n",
              "      <td>-10.279924</td>\n",
              "      <td>1.791489</td>\n",
              "      <td>-13.304210</td>\n",
              "      <td>2.473193</td>\n",
              "      <td>-6.717574</td>\n",
              "      <td>-1.189238</td>\n",
              "      <td>rock</td>\n",
              "    </tr>\n",
              "    <tr>\n",
              "      <th>996</th>\n",
              "      <td>rock.00096.wav</td>\n",
              "      <td>0.398653</td>\n",
              "      <td>2006.051164</td>\n",
              "      <td>2068.327905</td>\n",
              "      <td>4147.374921</td>\n",
              "      <td>0.097659</td>\n",
              "      <td>-142.424210</td>\n",
              "      <td>116.219780</td>\n",
              "      <td>-32.177074</td>\n",
              "      <td>49.122971</td>\n",
              "      <td>...</td>\n",
              "      <td>14.065345</td>\n",
              "      <td>-16.394691</td>\n",
              "      <td>4.152589</td>\n",
              "      <td>-4.350760</td>\n",
              "      <td>3.736455</td>\n",
              "      <td>-10.845638</td>\n",
              "      <td>1.875218</td>\n",
              "      <td>-7.459579</td>\n",
              "      <td>-2.802677</td>\n",
              "      <td>rock</td>\n",
              "    </tr>\n",
              "    <tr>\n",
              "      <th>997</th>\n",
              "      <td>rock.00097.wav</td>\n",
              "      <td>0.432103</td>\n",
              "      <td>2077.190361</td>\n",
              "      <td>1926.989678</td>\n",
              "      <td>4030.767293</td>\n",
              "      <td>0.121824</td>\n",
              "      <td>-125.031326</td>\n",
              "      <td>115.194977</td>\n",
              "      <td>-47.993507</td>\n",
              "      <td>52.834530</td>\n",
              "      <td>...</td>\n",
              "      <td>10.481961</td>\n",
              "      <td>-17.951916</td>\n",
              "      <td>1.211113</td>\n",
              "      <td>-11.534864</td>\n",
              "      <td>1.844774</td>\n",
              "      <td>-12.847901</td>\n",
              "      <td>3.447425</td>\n",
              "      <td>-12.594178</td>\n",
              "      <td>-2.107002</td>\n",
              "      <td>rock</td>\n",
              "    </tr>\n",
              "    <tr>\n",
              "      <th>998</th>\n",
              "      <td>rock.00098.wav</td>\n",
              "      <td>0.362349</td>\n",
              "      <td>1398.672358</td>\n",
              "      <td>1818.148469</td>\n",
              "      <td>3014.740104</td>\n",
              "      <td>0.048731</td>\n",
              "      <td>-224.972305</td>\n",
              "      <td>123.656891</td>\n",
              "      <td>-9.754534</td>\n",
              "      <td>56.595062</td>\n",
              "      <td>...</td>\n",
              "      <td>7.683082</td>\n",
              "      <td>-10.071787</td>\n",
              "      <td>-0.255098</td>\n",
              "      <td>-5.276486</td>\n",
              "      <td>-2.816288</td>\n",
              "      <td>-4.416438</td>\n",
              "      <td>1.558265</td>\n",
              "      <td>-5.043121</td>\n",
              "      <td>-3.585596</td>\n",
              "      <td>rock</td>\n",
              "    </tr>\n",
              "    <tr>\n",
              "      <th>999</th>\n",
              "      <td>rock.00099.wav</td>\n",
              "      <td>0.358195</td>\n",
              "      <td>1609.442919</td>\n",
              "      <td>1797.065098</td>\n",
              "      <td>3246.280370</td>\n",
              "      <td>0.076290</td>\n",
              "      <td>-235.189331</td>\n",
              "      <td>123.888542</td>\n",
              "      <td>-22.536184</td>\n",
              "      <td>52.915512</td>\n",
              "      <td>...</td>\n",
              "      <td>10.066769</td>\n",
              "      <td>-15.019588</td>\n",
              "      <td>3.110468</td>\n",
              "      <td>-7.127754</td>\n",
              "      <td>1.784515</td>\n",
              "      <td>-7.070405</td>\n",
              "      <td>0.023643</td>\n",
              "      <td>-2.022034</td>\n",
              "      <td>1.158525</td>\n",
              "      <td>rock</td>\n",
              "    </tr>\n",
              "  </tbody>\n",
              "</table>\n",
              "<p>1000 rows × 27 columns</p>\n",
              "</div>"
            ],
            "text/plain": [
              "            filename  chroma_stft  spectral_centroid  spectral_bandwidth  \\\n",
              "0    blues.00000.wav     0.349943        1784.420446         2002.650192   \n",
              "1    blues.00001.wav     0.340983        1529.835316         2038.617579   \n",
              "2    blues.00002.wav     0.363603        1552.481958         1747.165985   \n",
              "3    blues.00003.wav     0.404779        1070.119953         1596.333948   \n",
              "4    blues.00004.wav     0.308590        1835.494603         1748.362448   \n",
              "..               ...          ...                ...                 ...   \n",
              "995   rock.00095.wav     0.351991        2008.581132         2106.617024   \n",
              "996   rock.00096.wav     0.398653        2006.051164         2068.327905   \n",
              "997   rock.00097.wav     0.432103        2077.190361         1926.989678   \n",
              "998   rock.00098.wav     0.362349        1398.672358         1818.148469   \n",
              "999   rock.00099.wav     0.358195        1609.442919         1797.065098   \n",
              "\n",
              "         rolloff  zero_crossing_rate       mfcc1       mfcc2      mfcc3  \\\n",
              "0    3806.485316            0.083066 -113.596748  121.557297 -19.158825   \n",
              "1    3548.820207            0.056044 -207.556793  124.006721   8.930560   \n",
              "2    3040.514948            0.076301  -90.754387  140.459900 -29.109968   \n",
              "3    2185.028454            0.033309 -199.431152  150.099213   5.647593   \n",
              "4    3580.945013            0.101500 -160.266037  126.198807 -35.605450   \n",
              "..           ...                 ...         ...         ...        ...   \n",
              "995  4254.215942            0.089267 -153.632309  109.857262 -23.085709   \n",
              "996  4147.374921            0.097659 -142.424210  116.219780 -32.177074   \n",
              "997  4030.767293            0.121824 -125.031326  115.194977 -47.993507   \n",
              "998  3014.740104            0.048731 -224.972305  123.656891  -9.754534   \n",
              "999  3246.280370            0.076290 -235.189331  123.888542 -22.536184   \n",
              "\n",
              "         mfcc4  ...     mfcc12     mfcc13    mfcc14     mfcc15    mfcc16  \\\n",
              "0    42.351032  ...   8.810669  -3.667368  5.751691  -5.162763  0.750948   \n",
              "1    35.874687  ...   5.376803  -2.239120  4.216963  -6.012273  0.936109   \n",
              "2    31.689013  ...   5.789265  -8.905224 -1.083720  -9.218359  2.455806   \n",
              "3    26.871927  ...   6.087677  -2.476421 -1.073890  -2.874778  0.780977   \n",
              "4    22.153301  ...  -2.806384  -6.934123 -7.558618  -9.173553 -4.512165   \n",
              "..         ...  ...        ...        ...       ...        ...       ...   \n",
              "995  59.040672  ...  12.350818 -12.306271  5.780973 -10.279924  1.791489   \n",
              "996  49.122971  ...  14.065345 -16.394691  4.152589  -4.350760  3.736455   \n",
              "997  52.834530  ...  10.481961 -17.951916  1.211113 -11.534864  1.844774   \n",
              "998  56.595062  ...   7.683082 -10.071787 -0.255098  -5.276486 -2.816288   \n",
              "999  52.915512  ...  10.066769 -15.019588  3.110468  -7.127754  1.784515   \n",
              "\n",
              "        mfcc17    mfcc18     mfcc19     mfcc20  label  \n",
              "0    -1.691938 -0.409953  -2.300209   1.219929  blues  \n",
              "1    -0.716537  0.293876  -0.287431   0.531573  blues  \n",
              "2    -7.726901 -1.815723  -3.433434  -2.226821  blues  \n",
              "3    -3.316932  0.637982  -0.619690  -3.408233  blues  \n",
              "4    -5.453538 -0.924161  -4.409333 -11.703781  blues  \n",
              "..         ...       ...        ...        ...    ...  \n",
              "995 -13.304210  2.473193  -6.717574  -1.189238   rock  \n",
              "996 -10.845638  1.875218  -7.459579  -2.802677   rock  \n",
              "997 -12.847901  3.447425 -12.594178  -2.107002   rock  \n",
              "998  -4.416438  1.558265  -5.043121  -3.585596   rock  \n",
              "999  -7.070405  0.023643  -2.022034   1.158525   rock  \n",
              "\n",
              "[1000 rows x 27 columns]"
            ]
          },
          "metadata": {
            "tags": []
          },
          "execution_count": 194
        }
      ]
    },
    {
      "cell_type": "code",
      "metadata": {
        "id": "hPeOLiKpqNCI",
        "colab_type": "code",
        "colab": {}
      },
      "source": [
        "data = data.drop(['filename'],axis=1)"
      ],
      "execution_count": null,
      "outputs": []
    },
    {
      "cell_type": "markdown",
      "metadata": {
        "id": "vMeDhd0NqNCL",
        "colab_type": "text"
      },
      "source": [
        "Now we encode the labels into categorical integers:"
      ]
    },
    {
      "cell_type": "code",
      "metadata": {
        "id": "Kahb2vhFqNCL",
        "colab_type": "code",
        "colab": {}
      },
      "source": [
        "genre_list = data.iloc[:, -1] #-1\n",
        "encoder = LabelEncoder()\n",
        "y = encoder.fit_transform(genre_list)"
      ],
      "execution_count": null,
      "outputs": []
    },
    {
      "cell_type": "code",
      "metadata": {
        "scrolled": true,
        "id": "Q9O1c5OgqNCO",
        "colab_type": "code",
        "colab": {},
        "outputId": "3c74d00b-da97-4a3d-ab4e-af6d2e9262b3"
      },
      "source": [
        "y"
      ],
      "execution_count": null,
      "outputs": [
        {
          "output_type": "execute_result",
          "data": {
            "text/plain": [
              "array([0, 0, 0, 0, 0, 0, 0, 0, 0, 0, 0, 0, 0, 0, 0, 0, 0, 0, 0, 0, 0, 0,\n",
              "       0, 0, 0, 0, 0, 0, 0, 0, 0, 0, 0, 0, 0, 0, 0, 0, 0, 0, 0, 0, 0, 0,\n",
              "       0, 0, 0, 0, 0, 0, 0, 0, 0, 0, 0, 0, 0, 0, 0, 0, 0, 0, 0, 0, 0, 0,\n",
              "       0, 0, 0, 0, 0, 0, 0, 0, 0, 0, 0, 0, 0, 0, 0, 0, 0, 0, 0, 0, 0, 0,\n",
              "       0, 0, 0, 0, 0, 0, 0, 0, 0, 0, 0, 0, 1, 1, 1, 1, 1, 1, 1, 1, 1, 1,\n",
              "       1, 1, 1, 1, 1, 1, 1, 1, 1, 1, 1, 1, 1, 1, 1, 1, 1, 1, 1, 1, 1, 1,\n",
              "       1, 1, 1, 1, 1, 1, 1, 1, 1, 1, 1, 1, 1, 1, 1, 1, 1, 1, 1, 1, 1, 1,\n",
              "       1, 1, 1, 1, 1, 1, 1, 1, 1, 1, 1, 1, 1, 1, 1, 1, 1, 1, 1, 1, 1, 1,\n",
              "       1, 1, 1, 1, 1, 1, 1, 1, 1, 1, 1, 1, 1, 1, 1, 1, 1, 1, 1, 1, 1, 1,\n",
              "       1, 1, 2, 2, 2, 2, 2, 2, 2, 2, 2, 2, 2, 2, 2, 2, 2, 2, 2, 2, 2, 2,\n",
              "       2, 2, 2, 2, 2, 2, 2, 2, 2, 2, 2, 2, 2, 2, 2, 2, 2, 2, 2, 2, 2, 2,\n",
              "       2, 2, 2, 2, 2, 2, 2, 2, 2, 2, 2, 2, 2, 2, 2, 2, 2, 2, 2, 2, 2, 2,\n",
              "       2, 2, 2, 2, 2, 2, 2, 2, 2, 2, 2, 2, 2, 2, 2, 2, 2, 2, 2, 2, 2, 2,\n",
              "       2, 2, 2, 2, 2, 2, 2, 2, 2, 2, 2, 2, 2, 2, 3, 3, 3, 3, 3, 3, 3, 3,\n",
              "       3, 3, 3, 3, 3, 3, 3, 3, 3, 3, 3, 3, 3, 3, 3, 3, 3, 3, 3, 3, 3, 3,\n",
              "       3, 3, 3, 3, 3, 3, 3, 3, 3, 3, 3, 3, 3, 3, 3, 3, 3, 3, 3, 3, 3, 3,\n",
              "       3, 3, 3, 3, 3, 3, 3, 3, 3, 3, 3, 3, 3, 3, 3, 3, 3, 3, 3, 3, 3, 3,\n",
              "       3, 3, 3, 3, 3, 3, 3, 3, 3, 3, 3, 3, 3, 3, 3, 3, 3, 3, 3, 3, 3, 3,\n",
              "       3, 3, 3, 3, 4, 4, 4, 4, 4, 4, 4, 4, 4, 4, 4, 4, 4, 4, 4, 4, 4, 4,\n",
              "       4, 4, 4, 4, 4, 4, 4, 4, 4, 4, 4, 4, 4, 4, 4, 4, 4, 4, 4, 4, 4, 4,\n",
              "       4, 4, 4, 4, 4, 4, 4, 4, 4, 4, 4, 4, 4, 4, 4, 4, 4, 4, 4, 4, 4, 4,\n",
              "       4, 4, 4, 4, 4, 4, 4, 4, 4, 4, 4, 4, 4, 4, 4, 4, 4, 4, 4, 4, 4, 4,\n",
              "       4, 4, 4, 4, 4, 4, 4, 4, 4, 4, 4, 4, 4, 4, 4, 4, 5, 5, 5, 5, 5, 5,\n",
              "       5, 5, 5, 5, 5, 5, 5, 5, 5, 5, 5, 5, 5, 5, 5, 5, 5, 5, 5, 5, 5, 5,\n",
              "       5, 5, 5, 5, 5, 5, 5, 5, 5, 5, 5, 5, 5, 5, 5, 5, 5, 5, 5, 5, 5, 5,\n",
              "       5, 5, 5, 5, 5, 5, 5, 5, 5, 5, 5, 5, 5, 5, 5, 5, 5, 5, 5, 5, 5, 5,\n",
              "       5, 5, 5, 5, 5, 5, 5, 5, 5, 5, 5, 5, 5, 5, 5, 5, 5, 5, 5, 5, 5, 5,\n",
              "       5, 5, 5, 5, 5, 5, 6, 6, 6, 6, 6, 6, 6, 6, 6, 6, 6, 6, 6, 6, 6, 6,\n",
              "       6, 6, 6, 6, 6, 6, 6, 6, 6, 6, 6, 6, 6, 6, 6, 6, 6, 6, 6, 6, 6, 6,\n",
              "       6, 6, 6, 6, 6, 6, 6, 6, 6, 6, 6, 6, 6, 6, 6, 6, 6, 6, 6, 6, 6, 6,\n",
              "       6, 6, 6, 6, 6, 6, 6, 6, 6, 6, 6, 6, 6, 6, 6, 6, 6, 6, 6, 6, 6, 6,\n",
              "       6, 6, 6, 6, 6, 6, 6, 6, 6, 6, 6, 6, 6, 6, 6, 6, 6, 6, 7, 7, 7, 7,\n",
              "       7, 7, 7, 7, 7, 7, 7, 7, 7, 7, 7, 7, 7, 7, 7, 7, 7, 7, 7, 7, 7, 7,\n",
              "       7, 7, 7, 7, 7, 7, 7, 7, 7, 7, 7, 7, 7, 7, 7, 7, 7, 7, 7, 7, 7, 7,\n",
              "       7, 7, 7, 7, 7, 7, 7, 7, 7, 7, 7, 7, 7, 7, 7, 7, 7, 7, 7, 7, 7, 7,\n",
              "       7, 7, 7, 7, 7, 7, 7, 7, 7, 7, 7, 7, 7, 7, 7, 7, 7, 7, 7, 7, 7, 7,\n",
              "       7, 7, 7, 7, 7, 7, 7, 7, 8, 8, 8, 8, 8, 8, 8, 8, 8, 8, 8, 8, 8, 8,\n",
              "       8, 8, 8, 8, 8, 8, 8, 8, 8, 8, 8, 8, 8, 8, 8, 8, 8, 8, 8, 8, 8, 8,\n",
              "       8, 8, 8, 8, 8, 8, 8, 8, 8, 8, 8, 8, 8, 8, 8, 8, 8, 8, 8, 8, 8, 8,\n",
              "       8, 8, 8, 8, 8, 8, 8, 8, 8, 8, 8, 8, 8, 8, 8, 8, 8, 8, 8, 8, 8, 8,\n",
              "       8, 8, 8, 8, 8, 8, 8, 8, 8, 8, 8, 8, 8, 8, 8, 8, 8, 8, 8, 8, 9, 9,\n",
              "       9, 9, 9, 9, 9, 9, 9, 9, 9, 9, 9, 9, 9, 9, 9, 9, 9, 9, 9, 9, 9, 9,\n",
              "       9, 9, 9, 9, 9, 9, 9, 9, 9, 9, 9, 9, 9, 9, 9, 9, 9, 9, 9, 9, 9, 9,\n",
              "       9, 9, 9, 9, 9, 9, 9, 9, 9, 9, 9, 9, 9, 9, 9, 9, 9, 9, 9, 9, 9, 9,\n",
              "       9, 9, 9, 9, 9, 9, 9, 9, 9, 9, 9, 9, 9, 9, 9, 9, 9, 9, 9, 9, 9, 9,\n",
              "       9, 9, 9, 9, 9, 9, 9, 9, 9, 9])"
            ]
          },
          "metadata": {
            "tags": []
          },
          "execution_count": 127
        }
      ]
    },
    {
      "cell_type": "markdown",
      "metadata": {
        "id": "lt0y9Q6KqNCS",
        "colab_type": "text"
      },
      "source": [
        "And we scale all features btw range 1 and -1. Now all coefficients will be normalized. "
      ]
    },
    {
      "cell_type": "code",
      "metadata": {
        "id": "OGG5bL6MqNCT",
        "colab_type": "code",
        "colab": {}
      },
      "source": [
        "scaler = StandardScaler()\n",
        "X = scaler.fit_transform(np.array(data.iloc[:, :-2], dtype = float))  #-1"
      ],
      "execution_count": null,
      "outputs": []
    },
    {
      "cell_type": "code",
      "metadata": {
        "scrolled": true,
        "id": "BMQAgmUvqNCX",
        "colab_type": "code",
        "colab": {},
        "outputId": "406218be-aac2-488e-dfd6-299af0c5c031"
      },
      "source": [
        "X"
      ],
      "execution_count": null,
      "outputs": [
        {
          "output_type": "execute_result",
          "data": {
            "text/plain": [
              "array([[-0.35174835, -0.58330334, -0.45603703, ...,  0.50028706,\n",
              "        -0.23719143,  0.00761125],\n",
              "       [-0.46146555, -0.93906628, -0.38766764, ...,  0.71473745,\n",
              "        -0.05518971,  0.54382356],\n",
              "       [-0.18448354, -0.90741936, -0.94167974, ..., -0.82655262,\n",
              "        -0.60070696, -0.29428465],\n",
              "       ...,\n",
              "       [ 0.6543177 , -0.17418012, -0.59985796, ..., -1.95244951,\n",
              "         0.76028073, -2.73474442],\n",
              "       [-0.19983743, -1.12235633, -0.80675114, ..., -0.09871815,\n",
              "         0.27176634, -0.72311177],\n",
              "       [-0.25070237, -0.82782084, -0.84682792, ..., -0.68221609,\n",
              "        -0.1250688 ,  0.08171812]])"
            ]
          },
          "metadata": {
            "tags": []
          },
          "execution_count": 129
        }
      ]
    },
    {
      "cell_type": "markdown",
      "metadata": {
        "id": "H3xw0irsqNCa",
        "colab_type": "text"
      },
      "source": [
        "Now we need to split our data into train and test samples. We will follow the traditional approach, 80 % for training ans 20 % for testing"
      ]
    },
    {
      "cell_type": "code",
      "metadata": {
        "id": "VSKFvxwMqNCa",
        "colab_type": "code",
        "colab": {}
      },
      "source": [
        "X_train, X_test, y_train, y_test = train_test_split(X, y, test_size=0.2)"
      ],
      "execution_count": null,
      "outputs": []
    },
    {
      "cell_type": "markdown",
      "metadata": {
        "id": "1nWDgyHYqNCh",
        "colab_type": "text"
      },
      "source": [
        "Its time to build our classification model. We will use Keras. The activation function, since our purpose is based on a single label targeted but multiple classes to work with, is 'softmax'."
      ]
    },
    {
      "cell_type": "code",
      "metadata": {
        "id": "jOMYYQErqNCi",
        "colab_type": "code",
        "colab": {}
      },
      "source": [
        "from keras import models\n",
        "from keras import layers\n",
        "\n",
        "model = models.Sequential()\n",
        "model.add(layers.Dense(256, activation='relu', input_shape=(X_train.shape[1],)))\n",
        "\n",
        "model.add(layers.Dense(128, activation='relu'))\n",
        "\n",
        "model.add(layers.Dense(64, activation='relu'))\n",
        "\n",
        "model.add(layers.Dense(10, activation='softmax'))"
      ],
      "execution_count": null,
      "outputs": []
    },
    {
      "cell_type": "code",
      "metadata": {
        "id": "b6i0mgFqqNCk",
        "colab_type": "code",
        "colab": {}
      },
      "source": [
        "model.compile(optimizer='adam',\n",
        "              loss='sparse_categorical_crossentropy',\n",
        "              metrics=['accuracy'])"
      ],
      "execution_count": null,
      "outputs": []
    },
    {
      "cell_type": "markdown",
      "metadata": {
        "id": "p2O4bz-cqNCn",
        "colab_type": "raw"
      },
      "source": [
        "Our cicle has 20 epochs to perform training and we divide our training set into 128 mini batches."
      ]
    },
    {
      "cell_type": "code",
      "metadata": {
        "id": "n9twMeWqqNCo",
        "colab_type": "code",
        "colab": {},
        "outputId": "510ad0cd-5d04-40dc-c416-ab72bc34db9e"
      },
      "source": [
        "history = model.fit(X_train,\n",
        "                    y_train,\n",
        "                    epochs=20,\n",
        "                    batch_size=128)"
      ],
      "execution_count": null,
      "outputs": [
        {
          "output_type": "stream",
          "text": [
            "Epoch 1/20\n",
            "800/800 [==============================] - 0s 152us/step - loss: 2.1674 - accuracy: 0.2163\n",
            "Epoch 2/20\n",
            "800/800 [==============================] - 0s 19us/step - loss: 1.8568 - accuracy: 0.3663\n",
            "Epoch 3/20\n",
            "800/800 [==============================] - 0s 21us/step - loss: 1.6319 - accuracy: 0.4150\n",
            "Epoch 4/20\n",
            "800/800 [==============================] - 0s 21us/step - loss: 1.4701 - accuracy: 0.4725\n",
            "Epoch 5/20\n",
            "800/800 [==============================] - 0s 21us/step - loss: 1.3525 - accuracy: 0.5200\n",
            "Epoch 6/20\n",
            "800/800 [==============================] - 0s 25us/step - loss: 1.2492 - accuracy: 0.5663\n",
            "Epoch 7/20\n",
            "800/800 [==============================] - 0s 21us/step - loss: 1.1621 - accuracy: 0.6162\n",
            "Epoch 8/20\n",
            "800/800 [==============================] - 0s 19us/step - loss: 1.0921 - accuracy: 0.6288\n",
            "Epoch 9/20\n",
            "800/800 [==============================] - 0s 20us/step - loss: 1.0283 - accuracy: 0.6612\n",
            "Epoch 10/20\n",
            "800/800 [==============================] - 0s 20us/step - loss: 0.9819 - accuracy: 0.6775\n",
            "Epoch 11/20\n",
            "800/800 [==============================] - 0s 20us/step - loss: 0.9182 - accuracy: 0.7063\n",
            "Epoch 12/20\n",
            "800/800 [==============================] - 0s 22us/step - loss: 0.8795 - accuracy: 0.7013\n",
            "Epoch 13/20\n",
            "800/800 [==============================] - 0s 21us/step - loss: 0.8324 - accuracy: 0.7375\n",
            "Epoch 14/20\n",
            "800/800 [==============================] - 0s 21us/step - loss: 0.8160 - accuracy: 0.7287\n",
            "Epoch 15/20\n",
            "800/800 [==============================] - 0s 21us/step - loss: 0.7651 - accuracy: 0.7575\n",
            "Epoch 16/20\n",
            "800/800 [==============================] - 0s 21us/step - loss: 0.7369 - accuracy: 0.7500\n",
            "Epoch 17/20\n",
            "800/800 [==============================] - 0s 25us/step - loss: 0.6947 - accuracy: 0.7950\n",
            "Epoch 18/20\n",
            "800/800 [==============================] - 0s 21us/step - loss: 0.6766 - accuracy: 0.7900\n",
            "Epoch 19/20\n",
            "800/800 [==============================] - 0s 20us/step - loss: 0.6351 - accuracy: 0.8050\n",
            "Epoch 20/20\n",
            "800/800 [==============================] - 0s 21us/step - loss: 0.6028 - accuracy: 0.8163\n"
          ],
          "name": "stdout"
        }
      ]
    },
    {
      "cell_type": "code",
      "metadata": {
        "scrolled": true,
        "id": "_j6XisFjqNCr",
        "colab_type": "code",
        "colab": {},
        "outputId": "f1b1e4fd-ffd9-4577-b1eb-cd48c5d7c9d1"
      },
      "source": [
        "test_loss, test_acc = model.evaluate(X_test,y_test)"
      ],
      "execution_count": null,
      "outputs": [
        {
          "output_type": "stream",
          "text": [
            "200/200 [==============================] - 0s 244us/step\n"
          ],
          "name": "stdout"
        }
      ]
    },
    {
      "cell_type": "code",
      "metadata": {
        "id": "hI9oD_sHqNCu",
        "colab_type": "code",
        "colab": {},
        "outputId": "1a429d70-11f4-459b-cf02-07ab78aaa1a7"
      },
      "source": [
        "print('test_acc: ',test_acc)"
      ],
      "execution_count": null,
      "outputs": [
        {
          "output_type": "stream",
          "text": [
            "test_acc:  0.7200000286102295\n"
          ],
          "name": "stdout"
        }
      ]
    },
    {
      "cell_type": "markdown",
      "metadata": {
        "id": "D7rvOuNVqNCw",
        "colab_type": "text"
      },
      "source": [
        "Test accuracy is a bit higher than our loss, so we think we are heading in a good direction, avoiding overfitting."
      ]
    },
    {
      "cell_type": "markdown",
      "metadata": {
        "id": "DmHaA5IwqNCx",
        "colab_type": "text"
      },
      "source": [
        "That is why we approach now the validation of this approach. We split the test into 200 samples for validation."
      ]
    },
    {
      "cell_type": "code",
      "metadata": {
        "id": "0f0XboVlqNCx",
        "colab_type": "code",
        "colab": {}
      },
      "source": [
        "x_val = X_train[:200]\n",
        "partial_x_train = X_train[200:]\n",
        "\n",
        "y_val = y_train[:200]\n",
        "partial_y_train = y_train[200:]"
      ],
      "execution_count": null,
      "outputs": []
    },
    {
      "cell_type": "code",
      "metadata": {
        "scrolled": false,
        "id": "Vi4-qCLQqNC0",
        "colab_type": "code",
        "colab": {},
        "outputId": "cf06c256-191d-45bf-b26e-713124ec89fe"
      },
      "source": [
        "model = models.Sequential()\n",
        "model.add(layers.Dense(512, activation='relu', input_shape=(X_train.shape[1],)))\n",
        "model.add(layers.Dense(256, activation='relu'))\n",
        "model.add(layers.Dense(128, activation='relu'))\n",
        "model.add(layers.Dense(64, activation='relu'))\n",
        "model.add(layers.Dense(10, activation='softmax'))\n",
        "\n",
        "model.compile(optimizer='adam',\n",
        "              loss='sparse_categorical_crossentropy',\n",
        "              metrics=['accuracy'])\n",
        "\n",
        "history=model.fit(partial_x_train,\n",
        "          partial_y_train,\n",
        "          epochs=30,\n",
        "          batch_size=512,\n",
        "          validation_data=(x_val, y_val))\n",
        "results = model.evaluate(X_test, y_test)"
      ],
      "execution_count": null,
      "outputs": [
        {
          "output_type": "stream",
          "text": [
            "Train on 600 samples, validate on 200 samples\n",
            "Epoch 1/30\n",
            "600/600 [==============================] - 0s 335us/step - loss: 2.2911 - accuracy: 0.1383 - val_loss: 2.1982 - val_accuracy: 0.3150\n",
            "Epoch 2/30\n",
            "600/600 [==============================] - 0s 17us/step - loss: 2.1764 - accuracy: 0.3367 - val_loss: 2.1019 - val_accuracy: 0.3550\n",
            "Epoch 3/30\n",
            "600/600 [==============================] - 0s 17us/step - loss: 2.0676 - accuracy: 0.3933 - val_loss: 1.9898 - val_accuracy: 0.3650\n",
            "Epoch 4/30\n",
            "600/600 [==============================] - 0s 17us/step - loss: 1.9384 - accuracy: 0.4067 - val_loss: 1.8866 - val_accuracy: 0.3750\n",
            "Epoch 5/30\n",
            "600/600 [==============================] - 0s 17us/step - loss: 1.8118 - accuracy: 0.4250 - val_loss: 1.7799 - val_accuracy: 0.3800\n",
            "Epoch 6/30\n",
            "600/600 [==============================] - 0s 17us/step - loss: 1.6848 - accuracy: 0.4383 - val_loss: 1.6796 - val_accuracy: 0.3700\n",
            "Epoch 7/30\n",
            "600/600 [==============================] - 0s 20us/step - loss: 1.5680 - accuracy: 0.4483 - val_loss: 1.6147 - val_accuracy: 0.4350\n",
            "Epoch 8/30\n",
            "600/600 [==============================] - 0s 15us/step - loss: 1.4750 - accuracy: 0.4933 - val_loss: 1.5502 - val_accuracy: 0.4000\n",
            "Epoch 9/30\n",
            "600/600 [==============================] - 0s 18us/step - loss: 1.3858 - accuracy: 0.5350 - val_loss: 1.4435 - val_accuracy: 0.4300\n",
            "Epoch 10/30\n",
            "600/600 [==============================] - 0s 17us/step - loss: 1.3002 - accuracy: 0.5667 - val_loss: 1.3522 - val_accuracy: 0.5000\n",
            "Epoch 11/30\n",
            "600/600 [==============================] - 0s 17us/step - loss: 1.2354 - accuracy: 0.5883 - val_loss: 1.3346 - val_accuracy: 0.4850\n",
            "Epoch 12/30\n",
            "600/600 [==============================] - 0s 17us/step - loss: 1.1799 - accuracy: 0.5767 - val_loss: 1.3180 - val_accuracy: 0.5000\n",
            "Epoch 13/30\n",
            "600/600 [==============================] - 0s 18us/step - loss: 1.1100 - accuracy: 0.5983 - val_loss: 1.3062 - val_accuracy: 0.4850\n",
            "Epoch 14/30\n",
            "600/600 [==============================] - 0s 17us/step - loss: 1.0640 - accuracy: 0.6483 - val_loss: 1.2791 - val_accuracy: 0.5150\n",
            "Epoch 15/30\n",
            "600/600 [==============================] - 0s 15us/step - loss: 1.0129 - accuracy: 0.6700 - val_loss: 1.2451 - val_accuracy: 0.5200\n",
            "Epoch 16/30\n",
            "600/600 [==============================] - 0s 17us/step - loss: 0.9855 - accuracy: 0.6517 - val_loss: 1.2557 - val_accuracy: 0.5050\n",
            "Epoch 17/30\n",
            "600/600 [==============================] - 0s 17us/step - loss: 0.9505 - accuracy: 0.6883 - val_loss: 1.3012 - val_accuracy: 0.4850\n",
            "Epoch 18/30\n",
            "600/600 [==============================] - 0s 18us/step - loss: 0.9352 - accuracy: 0.6833 - val_loss: 1.2120 - val_accuracy: 0.5750\n",
            "Epoch 19/30\n",
            "600/600 [==============================] - 0s 15us/step - loss: 0.8744 - accuracy: 0.7000 - val_loss: 1.1851 - val_accuracy: 0.5750\n",
            "Epoch 20/30\n",
            "600/600 [==============================] - 0s 17us/step - loss: 0.8492 - accuracy: 0.6983 - val_loss: 1.2025 - val_accuracy: 0.5350\n",
            "Epoch 21/30\n",
            "600/600 [==============================] - 0s 17us/step - loss: 0.8028 - accuracy: 0.7300 - val_loss: 1.2698 - val_accuracy: 0.5250\n",
            "Epoch 22/30\n",
            "600/600 [==============================] - 0s 17us/step - loss: 0.8132 - accuracy: 0.7150 - val_loss: 1.1953 - val_accuracy: 0.5550\n",
            "Epoch 23/30\n",
            "600/600 [==============================] - 0s 17us/step - loss: 0.7553 - accuracy: 0.7517 - val_loss: 1.1949 - val_accuracy: 0.5750\n",
            "Epoch 24/30\n",
            "600/600 [==============================] - 0s 18us/step - loss: 0.7532 - accuracy: 0.7333 - val_loss: 1.1999 - val_accuracy: 0.5650\n",
            "Epoch 25/30\n",
            "600/600 [==============================] - 0s 17us/step - loss: 0.7091 - accuracy: 0.7717 - val_loss: 1.2398 - val_accuracy: 0.5400\n",
            "Epoch 26/30\n",
            "600/600 [==============================] - 0s 18us/step - loss: 0.7103 - accuracy: 0.7600 - val_loss: 1.1864 - val_accuracy: 0.5750\n",
            "Epoch 27/30\n",
            "600/600 [==============================] - 0s 18us/step - loss: 0.6798 - accuracy: 0.7650 - val_loss: 1.1704 - val_accuracy: 0.5950\n",
            "Epoch 28/30\n",
            "600/600 [==============================] - 0s 15us/step - loss: 0.6666 - accuracy: 0.7733 - val_loss: 1.1649 - val_accuracy: 0.5800\n",
            "Epoch 29/30\n",
            "600/600 [==============================] - 0s 18us/step - loss: 0.6319 - accuracy: 0.7950 - val_loss: 1.1854 - val_accuracy: 0.5700\n",
            "Epoch 30/30\n",
            "600/600 [==============================] - 0s 17us/step - loss: 0.6246 - accuracy: 0.7967 - val_loss: 1.1554 - val_accuracy: 0.6200\n",
            "200/200 [==============================] - 0s 50us/step\n"
          ],
          "name": "stdout"
        }
      ]
    },
    {
      "cell_type": "code",
      "metadata": {
        "id": "GOcbiYxBqNC3",
        "colab_type": "code",
        "colab": {},
        "outputId": "611ae66b-3691-47ff-bf1c-50bd8587398b"
      },
      "source": [
        "plt.plot(history.history['loss'])\n",
        "plt.plot(history.history['val_loss'])\n",
        "plt.legend(['train','validation'])\n",
        "plt.show()"
      ],
      "execution_count": null,
      "outputs": [
        {
          "output_type": "display_data",
          "data": {
            "image/png": "[encoded data removed]",
            "text/plain": [
              "<Figure size 432x288 with 1 Axes>"
            ]
          },
          "metadata": {
            "tags": [],
            "needs_background": "light"
          }
        }
      ]
    },
    {
      "cell_type": "markdown",
      "metadata": {
        "id": "Xf58op2OqNC4",
        "colab_type": "text"
      },
      "source": [
        "Our plot and results shows we don´t have the perfect learning, but there is no much overfitting. We decide to get on board a new song and see how the learner performs."
      ]
    },
    {
      "cell_type": "code",
      "metadata": {
        "id": "omhnKEtsqNC5",
        "colab_type": "code",
        "colab": {},
        "outputId": "9ce30445-6a08-4c46-8a37-f7a91852761f"
      },
      "source": [
        "results"
      ],
      "execution_count": null,
      "outputs": [
        {
          "output_type": "execute_result",
          "data": {
            "text/plain": [
              "[1.0412772846221925, 0.6349999904632568]"
            ]
          },
          "metadata": {
            "tags": []
          },
          "execution_count": 139
        }
      ]
    },
    {
      "cell_type": "markdown",
      "metadata": {
        "id": "h_N4Qi-RqNC7",
        "colab_type": "text"
      },
      "source": [
        "The elected is a song we both know as a clear rock potent song. We process it as we did arlier with the songs of out primal set,\n",
        "we extract its spectrogram, features coefficients and create a new .csv with it."
      ]
    },
    {
      "cell_type": "code",
      "metadata": {
        "id": "MPforHO6qNC7",
        "colab_type": "code",
        "colab": {},
        "outputId": "cbe2404f-8669-42df-c121-486ed4ec1e72"
      },
      "source": [
        "cmap = plt.get_cmap('inferno')\n",
        "\n",
        "plt.figure(figsize=(10,10))\n",
        "genres = 'blues classical country disco hiphop jazz metal pop reggae rock'.split()\n",
        "songname = f'./data/music_examples/temple_of_love-sisters_of_mercy.wav'\n",
        "y, sr = librosa.load(songname, mono=True, duration=5)\n",
        "plt.specgram(y, NFFT=2048, Fs=2, Fc=0, noverlap=128, cmap=cmap, sides='default', mode='default', scale='dB');\n",
        "plt.axis('off');\n",
        "plt.savefig(f'img_data/{g}/{filename[:-3].replace(\".\", \"\")}.png')\n",
        "plt.clf()\n",
        " "
      ],
      "execution_count": null,
      "outputs": [
        {
          "output_type": "display_data",
          "data": {
            "text/plain": [
              "<Figure size 720x720 with 0 Axes>"
            ]
          },
          "metadata": {
            "tags": []
          }
        }
      ]
    },
    {
      "cell_type": "code",
      "metadata": {
        "id": "ImpFO3VhqNC9",
        "colab_type": "code",
        "colab": {}
      },
      "source": [
        "header = 'filename chroma_stft spectral_centroid spectral_bandwidth rolloff zero_crossing_rate'\n",
        "for i in range(1, 21):\n",
        "    header += f' mfcc{i}'\n",
        "header += ' label'\n",
        "header = header.split()"
      ],
      "execution_count": null,
      "outputs": []
    },
    {
      "cell_type": "code",
      "metadata": {
        "id": "VY3qIOb2qNC_",
        "colab_type": "code",
        "colab": {}
      },
      "source": [
        "file = open('data_MYMUSIC2.csv', 'w', newline='')\n",
        "with file:\n",
        "    writer = csv.writer(file)\n",
        "    writer.writerow(header)\n",
        "genres = 'blues classical country disco hiphop jazz metal pop reggae rock'.split()\n",
        "songname = f'./data/music_examples/temple_of_love-sisters_of_mercy.wav'\n",
        "y, sr = librosa.load(songname, mono=True, duration=30)\n",
        "chroma_stft = librosa.feature.chroma_stft(y=y, sr=sr)\n",
        "spec_cent = librosa.feature.spectral_centroid(y=y, sr=sr)\n",
        "spec_bw = librosa.feature.spectral_bandwidth(y=y, sr=sr)\n",
        "rolloff = librosa.feature.spectral_rolloff(y=y, sr=sr)\n",
        "zcr = librosa.feature.zero_crossing_rate(y)\n",
        "mfcc = librosa.feature.mfcc(y=y, sr=sr, n_mfcc=20)\n",
        "#to_append = f'{filename} {np.mean(chroma_stft)} {np.mean(rmse)} {np.mean(spec_cent)} {np.mean(spec_bw)} {np.mean(rolloff)} {np.mean(zcr)}'    \n",
        "to_append = f'temple_of_love-sisters_of_mercy.wav {np.mean(chroma_stft)} {np.mean(spec_cent)} {np.mean(spec_bw)} {np.mean(rolloff)} {np.mean(zcr)}'    \n",
        "for e in mfcc:\n",
        "        to_append += f' {np.mean(e)}'\n",
        "file = open('data_MYMUSIC2.csv', 'a', newline='')\n",
        "with file:\n",
        "    writer = csv.writer(file)\n",
        "    writer.writerow(to_append.split())"
      ],
      "execution_count": null,
      "outputs": []
    },
    {
      "cell_type": "code",
      "metadata": {
        "id": "J9oWFDPMqNDC",
        "colab_type": "code",
        "colab": {},
        "outputId": "d6b2313e-25e4-4e73-878b-e6a4127625a2"
      },
      "source": [
        "mfcc"
      ],
      "execution_count": null,
      "outputs": [
        {
          "output_type": "execute_result",
          "data": {
            "text/plain": [
              "array([[-531.8293   , -531.8293   , -531.8293   , ...,  -41.77591  ,\n",
              "         -59.718346 ,  -72.18314  ],\n",
              "       [   0.       ,    0.       ,    0.       , ...,   79.5217   ,\n",
              "          91.169266 ,   93.27377  ],\n",
              "       [   0.       ,    0.       ,    0.       , ...,    8.179108 ,\n",
              "           9.071305 ,    7.4184675],\n",
              "       ...,\n",
              "       [   0.       ,    0.       ,    0.       , ...,    9.605041 ,\n",
              "           4.1489873,    1.817771 ],\n",
              "       [   0.       ,    0.       ,    0.       , ...,    3.6372166,\n",
              "           3.0379376,   -3.5994864],\n",
              "       [   0.       ,    0.       ,    0.       , ...,   -1.007509 ,\n",
              "          -1.6507684,   -6.283662 ]], dtype=float32)"
            ]
          },
          "metadata": {
            "tags": []
          },
          "execution_count": 147
        }
      ]
    },
    {
      "cell_type": "code",
      "metadata": {
        "id": "OmtIAPAzqNDE",
        "colab_type": "code",
        "colab": {}
      },
      "source": [
        "data2 = pd.read_csv('data_MYMUSIC2.csv')"
      ],
      "execution_count": null,
      "outputs": []
    },
    {
      "cell_type": "code",
      "metadata": {
        "scrolled": false,
        "id": "whxXMZm5qNDG",
        "colab_type": "code",
        "colab": {},
        "outputId": "fa858fcc-d277-43c7-de7b-edb8519577b6"
      },
      "source": [
        "data2.head()"
      ],
      "execution_count": null,
      "outputs": [
        {
          "output_type": "execute_result",
          "data": {
            "text/html": [
              "<div>\n",
              "<style scoped>\n",
              "    .dataframe tbody tr th:only-of-type {\n",
              "        vertical-align: middle;\n",
              "    }\n",
              "\n",
              "    .dataframe tbody tr th {\n",
              "        vertical-align: top;\n",
              "    }\n",
              "\n",
              "    .dataframe thead th {\n",
              "        text-align: right;\n",
              "    }\n",
              "</style>\n",
              "<table border=\"1\" class=\"dataframe\">\n",
              "  <thead>\n",
              "    <tr style=\"text-align: right;\">\n",
              "      <th></th>\n",
              "      <th>filename</th>\n",
              "      <th>chroma_stft</th>\n",
              "      <th>spectral_centroid</th>\n",
              "      <th>spectral_bandwidth</th>\n",
              "      <th>rolloff</th>\n",
              "      <th>zero_crossing_rate</th>\n",
              "      <th>mfcc1</th>\n",
              "      <th>mfcc2</th>\n",
              "      <th>mfcc3</th>\n",
              "      <th>mfcc4</th>\n",
              "      <th>...</th>\n",
              "      <th>mfcc12</th>\n",
              "      <th>mfcc13</th>\n",
              "      <th>mfcc14</th>\n",
              "      <th>mfcc15</th>\n",
              "      <th>mfcc16</th>\n",
              "      <th>mfcc17</th>\n",
              "      <th>mfcc18</th>\n",
              "      <th>mfcc19</th>\n",
              "      <th>mfcc20</th>\n",
              "      <th>label</th>\n",
              "    </tr>\n",
              "  </thead>\n",
              "  <tbody>\n",
              "    <tr>\n",
              "      <th>0</th>\n",
              "      <td>temple_of_love-sisters_of_mercy.wav</td>\n",
              "      <td>0.39218</td>\n",
              "      <td>3012.281226</td>\n",
              "      <td>2700.981659</td>\n",
              "      <td>5917.69755</td>\n",
              "      <td>0.156523</td>\n",
              "      <td>-66.154366</td>\n",
              "      <td>63.343739</td>\n",
              "      <td>-5.757527</td>\n",
              "      <td>35.341484</td>\n",
              "      <td>...</td>\n",
              "      <td>-3.295837</td>\n",
              "      <td>-3.521336</td>\n",
              "      <td>-6.336587</td>\n",
              "      <td>1.551449</td>\n",
              "      <td>-1.498453</td>\n",
              "      <td>-4.331505</td>\n",
              "      <td>-3.654512</td>\n",
              "      <td>-5.877038</td>\n",
              "      <td>-2.983863</td>\n",
              "      <td>NaN</td>\n",
              "    </tr>\n",
              "  </tbody>\n",
              "</table>\n",
              "<p>1 rows × 27 columns</p>\n",
              "</div>"
            ],
            "text/plain": [
              "                              filename  chroma_stft  spectral_centroid  \\\n",
              "0  temple_of_love-sisters_of_mercy.wav      0.39218        3012.281226   \n",
              "\n",
              "   spectral_bandwidth     rolloff  zero_crossing_rate      mfcc1      mfcc2  \\\n",
              "0         2700.981659  5917.69755            0.156523 -66.154366  63.343739   \n",
              "\n",
              "      mfcc3      mfcc4  ...    mfcc12    mfcc13    mfcc14    mfcc15    mfcc16  \\\n",
              "0 -5.757527  35.341484  ... -3.295837 -3.521336 -6.336587  1.551449 -1.498453   \n",
              "\n",
              "     mfcc17    mfcc18    mfcc19    mfcc20  label  \n",
              "0 -4.331505 -3.654512 -5.877038 -2.983863    NaN  \n",
              "\n",
              "[1 rows x 27 columns]"
            ]
          },
          "metadata": {
            "tags": []
          },
          "execution_count": 153
        }
      ]
    },
    {
      "cell_type": "code",
      "metadata": {
        "id": "YSk0BeglqNDJ",
        "colab_type": "code",
        "colab": {}
      },
      "source": [
        "data2 = data2.drop(['filename'],axis=1)"
      ],
      "execution_count": null,
      "outputs": []
    },
    {
      "cell_type": "code",
      "metadata": {
        "id": "QXMw2po-qNDM",
        "colab_type": "code",
        "colab": {},
        "outputId": "cbcf4fc6-155d-4805-9c39-ece6de400130"
      },
      "source": [
        "data2.shape"
      ],
      "execution_count": null,
      "outputs": [
        {
          "output_type": "execute_result",
          "data": {
            "text/plain": [
              "(1, 26)"
            ]
          },
          "metadata": {
            "tags": []
          },
          "execution_count": 156
        }
      ]
    },
    {
      "cell_type": "code",
      "metadata": {
        "id": "FhXzGqeeqNDO",
        "colab_type": "code",
        "colab": {},
        "outputId": "3dd26673-5cb9-4629-f83b-549b76b5c6e0"
      },
      "source": [
        "pd.concat([data,data2]).shape"
      ],
      "execution_count": null,
      "outputs": [
        {
          "output_type": "execute_result",
          "data": {
            "text/plain": [
              "(1001, 26)"
            ]
          },
          "metadata": {
            "tags": []
          },
          "execution_count": 158
        }
      ]
    },
    {
      "cell_type": "code",
      "metadata": {
        "id": "Swm13mU9qNDQ",
        "colab_type": "code",
        "colab": {}
      },
      "source": [
        "sample = scaler.fit_transform(np.array(pd.concat([data,data2]).iloc[:, :-2], dtype = float))  #-1"
      ],
      "execution_count": null,
      "outputs": []
    },
    {
      "cell_type": "code",
      "metadata": {
        "id": "DcWOsntxqNDS",
        "colab_type": "code",
        "colab": {},
        "outputId": "3d51984f-7354-4e00-dfe8-b6a7ed89a3a5"
      },
      "source": [
        "sample"
      ],
      "execution_count": null,
      "outputs": [
        {
          "output_type": "execute_result",
          "data": {
            "text/plain": [
              "array([[-0.35208473, -0.58435262, -0.45696267, ...,  0.50061555,\n",
              "        -0.23609779,  0.00855604],\n",
              "       [-0.46185527, -0.94006558, -0.38858504, ...,  0.71517244,\n",
              "        -0.05411035,  0.5447971 ],\n",
              "       [-0.18473859, -0.90842311, -0.94266395, ..., -0.82688314,\n",
              "        -0.59958481, -0.29335606],\n",
              "       ...,\n",
              "       [-0.20009995, -1.12332988, -0.80771908, ..., -0.09868718,\n",
              "         0.27282006, -0.72220617],\n",
              "       [-0.25098961, -0.82883577, -0.8478007 , ..., -0.68247492,\n",
              "        -0.12398395,  0.08266688],\n",
              "       [ 0.16535776,  1.13124636,  0.87063596, ..., -0.08000479,\n",
              "        -1.07503667, -0.94437691]])"
            ]
          },
          "metadata": {
            "tags": []
          },
          "execution_count": 177
        }
      ]
    },
    {
      "cell_type": "code",
      "metadata": {
        "id": "trEBxdWeqNDV",
        "colab_type": "code",
        "colab": {},
        "outputId": "5c2a8d94-ae0e-467f-89fa-55f9db68d7f3"
      },
      "source": [
        "sample[-1].reshape((24,1))"
      ],
      "execution_count": null,
      "outputs": [
        {
          "output_type": "execute_result",
          "data": {
            "text/plain": [
              "array([[ 0.16535776],\n",
              "       [ 1.13124636],\n",
              "       [ 0.87063596],\n",
              "       [ 0.85441343],\n",
              "       [ 1.26315511],\n",
              "       [ 0.78116853],\n",
              "       [-1.15487153],\n",
              "       [ 0.14585791],\n",
              "       [-0.05709343],\n",
              "       [ 0.03986309],\n",
              "       [-1.28455644],\n",
              "       [ 1.35086744],\n",
              "       [-0.73378349],\n",
              "       [ 0.65083682],\n",
              "       [-1.39624963],\n",
              "       [ 0.07792456],\n",
              "       [-1.15556   ],\n",
              "       [ 0.20675505],\n",
              "       [-1.61842838],\n",
              "       [ 1.11159335],\n",
              "       [-0.57784176],\n",
              "       [-0.08000479],\n",
              "       [-1.07503667],\n",
              "       [-0.94437691]])"
            ]
          },
          "metadata": {
            "tags": []
          },
          "execution_count": 189
        }
      ]
    },
    {
      "cell_type": "code",
      "metadata": {
        "scrolled": true,
        "id": "CpcTsHRLqNDZ",
        "colab_type": "code",
        "colab": {},
        "outputId": "9570d340-a1c3-494d-fecc-6a623ecde98d"
      },
      "source": [
        "model.predict(sample)"
      ],
      "execution_count": null,
      "outputs": [
        {
          "output_type": "execute_result",
          "data": {
            "text/plain": [
              "array([[2.5665936e-01, 7.2072810e-03, 8.5452959e-02, ..., 6.6622449e-03,\n",
              "        8.6212559e-03, 1.8962066e-01],\n",
              "       [4.6373057e-01, 1.4841761e-03, 7.6374702e-02, ..., 3.9792205e-03,\n",
              "        7.5299684e-03, 1.1227368e-01],\n",
              "       [2.9901284e-01, 4.7294525e-04, 4.3858269e-01, ..., 6.3292315e-04,\n",
              "        2.1962139e-03, 2.4524908e-01],\n",
              "       ...,\n",
              "       [2.0936838e-01, 1.5447293e-03, 2.3725210e-01, ..., 1.2350371e-03,\n",
              "        2.0659763e-01, 3.1709397e-01],\n",
              "       [9.9255688e-02, 9.3805688e-03, 3.2270318e-01, ..., 6.0608424e-04,\n",
              "        3.0323051e-02, 4.1727236e-01],\n",
              "       [1.5500089e-03, 4.8835581e-04, 1.5958583e-01, ..., 5.5244349e-02,\n",
              "        1.7640660e-02, 5.6156480e-01]], dtype=float32)"
            ]
          },
          "metadata": {
            "tags": []
          },
          "execution_count": 191
        }
      ]
    },
    {
      "cell_type": "markdown",
      "metadata": {
        "id": "Cnq1GGGNqNDb",
        "colab_type": "text"
      },
      "source": [
        "Its time to classified the new song based on our previous learning training, crossing fingers, our accuracy is not the best."
      ]
    },
    {
      "cell_type": "code",
      "metadata": {
        "id": "SijxnoWSqNDb",
        "colab_type": "code",
        "colab": {}
      },
      "source": [
        "predictions = model.predict(sample)"
      ],
      "execution_count": null,
      "outputs": []
    },
    {
      "cell_type": "code",
      "metadata": {
        "id": "JvXxPX2kqNDd",
        "colab_type": "code",
        "colab": {},
        "outputId": "148c960a-7c21-4005-9181-2694757febbc"
      },
      "source": [
        "np.argmax(predictions[-1])"
      ],
      "execution_count": null,
      "outputs": [
        {
          "output_type": "execute_result",
          "data": {
            "text/plain": [
              "9"
            ]
          },
          "metadata": {
            "tags": []
          },
          "execution_count": 193
        }
      ]
    },
    {
      "cell_type": "code",
      "metadata": {
        "id": "Hx1dt9FwqNDf",
        "colab_type": "code",
        "colab": {},
        "outputId": "5a5a9280-f1d0-4a6b-cf96-93d0a02f0d4e"
      },
      "source": [
        "genres[np.argmax(predictions[-1])]"
      ],
      "execution_count": null,
      "outputs": [
        {
          "output_type": "execute_result",
          "data": {
            "text/plain": [
              "'rock'"
            ]
          },
          "metadata": {
            "tags": []
          },
          "execution_count": 196
        }
      ]
    },
    {
      "cell_type": "markdown",
      "metadata": {
        "id": "QjIbPTNpqNDi",
        "colab_type": "text"
      },
      "source": [
        "So it did it! Our song is a rock song, and our model knows it. Best wishes!"
      ]
    }
  ]
}