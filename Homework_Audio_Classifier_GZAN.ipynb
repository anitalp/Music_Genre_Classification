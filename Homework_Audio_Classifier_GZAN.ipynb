{
 "cells": [
  {
   "cell_type": "markdown",
   "metadata": {
    "colab_type": "text",
    "id": "yGZZwXDbnr1J"
   },
   "source": [
    "#Setup"
   ]
  },
  {
   "cell_type": "code",
   "execution_count": null,
   "metadata": {
    "colab": {},
    "colab_type": "code",
    "id": "0U4zXCk5ntZo"
   },
   "outputs": [],
   "source": [
    "import numpy as np\n",
    "import pandas as pd\n",
    "import os\n",
    "import librosa\n",
    "\n",
    "from sklearn.preprocessing import LabelEncoder\n",
    "from keras.utils import to_categorical\n",
    "\n",
    "from sklearn.model_selection import train_test_split \n",
    "\n",
    "from keras.models import Sequential\n",
    "from keras.layers import Dense, Dropout, Conv2D, MaxPooling2D, GlobalAveragePooling2D\n",
    "from keras.callbacks import ModelCheckpoint\n",
    "\n",
    "import matplotlib.pyplot as plt\n",
    "\n",
    "import keras.backend as K"
   ]
  },
  {
   "cell_type": "markdown",
   "metadata": {
    "colab_type": "text",
    "id": "5I4cec6Kndbw"
   },
   "source": [
    "# Create Songs DataFrame"
   ]
  },
  {
   "cell_type": "code",
   "execution_count": null,
   "metadata": {
    "colab": {},
    "colab_type": "code",
    "id": "e1tQLTutnO7-"
   },
   "outputs": [],
   "source": [
    "# I load everything from Google Drive.\n",
    "from google.colab import drive\n",
    "drive.mount('/content/drive')"
   ]
  },
  {
   "cell_type": "code",
   "execution_count": null,
   "metadata": {
    "colab": {},
    "colab_type": "code",
    "id": "1Ph3c8hVpj2w"
   },
   "outputs": [],
   "source": [
    "# In my \"Homework\" folder I uploaded the GTZAN folders and files.\n",
    "os.chdir(\"/content/drive/My Drive/Colab Notebooks/Homework\")"
   ]
  },
  {
   "cell_type": "code",
   "execution_count": null,
   "metadata": {
    "colab": {},
    "colab_type": "code",
    "id": "jU5d6iLqpl3X"
   },
   "outputs": [],
   "source": [
    "genres = os.listdir(\"GTZAN/genres\")"
   ]
  },
  {
   "cell_type": "code",
   "execution_count": null,
   "metadata": {
    "colab": {},
    "colab_type": "code",
    "id": "QXB3Gohppprf"
   },
   "outputs": [],
   "source": [
    "songs = dict()\n",
    "\n",
    "for genre in genres:\n",
    "  songs[f'{genre}'] = os.listdir(os.path.join(\"GTZAN/genres\", genre))\n",
    "  songs[f'{genre}'].sort()\n",
    "\n",
    "  for i in range(len(songs[f'{genre}'])):\n",
    "    songs[f'{genre}'][i] = os.path.join(\"GTZAN/genres\", genre, songs[f'{genre}'][i])"
   ]
  },
  {
   "cell_type": "code",
   "execution_count": null,
   "metadata": {
    "colab": {},
    "colab_type": "code",
    "id": "cRcf2ScduRq_"
   },
   "outputs": [],
   "source": [
    "# This way, the DataFrame with song names and labels is created.\n",
    "df_songs = pd.DataFrame()\n",
    "\n",
    "for genre in list(songs.keys()):\n",
    "  df_temp = pd.DataFrame({'file_name': songs[f'{genre}'], 'class_label': f'{genre}'})\n",
    "  df_songs = pd.concat([df_songs, df_temp], axis = 0)"
   ]
  },
  {
   "cell_type": "code",
   "execution_count": null,
   "metadata": {
    "colab": {
     "base_uri": "https://localhost:8080/",
     "height": 222
    },
    "colab_type": "code",
    "executionInfo": {
     "elapsed": 500,
     "status": "ok",
     "timestamp": 1598831426064,
     "user": {
      "displayName": "José Pascual Manzano",
      "photoUrl": "",
      "userId": "09920607595779470069"
     },
     "user_tz": -120
    },
    "id": "yNIzzFWdwK6-",
    "outputId": "76931769-03d1-460e-a308-b6e037702e41"
   },
   "outputs": [
    {
     "data": {
      "text/plain": [
       "hiphop       100\n",
       "classical    100\n",
       "blues        100\n",
       "pop          100\n",
       "metal        100\n",
       "reggae       100\n",
       "disco        100\n",
       "jazz         100\n",
       "rock         100\n",
       "country      100\n",
       "Name: class_label, dtype: int64"
      ]
     },
     "execution_count": 67,
     "metadata": {
      "tags": []
     },
     "output_type": "execute_result"
    }
   ],
   "source": [
    "df_songs.class_label.value_counts()"
   ]
  },
  {
   "cell_type": "code",
   "execution_count": null,
   "metadata": {
    "colab": {},
    "colab_type": "code",
    "id": "tpZgMnKK1XR2"
   },
   "outputs": [],
   "source": [
    "df_songs.to_csv('Song_Names_and_Labels.csv', index = False)"
   ]
  },
  {
   "cell_type": "markdown",
   "metadata": {
    "colab_type": "text",
    "id": "qcRCWuSxyIym"
   },
   "source": [
    "# Data Preprocessing for DNN"
   ]
  },
  {
   "cell_type": "code",
   "execution_count": null,
   "metadata": {
    "colab": {},
    "colab_type": "code",
    "id": "4eZY5Qn6yQY_"
   },
   "outputs": [],
   "source": [
    "def extract_features(file_name):\n",
    "  try:\n",
    "    audio, sample_rate = librosa.load(file_name, res_type='kaiser_fast')\n",
    "    mfccs = librosa.feature.mfcc(y = audio, sr = sample_rate, n_mfcc = 40)\n",
    "    mfccsscaled = np.mean(mfccs.T,axis=0)\n",
    "  \n",
    "  except Exception as e:\n",
    "    print(\"Error encountered while parsing file: \", file_name)\n",
    "    return None\n",
    "  \n",
    "  return mfccsscaled"
   ]
  },
  {
   "cell_type": "code",
   "execution_count": null,
   "metadata": {
    "colab": {
     "base_uri": "https://localhost:8080/",
     "height": 36
    },
    "colab_type": "code",
    "executionInfo": {
     "elapsed": 825483,
     "status": "ok",
     "timestamp": 1598833146707,
     "user": {
      "displayName": "José Pascual Manzano",
      "photoUrl": "",
      "userId": "09920607595779470069"
     },
     "user_tz": -120
    },
    "id": "hYpUykn_ySX2",
    "outputId": "b54902e7-4333-4d9b-b040-7bf554777bc9"
   },
   "outputs": [
    {
     "name": "stdout",
     "output_type": "stream",
     "text": [
      "The features extraction has been completed (1000 files)\n"
     ]
    }
   ],
   "source": [
    "features = []\n",
    "\n",
    "for index, row in df_songs.iterrows():\n",
    "  file_name = row['file_name']\n",
    "  class_label = row['class_label']\n",
    "  data = extract_features(file_name)\n",
    "  features.append([data, class_label])\n",
    "\n",
    "df_features = pd.DataFrame(features, columns = ['features', 'class_label'])\n",
    "\n",
    "print(f'The features extraction has been completed ({len(df_features)} files).')"
   ]
  },
  {
   "cell_type": "code",
   "execution_count": null,
   "metadata": {
    "colab": {},
    "colab_type": "code",
    "id": "xlbj18CS1oN_"
   },
   "outputs": [],
   "source": [
    "df_features.to_csv('Features_and_Labels.csv', index = False)"
   ]
  },
  {
   "cell_type": "code",
   "execution_count": null,
   "metadata": {
    "colab": {
     "base_uri": "https://localhost:8080/",
     "height": 36
    },
    "colab_type": "code",
    "executionInfo": {
     "elapsed": 479,
     "status": "ok",
     "timestamp": 1598842754506,
     "user": {
      "displayName": "José Pascual Manzano",
      "photoUrl": "",
      "userId": "09920607595779470069"
     },
     "user_tz": -120
    },
    "id": "fiQvOfKbc9vh",
    "outputId": "ac69f907-df37-4bcd-b3cd-b84475aa511d"
   },
   "outputs": [
    {
     "data": {
      "text/plain": [
       "(40,)"
      ]
     },
     "execution_count": 341,
     "metadata": {
      "tags": []
     },
     "output_type": "execute_result"
    }
   ],
   "source": [
    "df_features.features[0].shape"
   ]
  },
  {
   "cell_type": "code",
   "execution_count": null,
   "metadata": {
    "colab": {},
    "colab_type": "code",
    "id": "zqK1DKmx5fqV"
   },
   "outputs": [],
   "source": [
    "X = np.array(df_features.features.tolist())\n",
    "y = np.array(df_features.class_label.tolist())\n",
    "\n",
    "le = LabelEncoder()\n",
    "yy = to_categorical(le.fit_transform(y))\n",
    "\n",
    "x_train, x_test, y_train, y_test = train_test_split(X, yy, test_size=0.2, random_state = 100)"
   ]
  },
  {
   "cell_type": "markdown",
   "metadata": {
    "colab_type": "text",
    "id": "GCbdzhfwiV2w"
   },
   "source": [
    "# DNN Model (1st try - Overfitting)"
   ]
  },
  {
   "cell_type": "code",
   "execution_count": null,
   "metadata": {
    "colab": {},
    "colab_type": "code",
    "id": "ZfRHa6_UNB3r"
   },
   "outputs": [],
   "source": [
    "K.clear_session()"
   ]
  },
  {
   "cell_type": "code",
   "execution_count": null,
   "metadata": {
    "colab": {},
    "colab_type": "code",
    "id": "V-4wTZhb5-6F"
   },
   "outputs": [],
   "source": [
    "num_labels = yy.shape[1]\n",
    "\n",
    "model = Sequential()\n",
    "model.add(Dense(256, activation = 'relu', input_shape=(40,)))\n",
    "model.add(Dropout(0.2))\n",
    "model.add(Dense(256, activation = 'relu'))\n",
    "model.add(Dropout(0.2))\n",
    "model.add(Dense(num_labels, activation = 'softmax'))"
   ]
  },
  {
   "cell_type": "code",
   "execution_count": null,
   "metadata": {
    "colab": {},
    "colab_type": "code",
    "id": "FCEn_Eme6Qxl"
   },
   "outputs": [],
   "source": [
    "model.compile(loss = 'categorical_crossentropy', \n",
    "              metrics = ['accuracy'], \n",
    "              optimizer = 'adam')"
   ]
  },
  {
   "cell_type": "code",
   "execution_count": null,
   "metadata": {
    "colab": {
     "base_uri": "https://localhost:8080/",
     "height": 1000
    },
    "colab_type": "code",
    "executionInfo": {
     "elapsed": 21489,
     "status": "ok",
     "timestamp": 1598838583955,
     "user": {
      "displayName": "José Pascual Manzano",
      "photoUrl": "",
      "userId": "09920607595779470069"
     },
     "user_tz": -120
    },
    "id": "3tut0SCm651N",
    "outputId": "baaf8548-fba5-4463-9364-63f87c825ba0"
   },
   "outputs": [
    {
     "name": "stdout",
     "output_type": "stream",
     "text": [
      "Epoch 1/100\n",
      " 1/20 [>.............................] - ETA: 0s - loss: 17.3731 - accuracy: 0.1875\n",
      "Epoch 00001: val_loss improved from inf to 3.17706, saving model to DNN_Model_FirstTry\n",
      "INFO:tensorflow:Assets written to: DNN_Model_FirstTry/assets\n",
      "20/20 [==============================] - 1s 46ms/step - loss: 9.7873 - accuracy: 0.1969 - val_loss: 3.1771 - val_accuracy: 0.3375\n",
      "Epoch 2/100\n",
      " 1/20 [>.............................] - ETA: 0s - loss: 7.9467 - accuracy: 0.2500\n",
      "Epoch 00002: val_loss improved from 3.17706 to 3.05928, saving model to DNN_Model_FirstTry\n",
      "INFO:tensorflow:Assets written to: DNN_Model_FirstTry/assets\n",
      "20/20 [==============================] - 1s 40ms/step - loss: 5.2575 - accuracy: 0.2844 - val_loss: 3.0593 - val_accuracy: 0.3688\n",
      "Epoch 3/100\n",
      " 1/20 [>.............................] - ETA: 0s - loss: 2.9361 - accuracy: 0.3438\n",
      "Epoch 00003: val_loss improved from 3.05928 to 1.92843, saving model to DNN_Model_FirstTry\n",
      "INFO:tensorflow:Assets written to: DNN_Model_FirstTry/assets\n",
      "20/20 [==============================] - 1s 43ms/step - loss: 3.3102 - accuracy: 0.3406 - val_loss: 1.9284 - val_accuracy: 0.4000\n",
      "Epoch 4/100\n",
      " 1/20 [>.............................] - ETA: 0s - loss: 2.6277 - accuracy: 0.4062\n",
      "Epoch 00004: val_loss improved from 1.92843 to 1.68582, saving model to DNN_Model_FirstTry\n",
      "INFO:tensorflow:Assets written to: DNN_Model_FirstTry/assets\n",
      "20/20 [==============================] - 1s 41ms/step - loss: 2.6624 - accuracy: 0.3641 - val_loss: 1.6858 - val_accuracy: 0.4250\n",
      "Epoch 5/100\n",
      "19/20 [===========================>..] - ETA: 0s - loss: 2.1693 - accuracy: 0.3701\n",
      "Epoch 00005: val_loss improved from 1.68582 to 1.58571, saving model to DNN_Model_FirstTry\n",
      "INFO:tensorflow:Assets written to: DNN_Model_FirstTry/assets\n",
      "20/20 [==============================] - 1s 57ms/step - loss: 2.1802 - accuracy: 0.3672 - val_loss: 1.5857 - val_accuracy: 0.4250\n",
      "Epoch 6/100\n",
      " 1/20 [>.............................] - ETA: 0s - loss: 1.9754 - accuracy: 0.4375\n",
      "Epoch 00006: val_loss improved from 1.58571 to 1.56378, saving model to DNN_Model_FirstTry\n",
      "INFO:tensorflow:Assets written to: DNN_Model_FirstTry/assets\n",
      "20/20 [==============================] - 1s 41ms/step - loss: 1.8443 - accuracy: 0.4047 - val_loss: 1.5638 - val_accuracy: 0.4437\n",
      "Epoch 7/100\n",
      " 1/20 [>.............................] - ETA: 0s - loss: 1.4320 - accuracy: 0.5312\n",
      "Epoch 00007: val_loss improved from 1.56378 to 1.52441, saving model to DNN_Model_FirstTry\n",
      "INFO:tensorflow:Assets written to: DNN_Model_FirstTry/assets\n",
      "20/20 [==============================] - 1s 42ms/step - loss: 1.6919 - accuracy: 0.4156 - val_loss: 1.5244 - val_accuracy: 0.4313\n",
      "Epoch 8/100\n",
      " 1/20 [>.............................] - ETA: 0s - loss: 1.9252 - accuracy: 0.2500\n",
      "Epoch 00008: val_loss did not improve from 1.52441\n",
      "20/20 [==============================] - 0s 3ms/step - loss: 1.6619 - accuracy: 0.4172 - val_loss: 1.5800 - val_accuracy: 0.4250\n",
      "Epoch 9/100\n",
      " 1/20 [>.............................] - ETA: 0s - loss: 1.4960 - accuracy: 0.4375\n",
      "Epoch 00009: val_loss improved from 1.52441 to 1.47987, saving model to DNN_Model_FirstTry\n",
      "INFO:tensorflow:Assets written to: DNN_Model_FirstTry/assets\n",
      "20/20 [==============================] - 1s 42ms/step - loss: 1.5639 - accuracy: 0.4547 - val_loss: 1.4799 - val_accuracy: 0.4437\n",
      "Epoch 10/100\n",
      " 1/20 [>.............................] - ETA: 0s - loss: 1.6254 - accuracy: 0.4688\n",
      "Epoch 00010: val_loss improved from 1.47987 to 1.46841, saving model to DNN_Model_FirstTry\n",
      "INFO:tensorflow:Assets written to: DNN_Model_FirstTry/assets\n",
      "20/20 [==============================] - 1s 41ms/step - loss: 1.4806 - accuracy: 0.4719 - val_loss: 1.4684 - val_accuracy: 0.4875\n",
      "Epoch 11/100\n",
      " 1/20 [>.............................] - ETA: 0s - loss: 1.3698 - accuracy: 0.5000\n",
      "Epoch 00011: val_loss improved from 1.46841 to 1.44302, saving model to DNN_Model_FirstTry\n",
      "INFO:tensorflow:Assets written to: DNN_Model_FirstTry/assets\n",
      "20/20 [==============================] - 1s 42ms/step - loss: 1.4386 - accuracy: 0.4953 - val_loss: 1.4430 - val_accuracy: 0.5188\n",
      "Epoch 12/100\n",
      "19/20 [===========================>..] - ETA: 0s - loss: 1.3507 - accuracy: 0.5132\n",
      "Epoch 00012: val_loss did not improve from 1.44302\n",
      "20/20 [==============================] - 0s 4ms/step - loss: 1.3401 - accuracy: 0.5156 - val_loss: 1.4534 - val_accuracy: 0.5125\n",
      "Epoch 13/100\n",
      " 1/20 [>.............................] - ETA: 0s - loss: 1.1350 - accuracy: 0.5938\n",
      "Epoch 00013: val_loss did not improve from 1.44302\n",
      "20/20 [==============================] - 0s 3ms/step - loss: 1.3379 - accuracy: 0.5219 - val_loss: 1.4670 - val_accuracy: 0.4688\n",
      "Epoch 14/100\n",
      " 1/20 [>.............................] - ETA: 0s - loss: 1.1062 - accuracy: 0.5625\n",
      "Epoch 00014: val_loss improved from 1.44302 to 1.37398, saving model to DNN_Model_FirstTry\n",
      "INFO:tensorflow:Assets written to: DNN_Model_FirstTry/assets\n",
      "20/20 [==============================] - 1s 44ms/step - loss: 1.2311 - accuracy: 0.5578 - val_loss: 1.3740 - val_accuracy: 0.5500\n",
      "Epoch 15/100\n",
      " 1/20 [>.............................] - ETA: 0s - loss: 1.1245 - accuracy: 0.5625\n",
      "Epoch 00015: val_loss improved from 1.37398 to 1.35718, saving model to DNN_Model_FirstTry\n",
      "INFO:tensorflow:Assets written to: DNN_Model_FirstTry/assets\n",
      "20/20 [==============================] - 1s 54ms/step - loss: 1.1798 - accuracy: 0.5953 - val_loss: 1.3572 - val_accuracy: 0.5125\n",
      "Epoch 16/100\n",
      " 1/20 [>.............................] - ETA: 0s - loss: 1.0947 - accuracy: 0.5938\n",
      "Epoch 00016: val_loss did not improve from 1.35718\n",
      "20/20 [==============================] - 0s 3ms/step - loss: 1.1988 - accuracy: 0.5938 - val_loss: 1.4134 - val_accuracy: 0.5250\n",
      "Epoch 17/100\n",
      " 1/20 [>.............................] - ETA: 0s - loss: 1.1650 - accuracy: 0.6250\n",
      "Epoch 00017: val_loss improved from 1.35718 to 1.34604, saving model to DNN_Model_FirstTry\n",
      "INFO:tensorflow:Assets written to: DNN_Model_FirstTry/assets\n",
      "20/20 [==============================] - 1s 44ms/step - loss: 1.1476 - accuracy: 0.5641 - val_loss: 1.3460 - val_accuracy: 0.5938\n",
      "Epoch 18/100\n",
      " 1/20 [>.............................] - ETA: 0s - loss: 1.0946 - accuracy: 0.5625\n",
      "Epoch 00018: val_loss did not improve from 1.34604\n",
      "20/20 [==============================] - 0s 3ms/step - loss: 1.0616 - accuracy: 0.6203 - val_loss: 1.3945 - val_accuracy: 0.5312\n",
      "Epoch 19/100\n",
      " 1/20 [>.............................] - ETA: 0s - loss: 1.3621 - accuracy: 0.5312\n",
      "Epoch 00019: val_loss did not improve from 1.34604\n",
      "20/20 [==============================] - 0s 4ms/step - loss: 1.0858 - accuracy: 0.6359 - val_loss: 1.3713 - val_accuracy: 0.5500\n",
      "Epoch 20/100\n",
      " 1/20 [>.............................] - ETA: 0s - loss: 1.0081 - accuracy: 0.6250\n",
      "Epoch 00020: val_loss improved from 1.34604 to 1.32275, saving model to DNN_Model_FirstTry\n",
      "INFO:tensorflow:Assets written to: DNN_Model_FirstTry/assets\n",
      "20/20 [==============================] - 1s 44ms/step - loss: 1.0758 - accuracy: 0.6172 - val_loss: 1.3228 - val_accuracy: 0.5375\n",
      "Epoch 21/100\n",
      " 1/20 [>.............................] - ETA: 0s - loss: 1.1451 - accuracy: 0.6250\n",
      "Epoch 00021: val_loss improved from 1.32275 to 1.30082, saving model to DNN_Model_FirstTry\n",
      "INFO:tensorflow:Assets written to: DNN_Model_FirstTry/assets\n",
      "20/20 [==============================] - 1s 43ms/step - loss: 1.0239 - accuracy: 0.6328 - val_loss: 1.3008 - val_accuracy: 0.5437\n",
      "Epoch 22/100\n",
      " 1/20 [>.............................] - ETA: 0s - loss: 1.1413 - accuracy: 0.5938\n",
      "Epoch 00022: val_loss did not improve from 1.30082\n",
      "20/20 [==============================] - 0s 3ms/step - loss: 0.9732 - accuracy: 0.6281 - val_loss: 1.3607 - val_accuracy: 0.5688\n",
      "Epoch 23/100\n",
      "17/20 [========================>.....] - ETA: 0s - loss: 0.9866 - accuracy: 0.6544\n",
      "Epoch 00023: val_loss improved from 1.30082 to 1.26054, saving model to DNN_Model_FirstTry\n",
      "INFO:tensorflow:Assets written to: DNN_Model_FirstTry/assets\n",
      "20/20 [==============================] - 1s 45ms/step - loss: 0.9853 - accuracy: 0.6531 - val_loss: 1.2605 - val_accuracy: 0.5938\n",
      "Epoch 24/100\n",
      "17/20 [========================>.....] - ETA: 0s - loss: 0.9302 - accuracy: 0.6801\n",
      "Epoch 00024: val_loss did not improve from 1.26054\n",
      "20/20 [==============================] - 0s 4ms/step - loss: 0.9206 - accuracy: 0.6781 - val_loss: 1.3071 - val_accuracy: 0.5625\n",
      "Epoch 25/100\n",
      " 1/20 [>.............................] - ETA: 0s - loss: 1.1177 - accuracy: 0.5938\n",
      "Epoch 00025: val_loss did not improve from 1.26054\n",
      "20/20 [==============================] - 0s 3ms/step - loss: 0.8217 - accuracy: 0.6891 - val_loss: 1.3142 - val_accuracy: 0.5625\n",
      "Epoch 26/100\n",
      " 1/20 [>.............................] - ETA: 0s - loss: 0.8483 - accuracy: 0.6562\n",
      "Epoch 00026: val_loss did not improve from 1.26054\n",
      "20/20 [==============================] - 0s 3ms/step - loss: 0.8282 - accuracy: 0.7094 - val_loss: 1.3002 - val_accuracy: 0.6000\n",
      "Epoch 27/100\n",
      " 1/20 [>.............................] - ETA: 0s - loss: 0.5279 - accuracy: 0.7812\n",
      "Epoch 00027: val_loss did not improve from 1.26054\n",
      "20/20 [==============================] - 0s 3ms/step - loss: 0.7836 - accuracy: 0.7234 - val_loss: 1.3123 - val_accuracy: 0.5750\n",
      "Epoch 28/100\n",
      "18/20 [==========================>...] - ETA: 0s - loss: 0.7033 - accuracy: 0.7517\n",
      "Epoch 00028: val_loss did not improve from 1.26054\n",
      "20/20 [==============================] - 0s 4ms/step - loss: 0.7367 - accuracy: 0.7453 - val_loss: 1.2964 - val_accuracy: 0.5938\n",
      "Epoch 29/100\n",
      "20/20 [==============================] - ETA: 0s - loss: 0.7113 - accuracy: 0.7531\n",
      "Epoch 00029: val_loss did not improve from 1.26054\n",
      "20/20 [==============================] - 0s 4ms/step - loss: 0.7113 - accuracy: 0.7531 - val_loss: 1.3674 - val_accuracy: 0.5625\n",
      "Epoch 30/100\n",
      "16/20 [=======================>......] - ETA: 0s - loss: 0.7379 - accuracy: 0.7305\n",
      "Epoch 00030: val_loss did not improve from 1.26054\n",
      "20/20 [==============================] - 0s 4ms/step - loss: 0.7203 - accuracy: 0.7375 - val_loss: 1.3023 - val_accuracy: 0.6000\n",
      "Epoch 31/100\n",
      " 1/20 [>.............................] - ETA: 0s - loss: 0.8461 - accuracy: 0.6250\n",
      "Epoch 00031: val_loss did not improve from 1.26054\n",
      "20/20 [==============================] - 0s 3ms/step - loss: 0.6696 - accuracy: 0.7672 - val_loss: 1.3033 - val_accuracy: 0.6000\n",
      "Epoch 32/100\n",
      "19/20 [===========================>..] - ETA: 0s - loss: 0.6115 - accuracy: 0.7911\n",
      "Epoch 00032: val_loss did not improve from 1.26054\n",
      "20/20 [==============================] - 0s 4ms/step - loss: 0.6080 - accuracy: 0.7891 - val_loss: 1.3449 - val_accuracy: 0.5688\n",
      "Epoch 33/100\n",
      " 1/20 [>.............................] - ETA: 0s - loss: 0.6869 - accuracy: 0.7188\n",
      "Epoch 00033: val_loss did not improve from 1.26054\n",
      "20/20 [==============================] - 0s 3ms/step - loss: 0.6335 - accuracy: 0.7781 - val_loss: 1.3322 - val_accuracy: 0.6062\n",
      "Epoch 34/100\n",
      " 1/20 [>.............................] - ETA: 0s - loss: 0.7938 - accuracy: 0.7500\n",
      "Epoch 00034: val_loss did not improve from 1.26054\n",
      "20/20 [==============================] - 0s 4ms/step - loss: 0.6054 - accuracy: 0.7734 - val_loss: 1.3570 - val_accuracy: 0.5813\n",
      "Epoch 35/100\n",
      " 1/20 [>.............................] - ETA: 0s - loss: 0.5923 - accuracy: 0.8125\n",
      "Epoch 00035: val_loss did not improve from 1.26054\n",
      "20/20 [==============================] - 0s 3ms/step - loss: 0.6001 - accuracy: 0.8016 - val_loss: 1.2720 - val_accuracy: 0.6438\n",
      "Epoch 36/100\n",
      " 1/20 [>.............................] - ETA: 0s - loss: 0.3842 - accuracy: 0.8438\n",
      "Epoch 00036: val_loss did not improve from 1.26054\n",
      "20/20 [==============================] - 0s 3ms/step - loss: 0.5488 - accuracy: 0.7922 - val_loss: 1.2766 - val_accuracy: 0.6062\n",
      "Epoch 37/100\n",
      "20/20 [==============================] - ETA: 0s - loss: 0.5310 - accuracy: 0.8266\n",
      "Epoch 00037: val_loss did not improve from 1.26054\n",
      "20/20 [==============================] - 0s 4ms/step - loss: 0.5310 - accuracy: 0.8266 - val_loss: 1.3737 - val_accuracy: 0.5625\n",
      "Epoch 38/100\n",
      " 1/20 [>.............................] - ETA: 0s - loss: 0.6982 - accuracy: 0.8125\n",
      "Epoch 00038: val_loss did not improve from 1.26054\n",
      "20/20 [==============================] - 0s 3ms/step - loss: 0.5032 - accuracy: 0.8219 - val_loss: 1.3249 - val_accuracy: 0.6125\n",
      "Epoch 39/100\n",
      " 1/20 [>.............................] - ETA: 0s - loss: 0.4812 - accuracy: 0.7812\n",
      "Epoch 00039: val_loss did not improve from 1.26054\n",
      "20/20 [==============================] - 0s 3ms/step - loss: 0.5021 - accuracy: 0.8188 - val_loss: 1.3507 - val_accuracy: 0.6313\n",
      "Epoch 40/100\n",
      " 1/20 [>.............................] - ETA: 0s - loss: 0.7355 - accuracy: 0.7188\n",
      "Epoch 00040: val_loss did not improve from 1.26054\n",
      "20/20 [==============================] - 0s 3ms/step - loss: 0.4686 - accuracy: 0.8516 - val_loss: 1.4194 - val_accuracy: 0.5875\n",
      "Epoch 41/100\n",
      " 1/20 [>.............................] - ETA: 0s - loss: 0.4028 - accuracy: 0.8438\n",
      "Epoch 00041: val_loss did not improve from 1.26054\n",
      "20/20 [==============================] - 0s 3ms/step - loss: 0.4895 - accuracy: 0.8328 - val_loss: 1.3764 - val_accuracy: 0.5938\n",
      "Epoch 42/100\n",
      " 1/20 [>.............................] - ETA: 0s - loss: 0.3801 - accuracy: 0.8750\n",
      "Epoch 00042: val_loss did not improve from 1.26054\n",
      "20/20 [==============================] - 0s 3ms/step - loss: 0.4284 - accuracy: 0.8516 - val_loss: 1.4331 - val_accuracy: 0.5750\n",
      "Epoch 43/100\n",
      " 1/20 [>.............................] - ETA: 0s - loss: 0.5994 - accuracy: 0.7812\n",
      "Epoch 00043: val_loss did not improve from 1.26054\n",
      "20/20 [==============================] - 0s 3ms/step - loss: 0.4461 - accuracy: 0.8516 - val_loss: 1.3749 - val_accuracy: 0.6125\n",
      "Epoch 44/100\n",
      " 1/20 [>.............................] - ETA: 0s - loss: 0.6968 - accuracy: 0.7500\n",
      "Epoch 00044: val_loss did not improve from 1.26054\n",
      "20/20 [==============================] - 0s 3ms/step - loss: 0.3822 - accuracy: 0.8516 - val_loss: 1.4121 - val_accuracy: 0.6125\n",
      "Epoch 45/100\n",
      " 1/20 [>.............................] - ETA: 0s - loss: 0.4962 - accuracy: 0.8125\n",
      "Epoch 00045: val_loss did not improve from 1.26054\n",
      "20/20 [==============================] - 0s 3ms/step - loss: 0.3979 - accuracy: 0.8578 - val_loss: 1.4426 - val_accuracy: 0.6250\n",
      "Epoch 46/100\n",
      " 1/20 [>.............................] - ETA: 0s - loss: 0.3933 - accuracy: 0.8125\n",
      "Epoch 00046: val_loss did not improve from 1.26054\n",
      "20/20 [==============================] - 0s 3ms/step - loss: 0.3748 - accuracy: 0.8531 - val_loss: 1.4146 - val_accuracy: 0.6000\n",
      "Epoch 47/100\n",
      " 1/20 [>.............................] - ETA: 0s - loss: 0.4642 - accuracy: 0.8125\n",
      "Epoch 00047: val_loss did not improve from 1.26054\n",
      "20/20 [==============================] - 0s 3ms/step - loss: 0.3984 - accuracy: 0.8750 - val_loss: 1.5520 - val_accuracy: 0.6062\n",
      "Epoch 48/100\n",
      "17/20 [========================>.....] - ETA: 0s - loss: 0.3205 - accuracy: 0.8915\n",
      "Epoch 00048: val_loss did not improve from 1.26054\n",
      "20/20 [==============================] - 0s 4ms/step - loss: 0.3193 - accuracy: 0.8906 - val_loss: 1.4989 - val_accuracy: 0.6000\n",
      "Epoch 49/100\n",
      " 1/20 [>.............................] - ETA: 0s - loss: 0.3669 - accuracy: 0.8750\n",
      "Epoch 00049: val_loss did not improve from 1.26054\n",
      "20/20 [==============================] - 0s 3ms/step - loss: 0.2906 - accuracy: 0.9078 - val_loss: 1.4449 - val_accuracy: 0.6000\n",
      "Epoch 50/100\n",
      " 1/20 [>.............................] - ETA: 0s - loss: 0.5235 - accuracy: 0.7812\n",
      "Epoch 00050: val_loss did not improve from 1.26054\n",
      "20/20 [==============================] - 0s 3ms/step - loss: 0.3334 - accuracy: 0.8875 - val_loss: 1.5459 - val_accuracy: 0.5688\n",
      "Epoch 51/100\n",
      " 1/20 [>.............................] - ETA: 0s - loss: 0.1684 - accuracy: 1.0000\n",
      "Epoch 00051: val_loss did not improve from 1.26054\n",
      "20/20 [==============================] - 0s 3ms/step - loss: 0.2765 - accuracy: 0.9141 - val_loss: 1.5080 - val_accuracy: 0.5938\n",
      "Epoch 52/100\n",
      " 1/20 [>.............................] - ETA: 0s - loss: 0.3572 - accuracy: 0.8750\n",
      "Epoch 00052: val_loss did not improve from 1.26054\n",
      "20/20 [==============================] - 0s 3ms/step - loss: 0.3026 - accuracy: 0.8938 - val_loss: 1.4656 - val_accuracy: 0.6125\n",
      "Epoch 53/100\n",
      " 1/20 [>.............................] - ETA: 0s - loss: 0.3403 - accuracy: 0.8750\n",
      "Epoch 00053: val_loss did not improve from 1.26054\n",
      "20/20 [==============================] - 0s 3ms/step - loss: 0.3031 - accuracy: 0.9094 - val_loss: 1.5453 - val_accuracy: 0.5562\n",
      "Epoch 54/100\n",
      " 1/20 [>.............................] - ETA: 0s - loss: 0.2360 - accuracy: 0.9375\n",
      "Epoch 00054: val_loss did not improve from 1.26054\n",
      "20/20 [==============================] - 0s 3ms/step - loss: 0.2800 - accuracy: 0.9109 - val_loss: 1.5133 - val_accuracy: 0.6062\n",
      "Epoch 55/100\n",
      " 1/20 [>.............................] - ETA: 0s - loss: 0.2392 - accuracy: 0.8750\n",
      "Epoch 00055: val_loss did not improve from 1.26054\n",
      "20/20 [==============================] - 0s 3ms/step - loss: 0.2587 - accuracy: 0.9125 - val_loss: 1.5209 - val_accuracy: 0.5813\n",
      "Epoch 56/100\n",
      " 1/20 [>.............................] - ETA: 0s - loss: 0.1560 - accuracy: 0.9688\n",
      "Epoch 00056: val_loss did not improve from 1.26054\n",
      "20/20 [==============================] - 0s 4ms/step - loss: 0.2762 - accuracy: 0.9078 - val_loss: 1.5348 - val_accuracy: 0.6187\n",
      "Epoch 57/100\n",
      " 1/20 [>.............................] - ETA: 0s - loss: 0.2037 - accuracy: 0.9688\n",
      "Epoch 00057: val_loss did not improve from 1.26054\n",
      "20/20 [==============================] - 0s 3ms/step - loss: 0.2678 - accuracy: 0.9219 - val_loss: 1.6797 - val_accuracy: 0.5938\n",
      "Epoch 58/100\n",
      " 1/20 [>.............................] - ETA: 0s - loss: 0.1954 - accuracy: 0.9375\n",
      "Epoch 00058: val_loss did not improve from 1.26054\n",
      "20/20 [==============================] - 0s 3ms/step - loss: 0.2457 - accuracy: 0.9203 - val_loss: 1.6640 - val_accuracy: 0.6000\n",
      "Epoch 59/100\n",
      "20/20 [==============================] - ETA: 0s - loss: 0.1901 - accuracy: 0.9500\n",
      "Epoch 00059: val_loss did not improve from 1.26054\n",
      "20/20 [==============================] - 0s 4ms/step - loss: 0.1901 - accuracy: 0.9500 - val_loss: 1.6145 - val_accuracy: 0.6000\n",
      "Epoch 60/100\n",
      " 1/20 [>.............................] - ETA: 0s - loss: 0.1632 - accuracy: 1.0000\n",
      "Epoch 00060: val_loss did not improve from 1.26054\n",
      "20/20 [==============================] - 0s 3ms/step - loss: 0.2473 - accuracy: 0.9203 - val_loss: 1.6638 - val_accuracy: 0.5938\n",
      "Epoch 61/100\n",
      " 1/20 [>.............................] - ETA: 0s - loss: 0.1073 - accuracy: 1.0000\n",
      "Epoch 00061: val_loss did not improve from 1.26054\n",
      "20/20 [==============================] - 0s 3ms/step - loss: 0.2103 - accuracy: 0.9375 - val_loss: 1.6418 - val_accuracy: 0.5938\n",
      "Epoch 62/100\n",
      "17/20 [========================>.....] - ETA: 0s - loss: 0.2211 - accuracy: 0.9210\n",
      "Epoch 00062: val_loss did not improve from 1.26054\n",
      "20/20 [==============================] - 0s 4ms/step - loss: 0.2324 - accuracy: 0.9234 - val_loss: 1.6099 - val_accuracy: 0.6125\n",
      "Epoch 63/100\n",
      " 1/20 [>.............................] - ETA: 0s - loss: 0.1080 - accuracy: 0.9688\n",
      "Epoch 00063: val_loss did not improve from 1.26054\n",
      "20/20 [==============================] - 0s 3ms/step - loss: 0.2083 - accuracy: 0.9297 - val_loss: 1.5369 - val_accuracy: 0.6062\n",
      "Epoch 64/100\n",
      " 1/20 [>.............................] - ETA: 0s - loss: 0.2090 - accuracy: 0.9688\n",
      "Epoch 00064: val_loss did not improve from 1.26054\n",
      "20/20 [==============================] - 0s 4ms/step - loss: 0.2055 - accuracy: 0.9344 - val_loss: 1.6620 - val_accuracy: 0.5875\n",
      "Epoch 65/100\n",
      " 1/20 [>.............................] - ETA: 0s - loss: 0.1021 - accuracy: 1.0000\n",
      "Epoch 00065: val_loss did not improve from 1.26054\n",
      "20/20 [==============================] - 0s 3ms/step - loss: 0.1805 - accuracy: 0.9406 - val_loss: 1.7042 - val_accuracy: 0.6000\n",
      "Epoch 66/100\n",
      " 1/20 [>.............................] - ETA: 0s - loss: 0.1823 - accuracy: 0.9062\n",
      "Epoch 00066: val_loss did not improve from 1.26054\n",
      "20/20 [==============================] - 0s 3ms/step - loss: 0.1690 - accuracy: 0.9438 - val_loss: 1.6149 - val_accuracy: 0.6125\n",
      "Epoch 67/100\n",
      " 1/20 [>.............................] - ETA: 0s - loss: 0.1771 - accuracy: 0.9688\n",
      "Epoch 00067: val_loss did not improve from 1.26054\n",
      "20/20 [==============================] - 0s 3ms/step - loss: 0.1681 - accuracy: 0.9531 - val_loss: 1.6675 - val_accuracy: 0.6187\n",
      "Epoch 68/100\n",
      " 1/20 [>.............................] - ETA: 0s - loss: 0.0696 - accuracy: 1.0000\n",
      "Epoch 00068: val_loss did not improve from 1.26054\n",
      "20/20 [==============================] - 0s 3ms/step - loss: 0.1817 - accuracy: 0.9453 - val_loss: 1.6219 - val_accuracy: 0.6125\n",
      "Epoch 69/100\n",
      "19/20 [===========================>..] - ETA: 0s - loss: 0.1960 - accuracy: 0.9276\n",
      "Epoch 00069: val_loss did not improve from 1.26054\n",
      "20/20 [==============================] - 0s 4ms/step - loss: 0.1988 - accuracy: 0.9266 - val_loss: 1.7022 - val_accuracy: 0.5875\n",
      "Epoch 70/100\n",
      "20/20 [==============================] - ETA: 0s - loss: 0.1660 - accuracy: 0.9484\n",
      "Epoch 00070: val_loss did not improve from 1.26054\n",
      "20/20 [==============================] - 0s 4ms/step - loss: 0.1660 - accuracy: 0.9484 - val_loss: 1.7434 - val_accuracy: 0.5688\n",
      "Epoch 71/100\n",
      "19/20 [===========================>..] - ETA: 0s - loss: 0.1252 - accuracy: 0.9671\n",
      "Epoch 00071: val_loss did not improve from 1.26054\n",
      "20/20 [==============================] - 0s 4ms/step - loss: 0.1244 - accuracy: 0.9672 - val_loss: 1.7549 - val_accuracy: 0.5813\n",
      "Epoch 72/100\n",
      " 1/20 [>.............................] - ETA: 0s - loss: 0.2208 - accuracy: 0.9062\n",
      "Epoch 00072: val_loss did not improve from 1.26054\n",
      "20/20 [==============================] - 0s 3ms/step - loss: 0.1871 - accuracy: 0.9359 - val_loss: 1.6970 - val_accuracy: 0.6187\n",
      "Epoch 73/100\n",
      " 1/20 [>.............................] - ETA: 0s - loss: 0.1043 - accuracy: 0.9375\n",
      "Epoch 00073: val_loss did not improve from 1.26054\n",
      "20/20 [==============================] - 0s 3ms/step - loss: 0.1766 - accuracy: 0.9406 - val_loss: 1.7283 - val_accuracy: 0.6187\n",
      "Epoch 74/100\n",
      " 1/20 [>.............................] - ETA: 0s - loss: 0.1371 - accuracy: 1.0000\n",
      "Epoch 00074: val_loss did not improve from 1.26054\n",
      "20/20 [==============================] - 0s 3ms/step - loss: 0.1568 - accuracy: 0.9531 - val_loss: 1.7266 - val_accuracy: 0.6062\n",
      "Epoch 75/100\n",
      " 1/20 [>.............................] - ETA: 0s - loss: 0.1598 - accuracy: 0.9688\n",
      "Epoch 00075: val_loss did not improve from 1.26054\n",
      "20/20 [==============================] - 0s 4ms/step - loss: 0.1325 - accuracy: 0.9625 - val_loss: 1.7128 - val_accuracy: 0.6187\n",
      "Epoch 76/100\n",
      " 1/20 [>.............................] - ETA: 0s - loss: 0.2022 - accuracy: 0.9062\n",
      "Epoch 00076: val_loss did not improve from 1.26054\n",
      "20/20 [==============================] - 0s 3ms/step - loss: 0.1117 - accuracy: 0.9719 - val_loss: 1.8558 - val_accuracy: 0.5875\n",
      "Epoch 77/100\n",
      " 1/20 [>.............................] - ETA: 0s - loss: 0.2102 - accuracy: 0.9375\n",
      "Epoch 00077: val_loss did not improve from 1.26054\n",
      "20/20 [==============================] - 0s 3ms/step - loss: 0.1345 - accuracy: 0.9516 - val_loss: 1.8681 - val_accuracy: 0.5938\n",
      "Epoch 78/100\n",
      " 1/20 [>.............................] - ETA: 0s - loss: 0.2025 - accuracy: 0.9688\n",
      "Epoch 00078: val_loss did not improve from 1.26054\n",
      "20/20 [==============================] - 0s 3ms/step - loss: 0.1382 - accuracy: 0.9609 - val_loss: 1.7544 - val_accuracy: 0.5938\n",
      "Epoch 79/100\n",
      " 1/20 [>.............................] - ETA: 0s - loss: 0.1521 - accuracy: 0.9688\n",
      "Epoch 00079: val_loss did not improve from 1.26054\n",
      "20/20 [==============================] - 0s 3ms/step - loss: 0.1247 - accuracy: 0.9625 - val_loss: 1.8321 - val_accuracy: 0.6187\n",
      "Epoch 80/100\n",
      " 1/20 [>.............................] - ETA: 0s - loss: 0.0647 - accuracy: 0.9688\n",
      "Epoch 00080: val_loss did not improve from 1.26054\n",
      "20/20 [==============================] - 0s 3ms/step - loss: 0.1439 - accuracy: 0.9594 - val_loss: 1.8399 - val_accuracy: 0.6250\n",
      "Epoch 81/100\n",
      "17/20 [========================>.....] - ETA: 0s - loss: 0.1563 - accuracy: 0.9430\n",
      "Epoch 00081: val_loss did not improve from 1.26054\n",
      "20/20 [==============================] - 0s 4ms/step - loss: 0.1546 - accuracy: 0.9438 - val_loss: 1.8256 - val_accuracy: 0.6000\n",
      "Epoch 82/100\n",
      " 1/20 [>.............................] - ETA: 0s - loss: 0.1106 - accuracy: 0.9688\n",
      "Epoch 00082: val_loss did not improve from 1.26054\n",
      "20/20 [==============================] - 0s 3ms/step - loss: 0.1241 - accuracy: 0.9563 - val_loss: 1.8834 - val_accuracy: 0.5938\n",
      "Epoch 83/100\n",
      " 1/20 [>.............................] - ETA: 0s - loss: 0.0896 - accuracy: 0.9688\n",
      "Epoch 00083: val_loss did not improve from 1.26054\n",
      "20/20 [==============================] - 0s 4ms/step - loss: 0.1248 - accuracy: 0.9609 - val_loss: 1.9213 - val_accuracy: 0.5813\n",
      "Epoch 84/100\n",
      " 1/20 [>.............................] - ETA: 0s - loss: 0.1894 - accuracy: 0.8750\n",
      "Epoch 00084: val_loss did not improve from 1.26054\n",
      "20/20 [==============================] - 0s 3ms/step - loss: 0.1299 - accuracy: 0.9547 - val_loss: 1.9241 - val_accuracy: 0.6000\n",
      "Epoch 85/100\n",
      " 1/20 [>.............................] - ETA: 0s - loss: 0.0478 - accuracy: 1.0000\n",
      "Epoch 00085: val_loss did not improve from 1.26054\n",
      "20/20 [==============================] - 0s 3ms/step - loss: 0.1175 - accuracy: 0.9656 - val_loss: 1.9088 - val_accuracy: 0.6250\n",
      "Epoch 86/100\n",
      " 1/20 [>.............................] - ETA: 0s - loss: 0.0548 - accuracy: 1.0000\n",
      "Epoch 00086: val_loss did not improve from 1.26054\n",
      "20/20 [==============================] - 0s 3ms/step - loss: 0.1253 - accuracy: 0.9641 - val_loss: 2.0796 - val_accuracy: 0.6125\n",
      "Epoch 87/100\n",
      " 1/20 [>.............................] - ETA: 0s - loss: 0.0431 - accuracy: 0.9688\n",
      "Epoch 00087: val_loss did not improve from 1.26054\n",
      "20/20 [==============================] - 0s 3ms/step - loss: 0.0971 - accuracy: 0.9734 - val_loss: 1.9549 - val_accuracy: 0.6438\n",
      "Epoch 88/100\n",
      " 1/20 [>.............................] - ETA: 0s - loss: 0.0756 - accuracy: 1.0000\n",
      "Epoch 00088: val_loss did not improve from 1.26054\n",
      "20/20 [==============================] - 0s 3ms/step - loss: 0.1081 - accuracy: 0.9703 - val_loss: 1.9952 - val_accuracy: 0.6062\n",
      "Epoch 89/100\n",
      " 1/20 [>.............................] - ETA: 0s - loss: 0.0564 - accuracy: 1.0000\n",
      "Epoch 00089: val_loss did not improve from 1.26054\n",
      "20/20 [==============================] - 0s 3ms/step - loss: 0.0974 - accuracy: 0.9750 - val_loss: 2.0057 - val_accuracy: 0.6125\n",
      "Epoch 90/100\n",
      " 1/20 [>.............................] - ETA: 0s - loss: 0.0625 - accuracy: 0.9688\n",
      "Epoch 00090: val_loss did not improve from 1.26054\n",
      "20/20 [==============================] - 0s 3ms/step - loss: 0.1029 - accuracy: 0.9688 - val_loss: 1.9388 - val_accuracy: 0.6125\n",
      "Epoch 91/100\n",
      " 1/20 [>.............................] - ETA: 0s - loss: 0.1041 - accuracy: 1.0000\n",
      "Epoch 00091: val_loss did not improve from 1.26054\n",
      "20/20 [==============================] - 0s 3ms/step - loss: 0.1118 - accuracy: 0.9641 - val_loss: 1.9932 - val_accuracy: 0.6438\n",
      "Epoch 92/100\n",
      " 1/20 [>.............................] - ETA: 0s - loss: 0.0565 - accuracy: 1.0000\n",
      "Epoch 00092: val_loss did not improve from 1.26054\n",
      "20/20 [==============================] - 0s 3ms/step - loss: 0.0898 - accuracy: 0.9703 - val_loss: 1.9966 - val_accuracy: 0.6375\n",
      "Epoch 93/100\n",
      " 1/20 [>.............................] - ETA: 0s - loss: 0.0244 - accuracy: 1.0000\n",
      "Epoch 00093: val_loss did not improve from 1.26054\n",
      "20/20 [==============================] - 0s 3ms/step - loss: 0.0931 - accuracy: 0.9781 - val_loss: 2.0543 - val_accuracy: 0.6125\n",
      "Epoch 94/100\n",
      " 1/20 [>.............................] - ETA: 0s - loss: 0.0574 - accuracy: 1.0000\n",
      "Epoch 00094: val_loss did not improve from 1.26054\n",
      "20/20 [==============================] - 0s 3ms/step - loss: 0.0798 - accuracy: 0.9812 - val_loss: 2.0195 - val_accuracy: 0.5938\n",
      "Epoch 95/100\n",
      " 1/20 [>.............................] - ETA: 0s - loss: 0.0727 - accuracy: 1.0000\n",
      "Epoch 00095: val_loss did not improve from 1.26054\n",
      "20/20 [==============================] - 0s 3ms/step - loss: 0.0878 - accuracy: 0.9703 - val_loss: 2.0511 - val_accuracy: 0.6187\n",
      "Epoch 96/100\n",
      "19/20 [===========================>..] - ETA: 0s - loss: 0.1105 - accuracy: 0.9720\n",
      "Epoch 00096: val_loss did not improve from 1.26054\n",
      "20/20 [==============================] - 0s 4ms/step - loss: 0.1080 - accuracy: 0.9734 - val_loss: 2.0112 - val_accuracy: 0.5813\n",
      "Epoch 97/100\n",
      " 1/20 [>.............................] - ETA: 0s - loss: 0.0294 - accuracy: 1.0000\n",
      "Epoch 00097: val_loss did not improve from 1.26054\n",
      "20/20 [==============================] - 0s 3ms/step - loss: 0.0964 - accuracy: 0.9641 - val_loss: 2.0814 - val_accuracy: 0.5938\n",
      "Epoch 98/100\n",
      " 1/20 [>.............................] - ETA: 0s - loss: 0.0772 - accuracy: 0.9688\n",
      "Epoch 00098: val_loss did not improve from 1.26054\n",
      "20/20 [==============================] - 0s 3ms/step - loss: 0.0993 - accuracy: 0.9734 - val_loss: 2.0640 - val_accuracy: 0.6125\n",
      "Epoch 99/100\n",
      " 1/20 [>.............................] - ETA: 0s - loss: 0.0338 - accuracy: 1.0000\n",
      "Epoch 00099: val_loss did not improve from 1.26054\n",
      "20/20 [==============================] - 0s 3ms/step - loss: 0.1080 - accuracy: 0.9594 - val_loss: 2.1974 - val_accuracy: 0.5938\n",
      "Epoch 100/100\n",
      " 1/20 [>.............................] - ETA: 0s - loss: 0.0508 - accuracy: 1.0000\n",
      "Epoch 00100: val_loss did not improve from 1.26054\n",
      "20/20 [==============================] - 0s 3ms/step - loss: 0.0771 - accuracy: 0.9812 - val_loss: 2.0848 - val_accuracy: 0.5938\n"
     ]
    }
   ],
   "source": [
    "num_epochs = 100\n",
    "num_batch_size = 32\n",
    "\n",
    "checkpointer = ModelCheckpoint(filepath = 'DNN_Model_FirstTry', \n",
    "                               verbose = 1, \n",
    "                               save_best_only = True)\n",
    "\n",
    "history = model.fit(x_train, y_train, \n",
    "                    batch_size = num_batch_size, \n",
    "                    epochs = num_epochs, \n",
    "                    validation_split = 0.2, \n",
    "                    callbacks = [checkpointer], \n",
    "                    verbose = 1)"
   ]
  },
  {
   "cell_type": "code",
   "execution_count": null,
   "metadata": {
    "colab": {
     "base_uri": "https://localhost:8080/",
     "height": 295
    },
    "colab_type": "code",
    "executionInfo": {
     "elapsed": 527,
     "status": "ok",
     "timestamp": 1598838591778,
     "user": {
      "displayName": "José Pascual Manzano",
      "photoUrl": "",
      "userId": "09920607595779470069"
     },
     "user_tz": -120
    },
    "id": "E17EoXwH8L79",
    "outputId": "1bd5f0c0-e6dd-4178-d2b2-37222d2fca26"
   },
   "outputs": [
    {
     "data": {
      "image/png": "[encoded data removed]",
      "text/plain": [
       "<Figure size 432x288 with 1 Axes>"
      ]
     },
     "metadata": {
      "needs_background": "light",
      "tags": []
     },
     "output_type": "display_data"
    }
   ],
   "source": [
    "plt.plot(history.history['loss'])\n",
    "plt.plot(history.history['val_loss'])\n",
    "plt.title('Training and Validation Loss')\n",
    "plt.ylabel('Loss')\n",
    "plt.xlabel('Epoch')\n",
    "plt.legend(['Training', 'Validation'], loc='upper right')\n",
    "plt.show()"
   ]
  },
  {
   "cell_type": "code",
   "execution_count": null,
   "metadata": {
    "colab": {
     "base_uri": "https://localhost:8080/",
     "height": 295
    },
    "colab_type": "code",
    "executionInfo": {
     "elapsed": 567,
     "status": "ok",
     "timestamp": 1598838595501,
     "user": {
      "displayName": "José Pascual Manzano",
      "photoUrl": "",
      "userId": "09920607595779470069"
     },
     "user_tz": -120
    },
    "id": "aLsWTJ5t8bxk",
    "outputId": "45f2d2e2-f076-43a6-ffff-591e38240fab"
   },
   "outputs": [
    {
     "data": {
      "image/png": "[encoded data removed]",
      "text/plain": [
       "<Figure size 432x288 with 1 Axes>"
      ]
     },
     "metadata": {
      "needs_background": "light",
      "tags": []
     },
     "output_type": "display_data"
    }
   ],
   "source": [
    "plt.plot(history.history['accuracy'])\n",
    "plt.plot(history.history['val_accuracy'])\n",
    "plt.title('Training and Validation Accuracy')\n",
    "plt.ylabel('Accuracy')\n",
    "plt.xlabel('Epoch')\n",
    "plt.legend(['Training', 'Validation'], loc='upper right')\n",
    "plt.show()"
   ]
  },
  {
   "cell_type": "code",
   "execution_count": null,
   "metadata": {
    "colab": {
     "base_uri": "https://localhost:8080/",
     "height": 54
    },
    "colab_type": "code",
    "executionInfo": {
     "elapsed": 688,
     "status": "ok",
     "timestamp": 1598838606580,
     "user": {
      "displayName": "José Pascual Manzano",
      "photoUrl": "",
      "userId": "09920607595779470069"
     },
     "user_tz": -120
    },
    "id": "zKZJ8GUzNAIi",
    "outputId": "b668602d-88b7-4758-d3a9-bde7ef4bf39d"
   },
   "outputs": [
    {
     "name": "stdout",
     "output_type": "stream",
     "text": [
      "Training Accuracy: 0.9175000190734863\n",
      "Testing Accuracy: 0.6499999761581421\n"
     ]
    }
   ],
   "source": [
    "training_score = model.evaluate(x_train, y_train, verbose = 0)\n",
    "print(f'Training Accuracy: {training_score[1]}')\n",
    "\n",
    "testing_score = model.evaluate(x_test, y_test, verbose = 0)\n",
    "print(f'Testing Accuracy: {testing_score[1]}')"
   ]
  },
  {
   "cell_type": "markdown",
   "metadata": {
    "colab_type": "text",
    "id": "y7f47GDJ9Igc"
   },
   "source": [
    "#DNN Model (2nd try - Less Overfitting)"
   ]
  },
  {
   "cell_type": "markdown",
   "metadata": {
    "colab_type": "text",
    "id": "HC_T82eGN9_y"
   },
   "source": [
    "## Build the Model"
   ]
  },
  {
   "cell_type": "code",
   "execution_count": null,
   "metadata": {
    "colab": {},
    "colab_type": "code",
    "id": "KEJkU6ZkAMBM"
   },
   "outputs": [],
   "source": [
    "K.clear_session()"
   ]
  },
  {
   "cell_type": "code",
   "execution_count": null,
   "metadata": {
    "colab": {},
    "colab_type": "code",
    "id": "96Ww3m179Myk"
   },
   "outputs": [],
   "source": [
    "num_labels = yy.shape[1]\n",
    "\n",
    "model = Sequential()\n",
    "model.add(Dense(512, activation = 'relu', input_shape=(40,)))\n",
    "model.add(Dropout(0.5))\n",
    "model.add(Dense(512, activation = 'relu'))\n",
    "model.add(Dropout(0.5))\n",
    "model.add(Dense(512, activation = 'relu'))\n",
    "model.add(Dropout(0.5))\n",
    "model.add(Dense(num_labels, activation = 'softmax'))"
   ]
  },
  {
   "cell_type": "code",
   "execution_count": null,
   "metadata": {
    "colab": {},
    "colab_type": "code",
    "id": "2xjkkvxq9eZs"
   },
   "outputs": [],
   "source": [
    "model.compile(loss = 'categorical_crossentropy', \n",
    "              metrics = ['accuracy'], \n",
    "              optimizer = 'adam')"
   ]
  },
  {
   "cell_type": "code",
   "execution_count": null,
   "metadata": {
    "colab": {
     "base_uri": "https://localhost:8080/",
     "height": 1000
    },
    "colab_type": "code",
    "executionInfo": {
     "elapsed": 65562,
     "status": "ok",
     "timestamp": 1598838698403,
     "user": {
      "displayName": "José Pascual Manzano",
      "photoUrl": "",
      "userId": "09920607595779470069"
     },
     "user_tz": -120
    },
    "id": "09fZuKBF9g6-",
    "outputId": "ea579bad-58ef-4f3c-f4ae-20589e6f6a87"
   },
   "outputs": [
    {
     "name": "stdout",
     "output_type": "stream",
     "text": [
      "Epoch 1/100\n",
      "24/25 [===========================>..] - ETA: 0s - loss: 13.9724 - accuracy: 0.1302\n",
      "Epoch 00001: val_loss improved from inf to 2.22831, saving model to DNN_Model_SecondTry\n",
      "INFO:tensorflow:Assets written to: DNN_Model_SecondTry/assets\n",
      "25/25 [==============================] - 1s 54ms/step - loss: 13.8159 - accuracy: 0.1300 - val_loss: 2.2283 - val_accuracy: 0.2700\n",
      "Epoch 2/100\n",
      "25/25 [==============================] - ETA: 0s - loss: 5.9483 - accuracy: 0.1937\n",
      "Epoch 00002: val_loss improved from 2.22831 to 2.02775, saving model to DNN_Model_SecondTry\n",
      "INFO:tensorflow:Assets written to: DNN_Model_SecondTry/assets\n",
      "25/25 [==============================] - 1s 60ms/step - loss: 5.9483 - accuracy: 0.1937 - val_loss: 2.0278 - val_accuracy: 0.2900\n",
      "Epoch 3/100\n",
      "25/25 [==============================] - ETA: 0s - loss: 3.7972 - accuracy: 0.1975\n",
      "Epoch 00003: val_loss improved from 2.02775 to 1.83017, saving model to DNN_Model_SecondTry\n",
      "INFO:tensorflow:Assets written to: DNN_Model_SecondTry/assets\n",
      "25/25 [==============================] - 1s 51ms/step - loss: 3.7972 - accuracy: 0.1975 - val_loss: 1.8302 - val_accuracy: 0.3150\n",
      "Epoch 4/100\n",
      "20/25 [=======================>......] - ETA: 0s - loss: 3.1128 - accuracy: 0.2359\n",
      "Epoch 00004: val_loss did not improve from 1.83017\n",
      "25/25 [==============================] - 0s 9ms/step - loss: 2.9902 - accuracy: 0.2450 - val_loss: 1.8569 - val_accuracy: 0.3800\n",
      "Epoch 5/100\n",
      "24/25 [===========================>..] - ETA: 0s - loss: 2.6951 - accuracy: 0.2318\n",
      "Epoch 00005: val_loss did not improve from 1.83017\n",
      "25/25 [==============================] - 0s 10ms/step - loss: 2.7025 - accuracy: 0.2300 - val_loss: 1.8927 - val_accuracy: 0.3450\n",
      "Epoch 6/100\n",
      "20/25 [=======================>......] - ETA: 0s - loss: 2.4475 - accuracy: 0.2406\n",
      "Epoch 00006: val_loss did not improve from 1.83017\n",
      "25/25 [==============================] - 0s 10ms/step - loss: 2.4664 - accuracy: 0.2350 - val_loss: 1.9214 - val_accuracy: 0.3700\n",
      "Epoch 7/100\n",
      "25/25 [==============================] - ETA: 0s - loss: 2.2091 - accuracy: 0.2612\n",
      "Epoch 00007: val_loss did not improve from 1.83017\n",
      "25/25 [==============================] - 0s 10ms/step - loss: 2.2091 - accuracy: 0.2612 - val_loss: 1.8595 - val_accuracy: 0.4100\n",
      "Epoch 8/100\n",
      "20/25 [=======================>......] - ETA: 0s - loss: 2.1094 - accuracy: 0.3141\n",
      "Epoch 00008: val_loss did not improve from 1.83017\n",
      "25/25 [==============================] - 0s 10ms/step - loss: 2.1107 - accuracy: 0.3113 - val_loss: 1.8655 - val_accuracy: 0.3500\n",
      "Epoch 9/100\n",
      "25/25 [==============================] - ETA: 0s - loss: 2.0401 - accuracy: 0.3113\n",
      "Epoch 00009: val_loss improved from 1.83017 to 1.80611, saving model to DNN_Model_SecondTry\n",
      "INFO:tensorflow:Assets written to: DNN_Model_SecondTry/assets\n",
      "25/25 [==============================] - 1s 49ms/step - loss: 2.0401 - accuracy: 0.3113 - val_loss: 1.8061 - val_accuracy: 0.4100\n",
      "Epoch 10/100\n",
      "25/25 [==============================] - ETA: 0s - loss: 2.0084 - accuracy: 0.3162\n",
      "Epoch 00010: val_loss improved from 1.80611 to 1.76898, saving model to DNN_Model_SecondTry\n",
      "INFO:tensorflow:Assets written to: DNN_Model_SecondTry/assets\n",
      "25/25 [==============================] - 1s 51ms/step - loss: 2.0084 - accuracy: 0.3162 - val_loss: 1.7690 - val_accuracy: 0.4800\n",
      "Epoch 11/100\n",
      "20/25 [=======================>......] - ETA: 0s - loss: 1.8906 - accuracy: 0.3375\n",
      "Epoch 00011: val_loss improved from 1.76898 to 1.73510, saving model to DNN_Model_SecondTry\n",
      "INFO:tensorflow:Assets written to: DNN_Model_SecondTry/assets\n",
      "25/25 [==============================] - 1s 49ms/step - loss: 1.9180 - accuracy: 0.3313 - val_loss: 1.7351 - val_accuracy: 0.4600\n",
      "Epoch 12/100\n",
      "24/25 [===========================>..] - ETA: 0s - loss: 1.8757 - accuracy: 0.3659\n",
      "Epoch 00012: val_loss improved from 1.73510 to 1.70436, saving model to DNN_Model_SecondTry\n",
      "INFO:tensorflow:Assets written to: DNN_Model_SecondTry/assets\n",
      "25/25 [==============================] - 2s 61ms/step - loss: 1.8797 - accuracy: 0.3600 - val_loss: 1.7044 - val_accuracy: 0.4200\n",
      "Epoch 13/100\n",
      "25/25 [==============================] - ETA: 0s - loss: 1.8645 - accuracy: 0.3325\n",
      "Epoch 00013: val_loss improved from 1.70436 to 1.66182, saving model to DNN_Model_SecondTry\n",
      "INFO:tensorflow:Assets written to: DNN_Model_SecondTry/assets\n",
      "25/25 [==============================] - 1s 51ms/step - loss: 1.8645 - accuracy: 0.3325 - val_loss: 1.6618 - val_accuracy: 0.4750\n",
      "Epoch 14/100\n",
      "25/25 [==============================] - ETA: 0s - loss: 1.7987 - accuracy: 0.3775\n",
      "Epoch 00014: val_loss did not improve from 1.66182\n",
      "25/25 [==============================] - 0s 10ms/step - loss: 1.7987 - accuracy: 0.3775 - val_loss: 1.7146 - val_accuracy: 0.4700\n",
      "Epoch 15/100\n",
      "25/25 [==============================] - ETA: 0s - loss: 1.7949 - accuracy: 0.3663\n",
      "Epoch 00015: val_loss did not improve from 1.66182\n",
      "25/25 [==============================] - 0s 10ms/step - loss: 1.7949 - accuracy: 0.3663 - val_loss: 1.6843 - val_accuracy: 0.4250\n",
      "Epoch 16/100\n",
      "25/25 [==============================] - ETA: 0s - loss: 1.7634 - accuracy: 0.3750\n",
      "Epoch 00016: val_loss did not improve from 1.66182\n",
      "25/25 [==============================] - 0s 10ms/step - loss: 1.7634 - accuracy: 0.3750 - val_loss: 1.6938 - val_accuracy: 0.4250\n",
      "Epoch 17/100\n",
      "24/25 [===========================>..] - ETA: 0s - loss: 1.7120 - accuracy: 0.3945\n",
      "Epoch 00017: val_loss improved from 1.66182 to 1.62317, saving model to DNN_Model_SecondTry\n",
      "INFO:tensorflow:Assets written to: DNN_Model_SecondTry/assets\n",
      "25/25 [==============================] - 1s 50ms/step - loss: 1.7066 - accuracy: 0.3925 - val_loss: 1.6232 - val_accuracy: 0.4650\n",
      "Epoch 18/100\n",
      "25/25 [==============================] - ETA: 0s - loss: 1.7082 - accuracy: 0.4125\n",
      "Epoch 00018: val_loss improved from 1.62317 to 1.59735, saving model to DNN_Model_SecondTry\n",
      "INFO:tensorflow:Assets written to: DNN_Model_SecondTry/assets\n",
      "25/25 [==============================] - 1s 49ms/step - loss: 1.7082 - accuracy: 0.4125 - val_loss: 1.5974 - val_accuracy: 0.4700\n",
      "Epoch 19/100\n",
      "25/25 [==============================] - ETA: 0s - loss: 1.6309 - accuracy: 0.4187\n",
      "Epoch 00019: val_loss improved from 1.59735 to 1.53522, saving model to DNN_Model_SecondTry\n",
      "INFO:tensorflow:Assets written to: DNN_Model_SecondTry/assets\n",
      "25/25 [==============================] - 1s 51ms/step - loss: 1.6309 - accuracy: 0.4187 - val_loss: 1.5352 - val_accuracy: 0.4850\n",
      "Epoch 20/100\n",
      "24/25 [===========================>..] - ETA: 0s - loss: 1.5578 - accuracy: 0.4453\n",
      "Epoch 00020: val_loss improved from 1.53522 to 1.53474, saving model to DNN_Model_SecondTry\n",
      "INFO:tensorflow:Assets written to: DNN_Model_SecondTry/assets\n",
      "25/25 [==============================] - 1s 49ms/step - loss: 1.5643 - accuracy: 0.4475 - val_loss: 1.5347 - val_accuracy: 0.4950\n",
      "Epoch 21/100\n",
      "24/25 [===========================>..] - ETA: 0s - loss: 1.5900 - accuracy: 0.4193\n",
      "Epoch 00021: val_loss improved from 1.53474 to 1.51091, saving model to DNN_Model_SecondTry\n",
      "INFO:tensorflow:Assets written to: DNN_Model_SecondTry/assets\n",
      "25/25 [==============================] - 2s 60ms/step - loss: 1.5683 - accuracy: 0.4275 - val_loss: 1.5109 - val_accuracy: 0.4950\n",
      "Epoch 22/100\n",
      "25/25 [==============================] - ETA: 0s - loss: 1.6027 - accuracy: 0.4288\n",
      "Epoch 00022: val_loss improved from 1.51091 to 1.49824, saving model to DNN_Model_SecondTry\n",
      "INFO:tensorflow:Assets written to: DNN_Model_SecondTry/assets\n",
      "25/25 [==============================] - 1s 50ms/step - loss: 1.6027 - accuracy: 0.4288 - val_loss: 1.4982 - val_accuracy: 0.5450\n",
      "Epoch 23/100\n",
      "25/25 [==============================] - ETA: 0s - loss: 1.5546 - accuracy: 0.4550\n",
      "Epoch 00023: val_loss did not improve from 1.49824\n",
      "25/25 [==============================] - 0s 9ms/step - loss: 1.5546 - accuracy: 0.4550 - val_loss: 1.5521 - val_accuracy: 0.5250\n",
      "Epoch 24/100\n",
      "23/25 [==========================>...] - ETA: 0s - loss: 1.5171 - accuracy: 0.4497\n",
      "Epoch 00024: val_loss did not improve from 1.49824\n",
      "25/25 [==============================] - 0s 10ms/step - loss: 1.5076 - accuracy: 0.4538 - val_loss: 1.5146 - val_accuracy: 0.5250\n",
      "Epoch 25/100\n",
      "19/25 [=====================>........] - ETA: 0s - loss: 1.6074 - accuracy: 0.4507\n",
      "Epoch 00025: val_loss did not improve from 1.49824\n",
      "25/25 [==============================] - 0s 10ms/step - loss: 1.5932 - accuracy: 0.4525 - val_loss: 1.5155 - val_accuracy: 0.5200\n",
      "Epoch 26/100\n",
      "24/25 [===========================>..] - ETA: 0s - loss: 1.4416 - accuracy: 0.4961\n",
      "Epoch 00026: val_loss improved from 1.49824 to 1.46513, saving model to DNN_Model_SecondTry\n",
      "INFO:tensorflow:Assets written to: DNN_Model_SecondTry/assets\n",
      "25/25 [==============================] - 1s 50ms/step - loss: 1.4558 - accuracy: 0.4938 - val_loss: 1.4651 - val_accuracy: 0.5400\n",
      "Epoch 27/100\n",
      "20/25 [=======================>......] - ETA: 0s - loss: 1.5154 - accuracy: 0.4516\n",
      "Epoch 00027: val_loss improved from 1.46513 to 1.44933, saving model to DNN_Model_SecondTry\n",
      "INFO:tensorflow:Assets written to: DNN_Model_SecondTry/assets\n",
      "25/25 [==============================] - 1s 49ms/step - loss: 1.4774 - accuracy: 0.4600 - val_loss: 1.4493 - val_accuracy: 0.5300\n",
      "Epoch 28/100\n",
      "24/25 [===========================>..] - ETA: 0s - loss: 1.4203 - accuracy: 0.4909\n",
      "Epoch 00028: val_loss improved from 1.44933 to 1.42744, saving model to DNN_Model_SecondTry\n",
      "INFO:tensorflow:Assets written to: DNN_Model_SecondTry/assets\n",
      "25/25 [==============================] - 1s 48ms/step - loss: 1.4222 - accuracy: 0.4900 - val_loss: 1.4274 - val_accuracy: 0.5200\n",
      "Epoch 29/100\n",
      "24/25 [===========================>..] - ETA: 0s - loss: 1.3920 - accuracy: 0.4948\n",
      "Epoch 00029: val_loss improved from 1.42744 to 1.40886, saving model to DNN_Model_SecondTry\n",
      "INFO:tensorflow:Assets written to: DNN_Model_SecondTry/assets\n",
      "25/25 [==============================] - 1s 50ms/step - loss: 1.4008 - accuracy: 0.4913 - val_loss: 1.4089 - val_accuracy: 0.5300\n",
      "Epoch 30/100\n",
      "24/25 [===========================>..] - ETA: 0s - loss: 1.3888 - accuracy: 0.5000\n",
      "Epoch 00030: val_loss did not improve from 1.40886\n",
      "25/25 [==============================] - 0s 17ms/step - loss: 1.3820 - accuracy: 0.5063 - val_loss: 1.4286 - val_accuracy: 0.5150\n",
      "Epoch 31/100\n",
      "25/25 [==============================] - ETA: 0s - loss: 1.3890 - accuracy: 0.5113\n",
      "Epoch 00031: val_loss improved from 1.40886 to 1.37645, saving model to DNN_Model_SecondTry\n",
      "INFO:tensorflow:Assets written to: DNN_Model_SecondTry/assets\n",
      "25/25 [==============================] - 2s 92ms/step - loss: 1.3890 - accuracy: 0.5113 - val_loss: 1.3765 - val_accuracy: 0.5550\n",
      "Epoch 32/100\n",
      "23/25 [==========================>...] - ETA: 0s - loss: 1.3272 - accuracy: 0.5367\n",
      "Epoch 00032: val_loss improved from 1.37645 to 1.35829, saving model to DNN_Model_SecondTry\n",
      "INFO:tensorflow:Assets written to: DNN_Model_SecondTry/assets\n",
      "25/25 [==============================] - 2s 75ms/step - loss: 1.3225 - accuracy: 0.5387 - val_loss: 1.3583 - val_accuracy: 0.5400\n",
      "Epoch 33/100\n",
      "23/25 [==========================>...] - ETA: 0s - loss: 1.3234 - accuracy: 0.5394\n",
      "Epoch 00033: val_loss did not improve from 1.35829\n",
      "25/25 [==============================] - 0s 17ms/step - loss: 1.3231 - accuracy: 0.5350 - val_loss: 1.3847 - val_accuracy: 0.5450\n",
      "Epoch 34/100\n",
      "22/25 [=========================>....] - ETA: 0s - loss: 1.2975 - accuracy: 0.5440\n",
      "Epoch 00034: val_loss improved from 1.35829 to 1.32329, saving model to DNN_Model_SecondTry\n",
      "INFO:tensorflow:Assets written to: DNN_Model_SecondTry/assets\n",
      "25/25 [==============================] - 1s 58ms/step - loss: 1.2880 - accuracy: 0.5412 - val_loss: 1.3233 - val_accuracy: 0.5400\n",
      "Epoch 35/100\n",
      "20/25 [=======================>......] - ETA: 0s - loss: 1.3048 - accuracy: 0.5391\n",
      "Epoch 00035: val_loss improved from 1.32329 to 1.31560, saving model to DNN_Model_SecondTry\n",
      "INFO:tensorflow:Assets written to: DNN_Model_SecondTry/assets\n",
      "25/25 [==============================] - 1s 48ms/step - loss: 1.3286 - accuracy: 0.5250 - val_loss: 1.3156 - val_accuracy: 0.5350\n",
      "Epoch 36/100\n",
      "25/25 [==============================] - ETA: 0s - loss: 1.2595 - accuracy: 0.5362\n",
      "Epoch 00036: val_loss did not improve from 1.31560\n",
      "25/25 [==============================] - 0s 11ms/step - loss: 1.2595 - accuracy: 0.5362 - val_loss: 1.3305 - val_accuracy: 0.5550\n",
      "Epoch 37/100\n",
      "25/25 [==============================] - ETA: 0s - loss: 1.2439 - accuracy: 0.5525\n",
      "Epoch 00037: val_loss did not improve from 1.31560\n",
      "25/25 [==============================] - 0s 10ms/step - loss: 1.2439 - accuracy: 0.5525 - val_loss: 1.3396 - val_accuracy: 0.5500\n",
      "Epoch 38/100\n",
      "24/25 [===========================>..] - ETA: 0s - loss: 1.1721 - accuracy: 0.6120\n",
      "Epoch 00038: val_loss improved from 1.31560 to 1.29715, saving model to DNN_Model_SecondTry\n",
      "INFO:tensorflow:Assets written to: DNN_Model_SecondTry/assets\n",
      "25/25 [==============================] - 1s 48ms/step - loss: 1.1803 - accuracy: 0.6062 - val_loss: 1.2971 - val_accuracy: 0.5800\n",
      "Epoch 39/100\n",
      "20/25 [=======================>......] - ETA: 0s - loss: 1.1417 - accuracy: 0.5922\n",
      "Epoch 00039: val_loss improved from 1.29715 to 1.28613, saving model to DNN_Model_SecondTry\n",
      "INFO:tensorflow:Assets written to: DNN_Model_SecondTry/assets\n",
      "25/25 [==============================] - 1s 60ms/step - loss: 1.1670 - accuracy: 0.5900 - val_loss: 1.2861 - val_accuracy: 0.5600\n",
      "Epoch 40/100\n",
      "20/25 [=======================>......] - ETA: 0s - loss: 1.2546 - accuracy: 0.5625\n",
      "Epoch 00040: val_loss did not improve from 1.28613\n",
      "25/25 [==============================] - 0s 10ms/step - loss: 1.2041 - accuracy: 0.5788 - val_loss: 1.3166 - val_accuracy: 0.5650\n",
      "Epoch 41/100\n",
      "25/25 [==============================] - ETA: 0s - loss: 1.1788 - accuracy: 0.5863\n",
      "Epoch 00041: val_loss improved from 1.28613 to 1.24586, saving model to DNN_Model_SecondTry\n",
      "INFO:tensorflow:Assets written to: DNN_Model_SecondTry/assets\n",
      "25/25 [==============================] - 1s 50ms/step - loss: 1.1788 - accuracy: 0.5863 - val_loss: 1.2459 - val_accuracy: 0.5850\n",
      "Epoch 42/100\n",
      "21/25 [========================>.....] - ETA: 0s - loss: 1.0922 - accuracy: 0.6176\n",
      "Epoch 00042: val_loss did not improve from 1.24586\n",
      "25/25 [==============================] - 0s 9ms/step - loss: 1.1546 - accuracy: 0.5975 - val_loss: 1.2726 - val_accuracy: 0.5500\n",
      "Epoch 43/100\n",
      "21/25 [========================>.....] - ETA: 0s - loss: 1.1582 - accuracy: 0.5938\n",
      "Epoch 00043: val_loss improved from 1.24586 to 1.24353, saving model to DNN_Model_SecondTry\n",
      "INFO:tensorflow:Assets written to: DNN_Model_SecondTry/assets\n",
      "25/25 [==============================] - 1s 49ms/step - loss: 1.1528 - accuracy: 0.5975 - val_loss: 1.2435 - val_accuracy: 0.5650\n",
      "Epoch 44/100\n",
      "22/25 [=========================>....] - ETA: 0s - loss: 1.1160 - accuracy: 0.5881\n",
      "Epoch 00044: val_loss improved from 1.24353 to 1.24193, saving model to DNN_Model_SecondTry\n",
      "INFO:tensorflow:Assets written to: DNN_Model_SecondTry/assets\n",
      "25/25 [==============================] - 1s 52ms/step - loss: 1.1176 - accuracy: 0.5938 - val_loss: 1.2419 - val_accuracy: 0.5700\n",
      "Epoch 45/100\n",
      "25/25 [==============================] - ETA: 0s - loss: 1.1236 - accuracy: 0.6037\n",
      "Epoch 00045: val_loss did not improve from 1.24193\n",
      "25/25 [==============================] - 0s 10ms/step - loss: 1.1236 - accuracy: 0.6037 - val_loss: 1.2635 - val_accuracy: 0.5950\n",
      "Epoch 46/100\n",
      "25/25 [==============================] - ETA: 0s - loss: 1.0649 - accuracy: 0.6463\n",
      "Epoch 00046: val_loss improved from 1.24193 to 1.22785, saving model to DNN_Model_SecondTry\n",
      "INFO:tensorflow:Assets written to: DNN_Model_SecondTry/assets\n",
      "25/25 [==============================] - 1s 49ms/step - loss: 1.0649 - accuracy: 0.6463 - val_loss: 1.2279 - val_accuracy: 0.5950\n",
      "Epoch 47/100\n",
      "20/25 [=======================>......] - ETA: 0s - loss: 0.9859 - accuracy: 0.6516\n",
      "Epoch 00047: val_loss did not improve from 1.22785\n",
      "25/25 [==============================] - 0s 9ms/step - loss: 0.9923 - accuracy: 0.6538 - val_loss: 1.2504 - val_accuracy: 0.5850\n",
      "Epoch 48/100\n",
      "25/25 [==============================] - ETA: 0s - loss: 1.0774 - accuracy: 0.6275\n",
      "Epoch 00048: val_loss did not improve from 1.22785\n",
      "25/25 [==============================] - 0s 10ms/step - loss: 1.0774 - accuracy: 0.6275 - val_loss: 1.2335 - val_accuracy: 0.5850\n",
      "Epoch 49/100\n",
      "25/25 [==============================] - ETA: 0s - loss: 1.0314 - accuracy: 0.6313\n",
      "Epoch 00049: val_loss did not improve from 1.22785\n",
      "25/25 [==============================] - 0s 10ms/step - loss: 1.0314 - accuracy: 0.6313 - val_loss: 1.2593 - val_accuracy: 0.5550\n",
      "Epoch 50/100\n",
      "20/25 [=======================>......] - ETA: 0s - loss: 1.0718 - accuracy: 0.6172\n",
      "Epoch 00050: val_loss did not improve from 1.22785\n",
      "25/25 [==============================] - 0s 9ms/step - loss: 1.0555 - accuracy: 0.6275 - val_loss: 1.2309 - val_accuracy: 0.5700\n",
      "Epoch 51/100\n",
      "20/25 [=======================>......] - ETA: 0s - loss: 0.9378 - accuracy: 0.6703\n",
      "Epoch 00051: val_loss improved from 1.22785 to 1.22103, saving model to DNN_Model_SecondTry\n",
      "INFO:tensorflow:Assets written to: DNN_Model_SecondTry/assets\n",
      "25/25 [==============================] - 1s 49ms/step - loss: 0.9735 - accuracy: 0.6575 - val_loss: 1.2210 - val_accuracy: 0.5900\n",
      "Epoch 52/100\n",
      "25/25 [==============================] - ETA: 0s - loss: 0.9581 - accuracy: 0.6587\n",
      "Epoch 00052: val_loss did not improve from 1.22103\n",
      "25/25 [==============================] - 0s 10ms/step - loss: 0.9581 - accuracy: 0.6587 - val_loss: 1.2401 - val_accuracy: 0.5800\n",
      "Epoch 53/100\n",
      "20/25 [=======================>......] - ETA: 0s - loss: 0.9052 - accuracy: 0.6906\n",
      "Epoch 00053: val_loss did not improve from 1.22103\n",
      "25/25 [==============================] - 0s 10ms/step - loss: 0.9346 - accuracy: 0.6750 - val_loss: 1.2502 - val_accuracy: 0.5850\n",
      "Epoch 54/100\n",
      "24/25 [===========================>..] - ETA: 0s - loss: 0.9268 - accuracy: 0.6914\n",
      "Epoch 00054: val_loss did not improve from 1.22103\n",
      "25/25 [==============================] - 0s 10ms/step - loss: 0.9388 - accuracy: 0.6850 - val_loss: 1.2508 - val_accuracy: 0.6150\n",
      "Epoch 55/100\n",
      "25/25 [==============================] - ETA: 0s - loss: 0.9453 - accuracy: 0.6575\n",
      "Epoch 00055: val_loss improved from 1.22103 to 1.21796, saving model to DNN_Model_SecondTry\n",
      "INFO:tensorflow:Assets written to: DNN_Model_SecondTry/assets\n",
      "25/25 [==============================] - 2s 62ms/step - loss: 0.9453 - accuracy: 0.6575 - val_loss: 1.2180 - val_accuracy: 0.5900\n",
      "Epoch 56/100\n",
      "25/25 [==============================] - ETA: 0s - loss: 0.8949 - accuracy: 0.6875\n",
      "Epoch 00056: val_loss improved from 1.21796 to 1.21130, saving model to DNN_Model_SecondTry\n",
      "INFO:tensorflow:Assets written to: DNN_Model_SecondTry/assets\n",
      "25/25 [==============================] - 1s 47ms/step - loss: 0.8949 - accuracy: 0.6875 - val_loss: 1.2113 - val_accuracy: 0.5900\n",
      "Epoch 57/100\n",
      "20/25 [=======================>......] - ETA: 0s - loss: 0.8713 - accuracy: 0.6922\n",
      "Epoch 00057: val_loss improved from 1.21130 to 1.19280, saving model to DNN_Model_SecondTry\n",
      "INFO:tensorflow:Assets written to: DNN_Model_SecondTry/assets\n",
      "25/25 [==============================] - 1s 49ms/step - loss: 0.8498 - accuracy: 0.6975 - val_loss: 1.1928 - val_accuracy: 0.6050\n",
      "Epoch 58/100\n",
      "20/25 [=======================>......] - ETA: 0s - loss: 0.8584 - accuracy: 0.6844\n",
      "Epoch 00058: val_loss did not improve from 1.19280\n",
      "25/25 [==============================] - 0s 10ms/step - loss: 0.8852 - accuracy: 0.6825 - val_loss: 1.2488 - val_accuracy: 0.6100\n",
      "Epoch 59/100\n",
      "24/25 [===========================>..] - ETA: 0s - loss: 0.8872 - accuracy: 0.6901\n",
      "Epoch 00059: val_loss did not improve from 1.19280\n",
      "25/25 [==============================] - 0s 11ms/step - loss: 0.9037 - accuracy: 0.6875 - val_loss: 1.2721 - val_accuracy: 0.6100\n",
      "Epoch 60/100\n",
      "20/25 [=======================>......] - ETA: 0s - loss: 0.8671 - accuracy: 0.6734\n",
      "Epoch 00060: val_loss did not improve from 1.19280\n",
      "25/25 [==============================] - 0s 9ms/step - loss: 0.8627 - accuracy: 0.6850 - val_loss: 1.2708 - val_accuracy: 0.5850\n",
      "Epoch 61/100\n",
      "23/25 [==========================>...] - ETA: 0s - loss: 0.8855 - accuracy: 0.6902\n",
      "Epoch 00061: val_loss did not improve from 1.19280\n",
      "25/25 [==============================] - 0s 11ms/step - loss: 0.8959 - accuracy: 0.6837 - val_loss: 1.2908 - val_accuracy: 0.6050\n",
      "Epoch 62/100\n",
      "20/25 [=======================>......] - ETA: 0s - loss: 0.8947 - accuracy: 0.6766\n",
      "Epoch 00062: val_loss did not improve from 1.19280\n",
      "25/25 [==============================] - 0s 10ms/step - loss: 0.8909 - accuracy: 0.6837 - val_loss: 1.2145 - val_accuracy: 0.6100\n",
      "Epoch 63/100\n",
      "23/25 [==========================>...] - ETA: 0s - loss: 0.8204 - accuracy: 0.7133\n",
      "Epoch 00063: val_loss improved from 1.19280 to 1.17918, saving model to DNN_Model_SecondTry\n",
      "INFO:tensorflow:Assets written to: DNN_Model_SecondTry/assets\n",
      "25/25 [==============================] - 1s 48ms/step - loss: 0.8408 - accuracy: 0.7025 - val_loss: 1.1792 - val_accuracy: 0.6000\n",
      "Epoch 64/100\n",
      "25/25 [==============================] - ETA: 0s - loss: 0.8914 - accuracy: 0.6913\n",
      "Epoch 00064: val_loss did not improve from 1.17918\n",
      "25/25 [==============================] - 0s 10ms/step - loss: 0.8914 - accuracy: 0.6913 - val_loss: 1.2141 - val_accuracy: 0.6000\n",
      "Epoch 65/100\n",
      "20/25 [=======================>......] - ETA: 0s - loss: 0.8400 - accuracy: 0.7031\n",
      "Epoch 00065: val_loss did not improve from 1.17918\n",
      "25/25 [==============================] - 0s 10ms/step - loss: 0.8364 - accuracy: 0.7063 - val_loss: 1.2379 - val_accuracy: 0.6350\n",
      "Epoch 66/100\n",
      "19/25 [=====================>........] - ETA: 0s - loss: 0.7791 - accuracy: 0.7434\n",
      "Epoch 00066: val_loss improved from 1.17918 to 1.17416, saving model to DNN_Model_SecondTry\n",
      "INFO:tensorflow:Assets written to: DNN_Model_SecondTry/assets\n",
      "25/25 [==============================] - 1s 47ms/step - loss: 0.8142 - accuracy: 0.7188 - val_loss: 1.1742 - val_accuracy: 0.6350\n",
      "Epoch 67/100\n",
      "25/25 [==============================] - ETA: 0s - loss: 0.8129 - accuracy: 0.7150\n",
      "Epoch 00067: val_loss did not improve from 1.17416\n",
      "25/25 [==============================] - 0s 10ms/step - loss: 0.8129 - accuracy: 0.7150 - val_loss: 1.2043 - val_accuracy: 0.6100\n",
      "Epoch 68/100\n",
      "21/25 [========================>.....] - ETA: 0s - loss: 0.7747 - accuracy: 0.7307\n",
      "Epoch 00068: val_loss improved from 1.17416 to 1.16941, saving model to DNN_Model_SecondTry\n",
      "INFO:tensorflow:Assets written to: DNN_Model_SecondTry/assets\n",
      "25/25 [==============================] - 1s 48ms/step - loss: 0.7750 - accuracy: 0.7362 - val_loss: 1.1694 - val_accuracy: 0.6400\n",
      "Epoch 69/100\n",
      "20/25 [=======================>......] - ETA: 0s - loss: 0.7177 - accuracy: 0.7359\n",
      "Epoch 00069: val_loss did not improve from 1.16941\n",
      "25/25 [==============================] - 0s 10ms/step - loss: 0.7323 - accuracy: 0.7300 - val_loss: 1.2465 - val_accuracy: 0.6200\n",
      "Epoch 70/100\n",
      "25/25 [==============================] - ETA: 0s - loss: 0.8378 - accuracy: 0.7063\n",
      "Epoch 00070: val_loss did not improve from 1.16941\n",
      "25/25 [==============================] - 0s 10ms/step - loss: 0.8378 - accuracy: 0.7063 - val_loss: 1.1865 - val_accuracy: 0.6050\n",
      "Epoch 71/100\n",
      "23/25 [==========================>...] - ETA: 0s - loss: 0.8168 - accuracy: 0.7283\n",
      "Epoch 00071: val_loss did not improve from 1.16941\n",
      "25/25 [==============================] - 0s 11ms/step - loss: 0.8025 - accuracy: 0.7337 - val_loss: 1.1995 - val_accuracy: 0.6300\n",
      "Epoch 72/100\n",
      "25/25 [==============================] - ETA: 0s - loss: 0.7820 - accuracy: 0.7138\n",
      "Epoch 00072: val_loss did not improve from 1.16941\n",
      "25/25 [==============================] - 0s 10ms/step - loss: 0.7820 - accuracy: 0.7138 - val_loss: 1.2261 - val_accuracy: 0.6200\n",
      "Epoch 73/100\n",
      "23/25 [==========================>...] - ETA: 0s - loss: 0.7504 - accuracy: 0.7405\n",
      "Epoch 00073: val_loss did not improve from 1.16941\n",
      "25/25 [==============================] - 0s 11ms/step - loss: 0.7614 - accuracy: 0.7375 - val_loss: 1.2028 - val_accuracy: 0.6300\n",
      "Epoch 74/100\n",
      "25/25 [==============================] - ETA: 0s - loss: 0.6893 - accuracy: 0.7500\n",
      "Epoch 00074: val_loss did not improve from 1.16941\n",
      "25/25 [==============================] - 0s 10ms/step - loss: 0.6893 - accuracy: 0.7500 - val_loss: 1.2870 - val_accuracy: 0.6000\n",
      "Epoch 75/100\n",
      "24/25 [===========================>..] - ETA: 0s - loss: 0.6959 - accuracy: 0.7617\n",
      "Epoch 00075: val_loss did not improve from 1.16941\n",
      "25/25 [==============================] - 0s 10ms/step - loss: 0.6887 - accuracy: 0.7625 - val_loss: 1.1922 - val_accuracy: 0.6300\n",
      "Epoch 76/100\n",
      "20/25 [=======================>......] - ETA: 0s - loss: 0.6515 - accuracy: 0.7609\n",
      "Epoch 00076: val_loss did not improve from 1.16941\n",
      "25/25 [==============================] - 0s 9ms/step - loss: 0.6893 - accuracy: 0.7513 - val_loss: 1.2757 - val_accuracy: 0.6450\n",
      "Epoch 77/100\n",
      "20/25 [=======================>......] - ETA: 0s - loss: 0.6939 - accuracy: 0.7609\n",
      "Epoch 00077: val_loss did not improve from 1.16941\n",
      "25/25 [==============================] - 0s 9ms/step - loss: 0.7134 - accuracy: 0.7588 - val_loss: 1.2017 - val_accuracy: 0.6400\n",
      "Epoch 78/100\n",
      "24/25 [===========================>..] - ETA: 0s - loss: 0.6855 - accuracy: 0.7682\n",
      "Epoch 00078: val_loss did not improve from 1.16941\n",
      "25/25 [==============================] - 0s 10ms/step - loss: 0.6917 - accuracy: 0.7675 - val_loss: 1.2211 - val_accuracy: 0.6450\n",
      "Epoch 79/100\n",
      "25/25 [==============================] - ETA: 0s - loss: 0.6796 - accuracy: 0.7800\n",
      "Epoch 00079: val_loss did not improve from 1.16941\n",
      "25/25 [==============================] - 0s 10ms/step - loss: 0.6796 - accuracy: 0.7800 - val_loss: 1.2928 - val_accuracy: 0.6000\n",
      "Epoch 80/100\n",
      "25/25 [==============================] - ETA: 0s - loss: 0.7306 - accuracy: 0.7437\n",
      "Epoch 00080: val_loss did not improve from 1.16941\n",
      "25/25 [==============================] - 0s 10ms/step - loss: 0.7306 - accuracy: 0.7437 - val_loss: 1.2444 - val_accuracy: 0.6450\n",
      "Epoch 81/100\n",
      "25/25 [==============================] - ETA: 0s - loss: 0.6613 - accuracy: 0.7700\n",
      "Epoch 00081: val_loss did not improve from 1.16941\n",
      "25/25 [==============================] - 0s 10ms/step - loss: 0.6613 - accuracy: 0.7700 - val_loss: 1.2396 - val_accuracy: 0.6450\n",
      "Epoch 82/100\n",
      "19/25 [=====================>........] - ETA: 0s - loss: 0.5930 - accuracy: 0.7697\n",
      "Epoch 00082: val_loss did not improve from 1.16941\n",
      "25/25 [==============================] - 0s 10ms/step - loss: 0.6035 - accuracy: 0.7750 - val_loss: 1.2476 - val_accuracy: 0.6250\n",
      "Epoch 83/100\n",
      "24/25 [===========================>..] - ETA: 0s - loss: 0.6351 - accuracy: 0.7734\n",
      "Epoch 00083: val_loss did not improve from 1.16941\n",
      "25/25 [==============================] - 0s 10ms/step - loss: 0.6522 - accuracy: 0.7700 - val_loss: 1.3283 - val_accuracy: 0.6300\n",
      "Epoch 84/100\n",
      "20/25 [=======================>......] - ETA: 0s - loss: 0.6516 - accuracy: 0.7812\n",
      "Epoch 00084: val_loss did not improve from 1.16941\n",
      "25/25 [==============================] - 0s 10ms/step - loss: 0.6512 - accuracy: 0.7775 - val_loss: 1.3350 - val_accuracy: 0.6300\n",
      "Epoch 85/100\n",
      "21/25 [========================>.....] - ETA: 0s - loss: 0.6303 - accuracy: 0.7946\n",
      "Epoch 00085: val_loss did not improve from 1.16941\n",
      "25/25 [==============================] - 0s 9ms/step - loss: 0.6599 - accuracy: 0.7875 - val_loss: 1.3388 - val_accuracy: 0.6300\n",
      "Epoch 86/100\n",
      "21/25 [========================>.....] - ETA: 0s - loss: 0.6664 - accuracy: 0.7708\n",
      "Epoch 00086: val_loss did not improve from 1.16941\n",
      "25/25 [==============================] - 0s 10ms/step - loss: 0.6625 - accuracy: 0.7675 - val_loss: 1.2598 - val_accuracy: 0.6550\n",
      "Epoch 87/100\n",
      "25/25 [==============================] - ETA: 0s - loss: 0.6214 - accuracy: 0.7775\n",
      "Epoch 00087: val_loss did not improve from 1.16941\n",
      "25/25 [==============================] - 0s 10ms/step - loss: 0.6214 - accuracy: 0.7775 - val_loss: 1.3303 - val_accuracy: 0.6350\n",
      "Epoch 88/100\n",
      "24/25 [===========================>..] - ETA: 0s - loss: 0.6112 - accuracy: 0.7878\n",
      "Epoch 00088: val_loss did not improve from 1.16941\n",
      "25/25 [==============================] - 0s 10ms/step - loss: 0.6109 - accuracy: 0.7875 - val_loss: 1.3052 - val_accuracy: 0.6300\n",
      "Epoch 89/100\n",
      "20/25 [=======================>......] - ETA: 0s - loss: 0.6415 - accuracy: 0.7781\n",
      "Epoch 00089: val_loss did not improve from 1.16941\n",
      "25/25 [==============================] - 0s 9ms/step - loss: 0.6158 - accuracy: 0.7862 - val_loss: 1.3133 - val_accuracy: 0.6450\n",
      "Epoch 90/100\n",
      "21/25 [========================>.....] - ETA: 0s - loss: 0.5628 - accuracy: 0.8110\n",
      "Epoch 00090: val_loss did not improve from 1.16941\n",
      "25/25 [==============================] - 0s 9ms/step - loss: 0.5667 - accuracy: 0.8062 - val_loss: 1.2915 - val_accuracy: 0.6300\n",
      "Epoch 91/100\n",
      "24/25 [===========================>..] - ETA: 0s - loss: 0.6011 - accuracy: 0.7969\n",
      "Epoch 00091: val_loss did not improve from 1.16941\n",
      "25/25 [==============================] - 0s 10ms/step - loss: 0.6047 - accuracy: 0.7950 - val_loss: 1.2945 - val_accuracy: 0.6550\n",
      "Epoch 92/100\n",
      "21/25 [========================>.....] - ETA: 0s - loss: 0.5681 - accuracy: 0.8185\n",
      "Epoch 00092: val_loss did not improve from 1.16941\n",
      "25/25 [==============================] - 0s 9ms/step - loss: 0.5802 - accuracy: 0.8138 - val_loss: 1.3081 - val_accuracy: 0.6350\n",
      "Epoch 93/100\n",
      "20/25 [=======================>......] - ETA: 0s - loss: 0.5508 - accuracy: 0.8000\n",
      "Epoch 00093: val_loss did not improve from 1.16941\n",
      "25/25 [==============================] - 0s 9ms/step - loss: 0.5610 - accuracy: 0.8000 - val_loss: 1.2853 - val_accuracy: 0.6300\n",
      "Epoch 94/100\n",
      "25/25 [==============================] - ETA: 0s - loss: 0.5627 - accuracy: 0.7975\n",
      "Epoch 00094: val_loss did not improve from 1.16941\n",
      "25/25 [==============================] - 0s 10ms/step - loss: 0.5627 - accuracy: 0.7975 - val_loss: 1.3238 - val_accuracy: 0.6450\n",
      "Epoch 95/100\n",
      "20/25 [=======================>......] - ETA: 0s - loss: 0.5486 - accuracy: 0.7953\n",
      "Epoch 00095: val_loss did not improve from 1.16941\n",
      "25/25 [==============================] - 0s 10ms/step - loss: 0.5618 - accuracy: 0.7900 - val_loss: 1.3337 - val_accuracy: 0.6450\n",
      "Epoch 96/100\n",
      "22/25 [=========================>....] - ETA: 0s - loss: 0.5712 - accuracy: 0.8026\n",
      "Epoch 00096: val_loss did not improve from 1.16941\n",
      "25/25 [==============================] - 0s 11ms/step - loss: 0.5733 - accuracy: 0.7987 - val_loss: 1.4477 - val_accuracy: 0.6450\n",
      "Epoch 97/100\n",
      "21/25 [========================>.....] - ETA: 0s - loss: 0.5624 - accuracy: 0.8080\n",
      "Epoch 00097: val_loss did not improve from 1.16941\n",
      "25/25 [==============================] - 0s 9ms/step - loss: 0.5568 - accuracy: 0.8087 - val_loss: 1.3246 - val_accuracy: 0.6350\n",
      "Epoch 98/100\n",
      "21/25 [========================>.....] - ETA: 0s - loss: 0.5775 - accuracy: 0.8006\n",
      "Epoch 00098: val_loss did not improve from 1.16941\n",
      "25/25 [==============================] - 0s 10ms/step - loss: 0.5803 - accuracy: 0.8000 - val_loss: 1.2602 - val_accuracy: 0.6600\n",
      "Epoch 99/100\n",
      "24/25 [===========================>..] - ETA: 0s - loss: 0.5908 - accuracy: 0.7956\n",
      "Epoch 00099: val_loss did not improve from 1.16941\n",
      "25/25 [==============================] - 0s 10ms/step - loss: 0.5869 - accuracy: 0.7950 - val_loss: 1.2775 - val_accuracy: 0.6450\n",
      "Epoch 100/100\n",
      "20/25 [=======================>......] - ETA: 0s - loss: 0.5338 - accuracy: 0.8234\n",
      "Epoch 00100: val_loss did not improve from 1.16941\n",
      "25/25 [==============================] - 0s 10ms/step - loss: 0.5444 - accuracy: 0.8125 - val_loss: 1.2831 - val_accuracy: 0.6550\n"
     ]
    }
   ],
   "source": [
    "num_epochs = 100\n",
    "num_batch_size = 32\n",
    "\n",
    "checkpointer = ModelCheckpoint(filepath = 'DNN_Model_SecondTry', \n",
    "                               verbose = 1, \n",
    "                               save_best_only = True)\n",
    "\n",
    "history = model.fit(x_train, y_train, \n",
    "                    batch_size = num_batch_size, \n",
    "                    epochs = num_epochs, \n",
    "                    validation_data = (x_test, y_test), \n",
    "                    callbacks = [checkpointer], \n",
    "                    verbose = 1)"
   ]
  },
  {
   "cell_type": "code",
   "execution_count": null,
   "metadata": {
    "colab": {
     "base_uri": "https://localhost:8080/",
     "height": 295
    },
    "colab_type": "code",
    "executionInfo": {
     "elapsed": 523,
     "status": "ok",
     "timestamp": 1598838716485,
     "user": {
      "displayName": "José Pascual Manzano",
      "photoUrl": "",
      "userId": "09920607595779470069"
     },
     "user_tz": -120
    },
    "id": "-lLI6db89rH9",
    "outputId": "ae725308-1db5-494b-deb5-b90a91ae27a0"
   },
   "outputs": [
    {
     "data": {
      "image/png": "[encoded data removed]",
      "text/plain": [
       "<Figure size 432x288 with 1 Axes>"
      ]
     },
     "metadata": {
      "needs_background": "light",
      "tags": []
     },
     "output_type": "display_data"
    }
   ],
   "source": [
    "plt.plot(history.history['loss'])\n",
    "plt.plot(history.history['val_loss'])\n",
    "plt.title('Training and Validation Loss')\n",
    "plt.ylabel('Loss')\n",
    "plt.xlabel('Epoch')\n",
    "plt.legend(['Training', 'Validation'], loc='upper right')\n",
    "plt.show()"
   ]
  },
  {
   "cell_type": "code",
   "execution_count": null,
   "metadata": {
    "colab": {
     "base_uri": "https://localhost:8080/",
     "height": 295
    },
    "colab_type": "code",
    "executionInfo": {
     "elapsed": 997,
     "status": "ok",
     "timestamp": 1598838719893,
     "user": {
      "displayName": "José Pascual Manzano",
      "photoUrl": "",
      "userId": "09920607595779470069"
     },
     "user_tz": -120
    },
    "id": "5tlKI9YS9rwu",
    "outputId": "9b03b696-3038-4af4-9a7a-da0fc371a1a1"
   },
   "outputs": [
    {
     "data": {
      "image/png": "[encoded data removed]",
      "text/plain": [
       "<Figure size 432x288 with 1 Axes>"
      ]
     },
     "metadata": {
      "needs_background": "light",
      "tags": []
     },
     "output_type": "display_data"
    }
   ],
   "source": [
    "plt.plot(history.history['accuracy'])\n",
    "plt.plot(history.history['val_accuracy'])\n",
    "plt.title('Training and Validation Accuracy')\n",
    "plt.ylabel('Accuracy')\n",
    "plt.xlabel('Epoch')\n",
    "plt.legend(['Training', 'Validation'], loc='upper right')\n",
    "plt.show()"
   ]
  },
  {
   "cell_type": "code",
   "execution_count": null,
   "metadata": {
    "colab": {
     "base_uri": "https://localhost:8080/",
     "height": 54
    },
    "colab_type": "code",
    "executionInfo": {
     "elapsed": 697,
     "status": "ok",
     "timestamp": 1598838723231,
     "user": {
      "displayName": "José Pascual Manzano",
      "photoUrl": "",
      "userId": "09920607595779470069"
     },
     "user_tz": -120
    },
    "id": "YtkoF0HKMYBb",
    "outputId": "eabaeb49-1294-49e9-e423-963b33acd066"
   },
   "outputs": [
    {
     "name": "stdout",
     "output_type": "stream",
     "text": [
      "Training Accuracy: 0.9424999952316284\n",
      "Testing Accuracy: 0.6549999713897705\n"
     ]
    }
   ],
   "source": [
    "training_score = model.evaluate(x_train, y_train, verbose = 0)\n",
    "print(f'Training Accuracy: {training_score[1]}')\n",
    "\n",
    "testing_score = model.evaluate(x_test, y_test, verbose = 0)\n",
    "print(f'Testing Accuracy: {testing_score[1]}')"
   ]
  },
  {
   "cell_type": "markdown",
   "metadata": {
    "colab_type": "text",
    "id": "W0c7SXjpOF5a"
   },
   "source": [
    "## Predictions"
   ]
  },
  {
   "cell_type": "code",
   "execution_count": null,
   "metadata": {
    "colab": {},
    "colab_type": "code",
    "id": "0Q3x-W1OOKrS"
   },
   "outputs": [],
   "source": [
    "def print_prediction(file_name):\n",
    "    prediction_feature = extract_features(file_name)\n",
    "    prediction_feature = prediction_feature.reshape(1, 40)\n",
    "\n",
    "    predicted_vector = model.predict_classes(prediction_feature)\n",
    "    predicted_class = le.inverse_transform(predicted_vector)\n",
    "    print(\"The predicted class is:\", predicted_class[0], '\\n')\n",
    "\n",
    "    predicted_proba_vector = model.predict_proba(prediction_feature)\n",
    "    predicted_proba = predicted_proba_vector[0]\n",
    "    for i in range(len(predicted_proba)):\n",
    "        category = le.inverse_transform(np.array([i]))\n",
    "        print(category[0], \"\\t\\t : \", format(predicted_proba[i], '.32f') )"
   ]
  },
  {
   "cell_type": "code",
   "execution_count": null,
   "metadata": {
    "colab": {
     "base_uri": "https://localhost:8080/",
     "height": 222
    },
    "colab_type": "code",
    "executionInfo": {
     "elapsed": 485,
     "status": "ok",
     "timestamp": 1598840960627,
     "user": {
      "displayName": "José Pascual Manzano",
      "photoUrl": "",
      "userId": "09920607595779470069"
     },
     "user_tz": -120
    },
    "id": "ezWbeS9xVvcY",
    "outputId": "292e6424-d432-40e3-d354-9166aff59aad"
   },
   "outputs": [
    {
     "data": {
      "text/plain": [
       "0                 GTZAN/genres/pop/pop.00000.au\n",
       "88            GTZAN/genres/disco/disco.00088.au\n",
       "6           GTZAN/genres/reggae/reggae.00006.au\n",
       "46            GTZAN/genres/blues/blues.00046.au\n",
       "34        GTZAN/genres/country/country.00034.au\n",
       "99            GTZAN/genres/metal/metal.00099.au\n",
       "62          GTZAN/genres/hiphop/hiphop.00062.au\n",
       "26    GTZAN/genres/classical/classical.00026.au\n",
       "83        GTZAN/genres/country/country.00083.au\n",
       "40            GTZAN/genres/metal/metal.00040.au\n",
       "Name: file_name, dtype: object"
      ]
     },
     "execution_count": 316,
     "metadata": {
      "tags": []
     },
     "output_type": "execute_result"
    }
   ],
   "source": [
    "df_songs.file_name.sample(10)"
   ]
  },
  {
   "cell_type": "code",
   "execution_count": null,
   "metadata": {
    "colab": {
     "base_uri": "https://localhost:8080/",
     "height": 241
    },
    "colab_type": "code",
    "executionInfo": {
     "elapsed": 1203,
     "status": "ok",
     "timestamp": 1598840996849,
     "user": {
      "displayName": "José Pascual Manzano",
      "photoUrl": "",
      "userId": "09920607595779470069"
     },
     "user_tz": -120
    },
    "id": "_neRBRmOVOSB",
    "outputId": "a9e18ad2-a178-4acf-bbbf-ea4bfedc18d1"
   },
   "outputs": [
    {
     "name": "stdout",
     "output_type": "stream",
     "text": [
      "The predicted class is: pop \n",
      "\n",
      "blues \t\t :  0.00000000000000000000000002171959\n",
      "classical \t\t :  0.00000000000000000058956889739290\n",
      "country \t\t :  0.00000000000000000000172845306081\n",
      "disco \t\t :  0.00000000000012577512273868884929\n",
      "hiphop \t\t :  0.00000000000041509178906606880588\n",
      "jazz \t\t :  0.00000000000000000000005356333992\n",
      "metal \t\t :  0.00000000000000000000000111994188\n",
      "pop \t\t :  1.00000000000000000000000000000000\n",
      "reggae \t\t :  0.00000000000280745305475393891470\n",
      "rock \t\t :  0.00000000000000000501560923062498\n"
     ]
    }
   ],
   "source": [
    "print_prediction(\"GTZAN/genres/pop/pop.00000.au\")"
   ]
  },
  {
   "cell_type": "code",
   "execution_count": null,
   "metadata": {
    "colab": {
     "base_uri": "https://localhost:8080/",
     "height": 241
    },
    "colab_type": "code",
    "executionInfo": {
     "elapsed": 1246,
     "status": "ok",
     "timestamp": 1598841005329,
     "user": {
      "displayName": "José Pascual Manzano",
      "photoUrl": "",
      "userId": "09920607595779470069"
     },
     "user_tz": -120
    },
    "id": "omf05vScWE6g",
    "outputId": "24339e01-14d9-45f5-fc0f-be350c95fdde"
   },
   "outputs": [
    {
     "name": "stdout",
     "output_type": "stream",
     "text": [
      "The predicted class is: disco \n",
      "\n",
      "blues \t\t :  0.01033904589712619781494140625000\n",
      "classical \t\t :  0.00373272947035729885101318359375\n",
      "country \t\t :  0.01626225560903549194335937500000\n",
      "disco \t\t :  0.40218669176101684570312500000000\n",
      "hiphop \t\t :  0.09506153315305709838867187500000\n",
      "jazz \t\t :  0.00705355918034911155700683593750\n",
      "metal \t\t :  0.17498880624771118164062500000000\n",
      "pop \t\t :  0.00602241838350892066955566406250\n",
      "reggae \t\t :  0.02238322421908378601074218750000\n",
      "rock \t\t :  0.26196974515914916992187500000000\n"
     ]
    }
   ],
   "source": [
    "print_prediction(\"GTZAN/genres/disco/disco.00088.au\")"
   ]
  },
  {
   "cell_type": "code",
   "execution_count": null,
   "metadata": {
    "colab": {
     "base_uri": "https://localhost:8080/",
     "height": 241
    },
    "colab_type": "code",
    "executionInfo": {
     "elapsed": 1218,
     "status": "ok",
     "timestamp": 1598841020526,
     "user": {
      "displayName": "José Pascual Manzano",
      "photoUrl": "",
      "userId": "09920607595779470069"
     },
     "user_tz": -120
    },
    "id": "pEvuP_qRWEyS",
    "outputId": "ec652a4f-dcbe-4527-bec8-c5a87ebcd821"
   },
   "outputs": [
    {
     "name": "stdout",
     "output_type": "stream",
     "text": [
      "The predicted class is: reggae \n",
      "\n",
      "blues \t\t :  0.02210941724479198455810546875000\n",
      "classical \t\t :  0.00144793069921433925628662109375\n",
      "country \t\t :  0.04923031106591224670410156250000\n",
      "disco \t\t :  0.01452328450977802276611328125000\n",
      "hiphop \t\t :  0.03037129715085029602050781250000\n",
      "jazz \t\t :  0.00356290466152131557464599609375\n",
      "metal \t\t :  0.00027585448697209358215332031250\n",
      "pop \t\t :  0.00324231246486306190490722656250\n",
      "reggae \t\t :  0.86300945281982421875000000000000\n",
      "rock \t\t :  0.01222728937864303588867187500000\n"
     ]
    }
   ],
   "source": [
    "print_prediction(\"GTZAN/genres/reggae/reggae.00006.au\")"
   ]
  },
  {
   "cell_type": "code",
   "execution_count": null,
   "metadata": {
    "colab": {
     "base_uri": "https://localhost:8080/",
     "height": 241
    },
    "colab_type": "code",
    "executionInfo": {
     "elapsed": 1277,
     "status": "ok",
     "timestamp": 1598841032000,
     "user": {
      "displayName": "José Pascual Manzano",
      "photoUrl": "",
      "userId": "09920607595779470069"
     },
     "user_tz": -120
    },
    "id": "dmMAFhgqWEm5",
    "outputId": "65864cd3-1b98-4ad6-d695-2a1b0a47b257"
   },
   "outputs": [
    {
     "name": "stdout",
     "output_type": "stream",
     "text": [
      "The predicted class is: blues \n",
      "\n",
      "blues \t\t :  0.95710760354995727539062500000000\n",
      "classical \t\t :  0.00009624171798350289463996887207\n",
      "country \t\t :  0.01894893683493137359619140625000\n",
      "disco \t\t :  0.00196797051467001438140869140625\n",
      "hiphop \t\t :  0.00090267235646024346351623535156\n",
      "jazz \t\t :  0.00057945476146414875984191894531\n",
      "metal \t\t :  0.00051167019410058856010437011719\n",
      "pop \t\t :  0.00017510019824840128421783447266\n",
      "reggae \t\t :  0.01181065011769533157348632812500\n",
      "rock \t\t :  0.00789972674101591110229492187500\n"
     ]
    }
   ],
   "source": [
    "print_prediction(\"GTZAN/genres/blues/blues.00046.au\")"
   ]
  },
  {
   "cell_type": "code",
   "execution_count": null,
   "metadata": {
    "colab": {
     "base_uri": "https://localhost:8080/",
     "height": 241
    },
    "colab_type": "code",
    "executionInfo": {
     "elapsed": 1214,
     "status": "ok",
     "timestamp": 1598841049506,
     "user": {
      "displayName": "José Pascual Manzano",
      "photoUrl": "",
      "userId": "09920607595779470069"
     },
     "user_tz": -120
    },
    "id": "8VTgVITJWEYZ",
    "outputId": "fcc1ca76-1ba0-41e0-c246-a6a7e2d246c6"
   },
   "outputs": [
    {
     "name": "stdout",
     "output_type": "stream",
     "text": [
      "The predicted class is: country \n",
      "\n",
      "blues \t\t :  0.14098773896694183349609375000000\n",
      "classical \t\t :  0.01464466191828250885009765625000\n",
      "country \t\t :  0.59425705671310424804687500000000\n",
      "disco \t\t :  0.02844262868165969848632812500000\n",
      "hiphop \t\t :  0.01263914816081523895263671875000\n",
      "jazz \t\t :  0.04302891343832015991210937500000\n",
      "metal \t\t :  0.00241837045177817344665527343750\n",
      "pop \t\t :  0.02452258579432964324951171875000\n",
      "reggae \t\t :  0.09999917447566986083984375000000\n",
      "rock \t\t :  0.03905973955988883972167968750000\n"
     ]
    }
   ],
   "source": [
    "print_prediction(\"GTZAN/genres/country/country.00034.au\")"
   ]
  },
  {
   "cell_type": "code",
   "execution_count": null,
   "metadata": {
    "colab": {
     "base_uri": "https://localhost:8080/",
     "height": 241
    },
    "colab_type": "code",
    "executionInfo": {
     "elapsed": 1244,
     "status": "ok",
     "timestamp": 1598841066263,
     "user": {
      "displayName": "José Pascual Manzano",
      "photoUrl": "",
      "userId": "09920607595779470069"
     },
     "user_tz": -120
    },
    "id": "a6c20qacWEOV",
    "outputId": "f571396b-3a49-44d2-898f-a0ba5857a2e9"
   },
   "outputs": [
    {
     "name": "stdout",
     "output_type": "stream",
     "text": [
      "The predicted class is: metal \n",
      "\n",
      "blues \t\t :  0.00001597144546394702047109603882\n",
      "classical \t\t :  0.00000131268609493417898193001747\n",
      "country \t\t :  0.00000144903685850295005366206169\n",
      "disco \t\t :  0.00044519378570839762687683105469\n",
      "hiphop \t\t :  0.00818917527794837951660156250000\n",
      "jazz \t\t :  0.00000050951911134688998572528362\n",
      "metal \t\t :  0.99063616991043090820312500000000\n",
      "pop \t\t :  0.00000011965093449362029787153006\n",
      "reggae \t\t :  0.00000369667213817592710256576538\n",
      "rock \t\t :  0.00070649554254487156867980957031\n"
     ]
    }
   ],
   "source": [
    "print_prediction(\"GTZAN/genres/metal/metal.00099.au\")"
   ]
  },
  {
   "cell_type": "code",
   "execution_count": null,
   "metadata": {
    "colab": {
     "base_uri": "https://localhost:8080/",
     "height": 241
    },
    "colab_type": "code",
    "executionInfo": {
     "elapsed": 1338,
     "status": "ok",
     "timestamp": 1598841079268,
     "user": {
      "displayName": "José Pascual Manzano",
      "photoUrl": "",
      "userId": "09920607595779470069"
     },
     "user_tz": -120
    },
    "id": "oJFkciqOVtZs",
    "outputId": "2436462c-c305-4d1d-c7f1-43cb3faa65ec"
   },
   "outputs": [
    {
     "name": "stdout",
     "output_type": "stream",
     "text": [
      "The predicted class is: jazz \n",
      "\n",
      "blues \t\t :  0.06360650062561035156250000000000\n",
      "classical \t\t :  0.02857302315533161163330078125000\n",
      "country \t\t :  0.06868528574705123901367187500000\n",
      "disco \t\t :  0.05731129646301269531250000000000\n",
      "hiphop \t\t :  0.10958036035299301147460937500000\n",
      "jazz \t\t :  0.30688565969467163085937500000000\n",
      "metal \t\t :  0.01029617898166179656982421875000\n",
      "pop \t\t :  0.02333082072436809539794921875000\n",
      "reggae \t\t :  0.25189924240112304687500000000000\n",
      "rock \t\t :  0.07983156293630599975585937500000\n"
     ]
    }
   ],
   "source": [
    "print_prediction(\"GTZAN/genres/hiphop/hiphop.00062.au\")"
   ]
  },
  {
   "cell_type": "code",
   "execution_count": null,
   "metadata": {
    "colab": {
     "base_uri": "https://localhost:8080/",
     "height": 241
    },
    "colab_type": "code",
    "executionInfo": {
     "elapsed": 1766,
     "status": "ok",
     "timestamp": 1598841104238,
     "user": {
      "displayName": "José Pascual Manzano",
      "photoUrl": "",
      "userId": "09920607595779470069"
     },
     "user_tz": -120
    },
    "id": "ikzSnRhPWDEJ",
    "outputId": "5b0f7fa0-af7c-4096-9fac-5eed7c7c02f5"
   },
   "outputs": [
    {
     "name": "stdout",
     "output_type": "stream",
     "text": [
      "The predicted class is: classical \n",
      "\n",
      "blues \t\t :  0.00000536777679371880367398262024\n",
      "classical \t\t :  0.99507576227188110351562500000000\n",
      "country \t\t :  0.00000022425712131735053844749928\n",
      "disco \t\t :  0.00000870582607603864744305610657\n",
      "hiphop \t\t :  0.00001243969745701178908348083496\n",
      "jazz \t\t :  0.00488776620477437973022460937500\n",
      "metal \t\t :  0.00000001361417734102587928646244\n",
      "pop \t\t :  0.00000841574728838168084621429443\n",
      "reggae \t\t :  0.00000142611543196835555136203766\n",
      "rock \t\t :  0.00000003646672652735105657484382\n"
     ]
    }
   ],
   "source": [
    "print_prediction(\"GTZAN/genres/classical/classical.00026.au\")"
   ]
  },
  {
   "cell_type": "code",
   "execution_count": null,
   "metadata": {
    "colab": {
     "base_uri": "https://localhost:8080/",
     "height": 241
    },
    "colab_type": "code",
    "executionInfo": {
     "elapsed": 1224,
     "status": "ok",
     "timestamp": 1598841120051,
     "user": {
      "displayName": "José Pascual Manzano",
      "photoUrl": "",
      "userId": "09920607595779470069"
     },
     "user_tz": -120
    },
    "id": "h-ds3qggWDe6",
    "outputId": "7776292f-401f-432d-fd21-2feec003ea18"
   },
   "outputs": [
    {
     "name": "stdout",
     "output_type": "stream",
     "text": [
      "The predicted class is: country \n",
      "\n",
      "blues \t\t :  0.00301211304031312465667724609375\n",
      "classical \t\t :  0.00000625219536232179962098598480\n",
      "country \t\t :  0.99277955293655395507812500000000\n",
      "disco \t\t :  0.00017163885058835148811340332031\n",
      "hiphop \t\t :  0.00011899454693775624036788940430\n",
      "jazz \t\t :  0.00017066329019144177436828613281\n",
      "metal \t\t :  0.00005361254443414509296417236328\n",
      "pop \t\t :  0.00000840957454784074798226356506\n",
      "reggae \t\t :  0.00029856828041374683380126953125\n",
      "rock \t\t :  0.00338019500486552715301513671875\n"
     ]
    }
   ],
   "source": [
    "print_prediction(\"GTZAN/genres/country/country.00083.au\")"
   ]
  },
  {
   "cell_type": "code",
   "execution_count": null,
   "metadata": {
    "colab": {
     "base_uri": "https://localhost:8080/",
     "height": 241
    },
    "colab_type": "code",
    "executionInfo": {
     "elapsed": 1203,
     "status": "ok",
     "timestamp": 1598841142045,
     "user": {
      "displayName": "José Pascual Manzano",
      "photoUrl": "",
      "userId": "09920607595779470069"
     },
     "user_tz": -120
    },
    "id": "rLKdc1sVWDxA",
    "outputId": "cd55a87b-fb10-4592-ca9b-f1b8dc6dccb8"
   },
   "outputs": [
    {
     "name": "stdout",
     "output_type": "stream",
     "text": [
      "The predicted class is: metal \n",
      "\n",
      "blues \t\t :  0.00000000124493404474179669705336\n",
      "classical \t\t :  0.00000000001789106363059289606099\n",
      "country \t\t :  0.00000000001636826785222922353569\n",
      "disco \t\t :  0.00000087948762939049629494547844\n",
      "hiphop \t\t :  0.00000034793617942341370508074760\n",
      "jazz \t\t :  0.00000000000256839298093392010003\n",
      "metal \t\t :  0.99995374679565429687500000000000\n",
      "pop \t\t :  0.00000000000060002100944062108923\n",
      "reggae \t\t :  0.00000000013277598465144535566651\n",
      "rock \t\t :  0.00004502281080931425094604492188\n"
     ]
    }
   ],
   "source": [
    "print_prediction(\"GTZAN/genres/metal/metal.00040.au\")"
   ]
  },
  {
   "cell_type": "markdown",
   "metadata": {
    "colab_type": "text",
    "id": "nbB3ASaRXT1L"
   },
   "source": [
    "Let's try one of the remaining genres (Jazz and Rock) and one more of Hiphop (let's see if the model recognizes it this time)."
   ]
  },
  {
   "cell_type": "code",
   "execution_count": null,
   "metadata": {
    "colab": {
     "base_uri": "https://localhost:8080/",
     "height": 241
    },
    "colab_type": "code",
    "executionInfo": {
     "elapsed": 1271,
     "status": "ok",
     "timestamp": 1598841382715,
     "user": {
      "displayName": "José Pascual Manzano",
      "photoUrl": "",
      "userId": "09920607595779470069"
     },
     "user_tz": -120
    },
    "id": "hPE1tJJbXjop",
    "outputId": "72b675da-73b8-4d87-ed8c-eb35a6292460"
   },
   "outputs": [
    {
     "name": "stdout",
     "output_type": "stream",
     "text": [
      "The predicted class is: jazz \n",
      "\n",
      "blues \t\t :  0.02027962729334831237792968750000\n",
      "classical \t\t :  0.03805183619260787963867187500000\n",
      "country \t\t :  0.10459154844284057617187500000000\n",
      "disco \t\t :  0.00429753027856349945068359375000\n",
      "hiphop \t\t :  0.00854824017733335494995117187500\n",
      "jazz \t\t :  0.78812819719314575195312500000000\n",
      "metal \t\t :  0.00099609442986547946929931640625\n",
      "pop \t\t :  0.00524471048265695571899414062500\n",
      "reggae \t\t :  0.02009051293134689331054687500000\n",
      "rock \t\t :  0.00977163203060626983642578125000\n"
     ]
    }
   ],
   "source": [
    "print_prediction(\"GTZAN/genres/jazz/jazz.00069.au\")"
   ]
  },
  {
   "cell_type": "code",
   "execution_count": null,
   "metadata": {
    "colab": {
     "base_uri": "https://localhost:8080/",
     "height": 241
    },
    "colab_type": "code",
    "executionInfo": {
     "elapsed": 1221,
     "status": "ok",
     "timestamp": 1598841404455,
     "user": {
      "displayName": "José Pascual Manzano",
      "photoUrl": "",
      "userId": "09920607595779470069"
     },
     "user_tz": -120
    },
    "id": "vhuXhWBoX5vR",
    "outputId": "75085c18-b04b-42cf-b8da-fe335ca35e07"
   },
   "outputs": [
    {
     "name": "stdout",
     "output_type": "stream",
     "text": [
      "The predicted class is: rock \n",
      "\n",
      "blues \t\t :  0.00366990361362695693969726562500\n",
      "classical \t\t :  0.00009890117507893592119216918945\n",
      "country \t\t :  0.02256220579147338867187500000000\n",
      "disco \t\t :  0.00849812943488359451293945312500\n",
      "hiphop \t\t :  0.00077520706690847873687744140625\n",
      "jazz \t\t :  0.00162345857825130224227905273438\n",
      "metal \t\t :  0.01193407271057367324829101562500\n",
      "pop \t\t :  0.00016093667363747954368591308594\n",
      "reggae \t\t :  0.00362955778837203979492187500000\n",
      "rock \t\t :  0.94704765081405639648437500000000\n"
     ]
    }
   ],
   "source": [
    "print_prediction(\"GTZAN/genres/rock/rock.00069.au\")"
   ]
  },
  {
   "cell_type": "code",
   "execution_count": null,
   "metadata": {
    "colab": {
     "base_uri": "https://localhost:8080/",
     "height": 241
    },
    "colab_type": "code",
    "executionInfo": {
     "elapsed": 1228,
     "status": "ok",
     "timestamp": 1598841433367,
     "user": {
      "displayName": "José Pascual Manzano",
      "photoUrl": "",
      "userId": "09920607595779470069"
     },
     "user_tz": -120
    },
    "id": "XUW43lFjX-Z7",
    "outputId": "74ef8083-cbee-4bf7-9d1e-c047e134a33f"
   },
   "outputs": [
    {
     "name": "stdout",
     "output_type": "stream",
     "text": [
      "The predicted class is: hiphop \n",
      "\n",
      "blues \t\t :  0.00000000001672641712635591915159\n",
      "classical \t\t :  0.00000000000018411960595477588898\n",
      "country \t\t :  0.00000000001516268013923571800206\n",
      "disco \t\t :  0.00000008523178962605015840381384\n",
      "hiphop \t\t :  0.99999976158142089843750000000000\n",
      "jazz \t\t :  0.00000000000034299928348968666825\n",
      "metal \t\t :  0.00000008298660958416803623549640\n",
      "pop \t\t :  0.00000000000001078354172314366019\n",
      "reggae \t\t :  0.00000000385478271525130367081147\n",
      "rock \t\t :  0.00000000253358911628254190873122\n"
     ]
    }
   ],
   "source": [
    "print_prediction(\"GTZAN/genres/hiphop/hiphop.00069.au\")"
   ]
  },
  {
   "cell_type": "markdown",
   "metadata": {
    "colab_type": "text",
    "id": "mUjHtG7wYOVy"
   },
   "source": [
    "Nice."
   ]
  },
  {
   "cell_type": "markdown",
   "metadata": {
    "colab_type": "text",
    "id": "TjRo_szdlEcI"
   },
   "source": [
    "# Data Preprocessing for CNN"
   ]
  },
  {
   "cell_type": "code",
   "execution_count": null,
   "metadata": {
    "colab": {},
    "colab_type": "code",
    "id": "8ax12eIFh1uY"
   },
   "outputs": [],
   "source": [
    "max_pad_len = 1320 # Maximum value of mfccs.shape[1] out of all samples."
   ]
  },
  {
   "cell_type": "code",
   "execution_count": null,
   "metadata": {
    "colab": {},
    "colab_type": "code",
    "id": "mLIhhPJaYGdk"
   },
   "outputs": [],
   "source": [
    "def extract_features_cnn(file_name):\n",
    "  try:\n",
    "    audio, sample_rate = librosa.load(file_name, res_type='kaiser_fast')\n",
    "    mfccs = librosa.feature.mfcc(y = audio, sr = sample_rate, n_mfcc = 40)\n",
    "    pad_width = max_pad_len - mfccs.shape[1]\n",
    "    mfccs = np.pad(mfccs, pad_width=((0, 0), (0, pad_width)), mode='constant')\n",
    "  \n",
    "  except Exception as e:\n",
    "    print(\"Error encountered while parsing file: \", file_name)\n",
    "    return None\n",
    "  \n",
    "  return mfccs"
   ]
  },
  {
   "cell_type": "code",
   "execution_count": null,
   "metadata": {
    "colab": {
     "base_uri": "https://localhost:8080/",
     "height": 36
    },
    "colab_type": "code",
    "executionInfo": {
     "elapsed": 814713,
     "status": "ok",
     "timestamp": 1598846434929,
     "user": {
      "displayName": "José Pascual Manzano",
      "photoUrl": "",
      "userId": "09920607595779470069"
     },
     "user_tz": -120
    },
    "id": "d0prlWeKZRwI",
    "outputId": "80dabc74-5eab-4dd6-eeec-b78fdde20818"
   },
   "outputs": [
    {
     "name": "stdout",
     "output_type": "stream",
     "text": [
      "The features extraction has been completed (1000 files).\n"
     ]
    }
   ],
   "source": [
    "features_cnn = []\n",
    "\n",
    "for index, row in df_songs.iterrows():\n",
    "  file_name = row['file_name']\n",
    "  class_label = row['class_label']\n",
    "  data = extract_features_cnn(file_name)\n",
    "  features_cnn.append([data, class_label])\n",
    "\n",
    "df_features_cnn = pd.DataFrame(features_cnn, columns = ['features', 'class_label'])\n",
    "\n",
    "print(f'The features extraction has been completed ({len(df_features_cnn)} files).')"
   ]
  },
  {
   "cell_type": "code",
   "execution_count": null,
   "metadata": {
    "colab": {},
    "colab_type": "code",
    "id": "FGqoskSMZd1z"
   },
   "outputs": [],
   "source": [
    "df_features_cnn.to_csv('Features_and_Labels_CNN.csv', index = False)"
   ]
  },
  {
   "cell_type": "code",
   "execution_count": null,
   "metadata": {
    "colab": {
     "base_uri": "https://localhost:8080/",
     "height": 36
    },
    "colab_type": "code",
    "executionInfo": {
     "elapsed": 493,
     "status": "ok",
     "timestamp": 1598846535525,
     "user": {
      "displayName": "José Pascual Manzano",
      "photoUrl": "",
      "userId": "09920607595779470069"
     },
     "user_tz": -120
    },
    "id": "O3VGXySAcs-x",
    "outputId": "81f751fc-fe5a-49c5-e6c6-85b23281776a"
   },
   "outputs": [
    {
     "data": {
      "text/plain": [
       "(40, 1320)"
      ]
     },
     "execution_count": 425,
     "metadata": {
      "tags": []
     },
     "output_type": "execute_result"
    }
   ],
   "source": [
    "df_features_cnn.features[0].shape"
   ]
  },
  {
   "cell_type": "code",
   "execution_count": null,
   "metadata": {
    "colab": {},
    "colab_type": "code",
    "id": "zedNddtDZh7Z"
   },
   "outputs": [],
   "source": [
    "X = np.array(df_features_cnn.features.tolist())\n",
    "y = np.array(df_features_cnn.class_label.tolist())\n",
    "\n",
    "le = LabelEncoder()\n",
    "yy = to_categorical(le.fit_transform(y))\n",
    "\n",
    "x_train, x_test, y_train, y_test = train_test_split(X, yy, test_size=0.2, random_state = 100)"
   ]
  },
  {
   "cell_type": "markdown",
   "metadata": {
    "colab_type": "text",
    "id": "4eKIV0GJkVYn"
   },
   "source": [
    "# CNN Model"
   ]
  },
  {
   "cell_type": "markdown",
   "metadata": {
    "colab_type": "text",
    "id": "h-giIuT9to8P"
   },
   "source": [
    "## Build the Model"
   ]
  },
  {
   "cell_type": "code",
   "execution_count": null,
   "metadata": {
    "colab": {},
    "colab_type": "code",
    "id": "tJTaV7NUe0xh"
   },
   "outputs": [],
   "source": [
    "K.clear_session()"
   ]
  },
  {
   "cell_type": "code",
   "execution_count": null,
   "metadata": {
    "colab": {},
    "colab_type": "code",
    "id": "IG9_mTAHe5Rk"
   },
   "outputs": [],
   "source": [
    "num_rows = 40\n",
    "num_columns = 1320\n",
    "num_channels = 1\n",
    "\n",
    "x_train = x_train.reshape(x_train.shape[0], num_rows, num_columns, num_channels)\n",
    "x_test = x_test.reshape(x_test.shape[0], num_rows, num_columns, num_channels)\n",
    "\n",
    "num_labels = yy.shape[1]"
   ]
  },
  {
   "cell_type": "code",
   "execution_count": null,
   "metadata": {
    "colab": {},
    "colab_type": "code",
    "id": "5E3yn0p1tewn"
   },
   "outputs": [],
   "source": [
    "model = Sequential()\n",
    "model.add(Conv2D(filters = 16, kernel_size = 2, \n",
    "                 input_shape = (num_rows, num_columns, num_channels), \n",
    "                 activation='relu'))\n",
    "model.add(MaxPooling2D(pool_size=2))\n",
    "model.add(Conv2D(filters=32, kernel_size=2, activation='relu'))\n",
    "model.add(MaxPooling2D(pool_size=2))\n",
    "model.add(Conv2D(filters=64, kernel_size=2, activation='relu'))\n",
    "model.add(MaxPooling2D(pool_size=2))\n",
    "model.add(Conv2D(filters=128, kernel_size=2, activation='relu'))\n",
    "model.add(MaxPooling2D(pool_size=2))\n",
    "model.add(GlobalAveragePooling2D())\n",
    "model.add(Dense(num_labels, activation='softmax'))"
   ]
  },
  {
   "cell_type": "code",
   "execution_count": null,
   "metadata": {
    "colab": {},
    "colab_type": "code",
    "id": "PLEq1JGwe5Oh"
   },
   "outputs": [],
   "source": [
    "model.compile(loss = 'categorical_crossentropy', \n",
    "              metrics = ['accuracy'], \n",
    "              optimizer = 'adam')"
   ]
  },
  {
   "cell_type": "code",
   "execution_count": null,
   "metadata": {
    "colab": {
     "base_uri": "https://localhost:8080/",
     "height": 1000
    },
    "colab_type": "code",
    "executionInfo": {
     "elapsed": 1286007,
     "status": "ok",
     "timestamp": 1598853060621,
     "user": {
      "displayName": "José Pascual Manzano",
      "photoUrl": "",
      "userId": "09920607595779470069"
     },
     "user_tz": -120
    },
    "id": "MHrGxacwe5Lj",
    "outputId": "b32f6715-ca58-408f-864c-64c9abeb2292"
   },
   "outputs": [
    {
     "name": "stdout",
     "output_type": "stream",
     "text": [
      "Epoch 1/50\n",
      "7/7 [==============================] - ETA: 0s - loss: 6.2148 - accuracy: 0.1287\n",
      "Epoch 00001: val_loss improved from inf to 3.64059, saving model to CNN_Model\n",
      "INFO:tensorflow:Assets written to: CNN_Model/assets\n",
      "7/7 [==============================] - 23s 3s/step - loss: 6.2148 - accuracy: 0.1287 - val_loss: 3.6406 - val_accuracy: 0.1300\n",
      "Epoch 2/50\n",
      "7/7 [==============================] - ETA: 0s - loss: 2.7225 - accuracy: 0.1787\n",
      "Epoch 00002: val_loss improved from 3.64059 to 2.31236, saving model to CNN_Model\n",
      "INFO:tensorflow:Assets written to: CNN_Model/assets\n",
      "7/7 [==============================] - 23s 3s/step - loss: 2.7225 - accuracy: 0.1787 - val_loss: 2.3124 - val_accuracy: 0.1350\n",
      "Epoch 3/50\n",
      "7/7 [==============================] - ETA: 0s - loss: 1.9791 - accuracy: 0.2612\n",
      "Epoch 00003: val_loss improved from 2.31236 to 1.93456, saving model to CNN_Model\n",
      "INFO:tensorflow:Assets written to: CNN_Model/assets\n",
      "7/7 [==============================] - 23s 3s/step - loss: 1.9791 - accuracy: 0.2612 - val_loss: 1.9346 - val_accuracy: 0.3300\n",
      "Epoch 4/50\n",
      "7/7 [==============================] - ETA: 0s - loss: 1.8484 - accuracy: 0.3388\n",
      "Epoch 00004: val_loss improved from 1.93456 to 1.80924, saving model to CNN_Model\n",
      "INFO:tensorflow:Assets written to: CNN_Model/assets\n",
      "7/7 [==============================] - 22s 3s/step - loss: 1.8484 - accuracy: 0.3388 - val_loss: 1.8092 - val_accuracy: 0.3600\n",
      "Epoch 5/50\n",
      "7/7 [==============================] - ETA: 0s - loss: 1.6827 - accuracy: 0.3975\n",
      "Epoch 00005: val_loss improved from 1.80924 to 1.73403, saving model to CNN_Model\n",
      "INFO:tensorflow:Assets written to: CNN_Model/assets\n",
      "7/7 [==============================] - 22s 3s/step - loss: 1.6827 - accuracy: 0.3975 - val_loss: 1.7340 - val_accuracy: 0.3600\n",
      "Epoch 6/50\n",
      "7/7 [==============================] - ETA: 0s - loss: 1.5809 - accuracy: 0.4288\n",
      "Epoch 00006: val_loss improved from 1.73403 to 1.66076, saving model to CNN_Model\n",
      "INFO:tensorflow:Assets written to: CNN_Model/assets\n",
      "7/7 [==============================] - 22s 3s/step - loss: 1.5809 - accuracy: 0.4288 - val_loss: 1.6608 - val_accuracy: 0.4000\n",
      "Epoch 7/50\n",
      "7/7 [==============================] - ETA: 0s - loss: 1.4918 - accuracy: 0.4650\n",
      "Epoch 00007: val_loss improved from 1.66076 to 1.61511, saving model to CNN_Model\n",
      "INFO:tensorflow:Assets written to: CNN_Model/assets\n",
      "7/7 [==============================] - 22s 3s/step - loss: 1.4918 - accuracy: 0.4650 - val_loss: 1.6151 - val_accuracy: 0.4250\n",
      "Epoch 8/50\n",
      "7/7 [==============================] - ETA: 0s - loss: 1.4299 - accuracy: 0.4825\n",
      "Epoch 00008: val_loss improved from 1.61511 to 1.56044, saving model to CNN_Model\n",
      "INFO:tensorflow:Assets written to: CNN_Model/assets\n",
      "7/7 [==============================] - 22s 3s/step - loss: 1.4299 - accuracy: 0.4825 - val_loss: 1.5604 - val_accuracy: 0.4250\n",
      "Epoch 9/50\n",
      "7/7 [==============================] - ETA: 0s - loss: 1.3689 - accuracy: 0.5100\n",
      "Epoch 00009: val_loss improved from 1.56044 to 1.50003, saving model to CNN_Model\n",
      "INFO:tensorflow:Assets written to: CNN_Model/assets\n",
      "7/7 [==============================] - 23s 3s/step - loss: 1.3689 - accuracy: 0.5100 - val_loss: 1.5000 - val_accuracy: 0.4950\n",
      "Epoch 10/50\n",
      "7/7 [==============================] - ETA: 0s - loss: 1.3004 - accuracy: 0.5400\n",
      "Epoch 00010: val_loss did not improve from 1.50003\n",
      "7/7 [==============================] - 21s 3s/step - loss: 1.3004 - accuracy: 0.5400 - val_loss: 1.5060 - val_accuracy: 0.4700\n",
      "Epoch 11/50\n",
      "7/7 [==============================] - ETA: 0s - loss: 1.2996 - accuracy: 0.5250\n",
      "Epoch 00011: val_loss improved from 1.50003 to 1.43926, saving model to CNN_Model\n",
      "INFO:tensorflow:Assets written to: CNN_Model/assets\n",
      "7/7 [==============================] - 22s 3s/step - loss: 1.2996 - accuracy: 0.5250 - val_loss: 1.4393 - val_accuracy: 0.5100\n",
      "Epoch 12/50\n",
      "7/7 [==============================] - ETA: 0s - loss: 1.2467 - accuracy: 0.5562\n",
      "Epoch 00012: val_loss did not improve from 1.43926\n",
      "7/7 [==============================] - 22s 3s/step - loss: 1.2467 - accuracy: 0.5562 - val_loss: 1.4573 - val_accuracy: 0.4950\n",
      "Epoch 13/50\n",
      "7/7 [==============================] - ETA: 0s - loss: 1.2393 - accuracy: 0.5425\n",
      "Epoch 00013: val_loss improved from 1.43926 to 1.39989, saving model to CNN_Model\n",
      "INFO:tensorflow:Assets written to: CNN_Model/assets\n",
      "7/7 [==============================] - 23s 3s/step - loss: 1.2393 - accuracy: 0.5425 - val_loss: 1.3999 - val_accuracy: 0.5200\n",
      "Epoch 14/50\n",
      "7/7 [==============================] - ETA: 0s - loss: 1.2224 - accuracy: 0.5475\n",
      "Epoch 00014: val_loss improved from 1.39989 to 1.37187, saving model to CNN_Model\n",
      "INFO:tensorflow:Assets written to: CNN_Model/assets\n",
      "7/7 [==============================] - 22s 3s/step - loss: 1.2224 - accuracy: 0.5475 - val_loss: 1.3719 - val_accuracy: 0.5500\n",
      "Epoch 15/50\n",
      "7/7 [==============================] - ETA: 0s - loss: 1.1724 - accuracy: 0.5913\n",
      "Epoch 00015: val_loss improved from 1.37187 to 1.31304, saving model to CNN_Model\n",
      "INFO:tensorflow:Assets written to: CNN_Model/assets\n",
      "7/7 [==============================] - 22s 3s/step - loss: 1.1724 - accuracy: 0.5913 - val_loss: 1.3130 - val_accuracy: 0.5500\n",
      "Epoch 16/50\n",
      "7/7 [==============================] - ETA: 0s - loss: 1.1293 - accuracy: 0.5863\n",
      "Epoch 00016: val_loss improved from 1.31304 to 1.31143, saving model to CNN_Model\n",
      "INFO:tensorflow:Assets written to: CNN_Model/assets\n",
      "7/7 [==============================] - 23s 3s/step - loss: 1.1293 - accuracy: 0.5863 - val_loss: 1.3114 - val_accuracy: 0.5150\n",
      "Epoch 17/50\n",
      "7/7 [==============================] - ETA: 0s - loss: 1.1101 - accuracy: 0.6012\n",
      "Epoch 00017: val_loss did not improve from 1.31143\n",
      "7/7 [==============================] - 21s 3s/step - loss: 1.1101 - accuracy: 0.6012 - val_loss: 1.3182 - val_accuracy: 0.5700\n",
      "Epoch 18/50\n",
      "7/7 [==============================] - ETA: 0s - loss: 1.0999 - accuracy: 0.6187\n",
      "Epoch 00018: val_loss improved from 1.31143 to 1.23764, saving model to CNN_Model\n",
      "INFO:tensorflow:Assets written to: CNN_Model/assets\n",
      "7/7 [==============================] - 22s 3s/step - loss: 1.0999 - accuracy: 0.6187 - val_loss: 1.2376 - val_accuracy: 0.5850\n",
      "Epoch 19/50\n",
      "7/7 [==============================] - ETA: 0s - loss: 1.0591 - accuracy: 0.6250\n",
      "Epoch 00019: val_loss did not improve from 1.23764\n",
      "7/7 [==============================] - 21s 3s/step - loss: 1.0591 - accuracy: 0.6250 - val_loss: 1.2921 - val_accuracy: 0.5700\n",
      "Epoch 20/50\n",
      "7/7 [==============================] - ETA: 0s - loss: 1.0294 - accuracy: 0.6600\n",
      "Epoch 00020: val_loss improved from 1.23764 to 1.20578, saving model to CNN_Model\n",
      "INFO:tensorflow:Assets written to: CNN_Model/assets\n",
      "7/7 [==============================] - 22s 3s/step - loss: 1.0294 - accuracy: 0.6600 - val_loss: 1.2058 - val_accuracy: 0.6250\n",
      "Epoch 21/50\n",
      "7/7 [==============================] - ETA: 0s - loss: 0.9977 - accuracy: 0.6425\n",
      "Epoch 00021: val_loss did not improve from 1.20578\n",
      "7/7 [==============================] - 22s 3s/step - loss: 0.9977 - accuracy: 0.6425 - val_loss: 1.2513 - val_accuracy: 0.5750\n",
      "Epoch 22/50\n",
      "7/7 [==============================] - ETA: 0s - loss: 0.9758 - accuracy: 0.6650\n",
      "Epoch 00022: val_loss improved from 1.20578 to 1.19057, saving model to CNN_Model\n",
      "INFO:tensorflow:Assets written to: CNN_Model/assets\n",
      "7/7 [==============================] - 23s 3s/step - loss: 0.9758 - accuracy: 0.6650 - val_loss: 1.1906 - val_accuracy: 0.5900\n",
      "Epoch 23/50\n",
      "7/7 [==============================] - ETA: 0s - loss: 0.9627 - accuracy: 0.6662\n",
      "Epoch 00023: val_loss did not improve from 1.19057\n",
      "7/7 [==============================] - 22s 3s/step - loss: 0.9627 - accuracy: 0.6662 - val_loss: 1.2373 - val_accuracy: 0.5950\n",
      "Epoch 24/50\n",
      "7/7 [==============================] - ETA: 0s - loss: 0.9801 - accuracy: 0.6538\n",
      "Epoch 00024: val_loss improved from 1.19057 to 1.17622, saving model to CNN_Model\n",
      "INFO:tensorflow:Assets written to: CNN_Model/assets\n",
      "7/7 [==============================] - 23s 3s/step - loss: 0.9801 - accuracy: 0.6538 - val_loss: 1.1762 - val_accuracy: 0.6000\n",
      "Epoch 25/50\n",
      "7/7 [==============================] - ETA: 0s - loss: 0.9428 - accuracy: 0.6637\n",
      "Epoch 00025: val_loss did not improve from 1.17622\n",
      "7/7 [==============================] - 21s 3s/step - loss: 0.9428 - accuracy: 0.6637 - val_loss: 1.2140 - val_accuracy: 0.6000\n",
      "Epoch 26/50\n",
      "7/7 [==============================] - ETA: 0s - loss: 0.9192 - accuracy: 0.6787\n",
      "Epoch 00026: val_loss improved from 1.17622 to 1.16141, saving model to CNN_Model\n",
      "INFO:tensorflow:Assets written to: CNN_Model/assets\n",
      "7/7 [==============================] - 23s 3s/step - loss: 0.9192 - accuracy: 0.6787 - val_loss: 1.1614 - val_accuracy: 0.6350\n",
      "Epoch 27/50\n",
      "7/7 [==============================] - ETA: 0s - loss: 0.8899 - accuracy: 0.6913\n",
      "Epoch 00027: val_loss improved from 1.16141 to 1.12454, saving model to CNN_Model\n",
      "INFO:tensorflow:Assets written to: CNN_Model/assets\n",
      "7/7 [==============================] - 23s 3s/step - loss: 0.8899 - accuracy: 0.6913 - val_loss: 1.1245 - val_accuracy: 0.6100\n",
      "Epoch 28/50\n",
      "7/7 [==============================] - ETA: 0s - loss: 0.8555 - accuracy: 0.7050\n",
      "Epoch 00028: val_loss improved from 1.12454 to 1.11535, saving model to CNN_Model\n",
      "INFO:tensorflow:Assets written to: CNN_Model/assets\n",
      "7/7 [==============================] - 22s 3s/step - loss: 0.8555 - accuracy: 0.7050 - val_loss: 1.1154 - val_accuracy: 0.6100\n",
      "Epoch 29/50\n",
      "7/7 [==============================] - ETA: 0s - loss: 0.8223 - accuracy: 0.7225\n",
      "Epoch 00029: val_loss did not improve from 1.11535\n",
      "7/7 [==============================] - 21s 3s/step - loss: 0.8223 - accuracy: 0.7225 - val_loss: 1.1434 - val_accuracy: 0.6450\n",
      "Epoch 30/50\n",
      "7/7 [==============================] - ETA: 0s - loss: 0.8174 - accuracy: 0.7337\n",
      "Epoch 00030: val_loss improved from 1.11535 to 1.10700, saving model to CNN_Model\n",
      "INFO:tensorflow:Assets written to: CNN_Model/assets\n",
      "7/7 [==============================] - 22s 3s/step - loss: 0.8174 - accuracy: 0.7337 - val_loss: 1.1070 - val_accuracy: 0.5950\n",
      "Epoch 31/50\n",
      "7/7 [==============================] - ETA: 0s - loss: 0.8161 - accuracy: 0.7212\n",
      "Epoch 00031: val_loss improved from 1.10700 to 1.07733, saving model to CNN_Model\n",
      "INFO:tensorflow:Assets written to: CNN_Model/assets\n",
      "7/7 [==============================] - 22s 3s/step - loss: 0.8161 - accuracy: 0.7212 - val_loss: 1.0773 - val_accuracy: 0.6000\n",
      "Epoch 32/50\n",
      "7/7 [==============================] - ETA: 0s - loss: 0.8144 - accuracy: 0.7150\n",
      "Epoch 00032: val_loss did not improve from 1.07733\n",
      "7/7 [==============================] - 22s 3s/step - loss: 0.8144 - accuracy: 0.7150 - val_loss: 1.0800 - val_accuracy: 0.6350\n",
      "Epoch 33/50\n",
      "7/7 [==============================] - ETA: 0s - loss: 0.8020 - accuracy: 0.7287\n",
      "Epoch 00033: val_loss did not improve from 1.07733\n",
      "7/7 [==============================] - 22s 3s/step - loss: 0.8020 - accuracy: 0.7287 - val_loss: 1.2015 - val_accuracy: 0.5700\n",
      "Epoch 34/50\n",
      "7/7 [==============================] - ETA: 0s - loss: 0.8697 - accuracy: 0.6787\n",
      "Epoch 00034: val_loss improved from 1.07733 to 1.07700, saving model to CNN_Model\n",
      "INFO:tensorflow:Assets written to: CNN_Model/assets\n",
      "7/7 [==============================] - 23s 3s/step - loss: 0.8697 - accuracy: 0.6787 - val_loss: 1.0770 - val_accuracy: 0.6700\n",
      "Epoch 35/50\n",
      "7/7 [==============================] - ETA: 0s - loss: 0.7612 - accuracy: 0.7275\n",
      "Epoch 00035: val_loss improved from 1.07700 to 1.04249, saving model to CNN_Model\n",
      "INFO:tensorflow:Assets written to: CNN_Model/assets\n",
      "7/7 [==============================] - 23s 3s/step - loss: 0.7612 - accuracy: 0.7275 - val_loss: 1.0425 - val_accuracy: 0.6450\n",
      "Epoch 36/50\n",
      "7/7 [==============================] - ETA: 0s - loss: 0.7934 - accuracy: 0.7088\n",
      "Epoch 00036: val_loss did not improve from 1.04249\n",
      "7/7 [==============================] - 22s 3s/step - loss: 0.7934 - accuracy: 0.7088 - val_loss: 1.1096 - val_accuracy: 0.6150\n",
      "Epoch 37/50\n",
      "7/7 [==============================] - ETA: 0s - loss: 0.7524 - accuracy: 0.7387\n",
      "Epoch 00037: val_loss did not improve from 1.04249\n",
      "7/7 [==============================] - 22s 3s/step - loss: 0.7524 - accuracy: 0.7387 - val_loss: 1.0754 - val_accuracy: 0.6700\n",
      "Epoch 38/50\n",
      "7/7 [==============================] - ETA: 0s - loss: 0.7111 - accuracy: 0.7700\n",
      "Epoch 00038: val_loss improved from 1.04249 to 1.02406, saving model to CNN_Model\n",
      "INFO:tensorflow:Assets written to: CNN_Model/assets\n",
      "7/7 [==============================] - 23s 3s/step - loss: 0.7111 - accuracy: 0.7700 - val_loss: 1.0241 - val_accuracy: 0.6550\n",
      "Epoch 39/50\n",
      "7/7 [==============================] - ETA: 0s - loss: 0.6751 - accuracy: 0.7763\n",
      "Epoch 00039: val_loss improved from 1.02406 to 0.97248, saving model to CNN_Model\n",
      "INFO:tensorflow:Assets written to: CNN_Model/assets\n",
      "7/7 [==============================] - 22s 3s/step - loss: 0.6751 - accuracy: 0.7763 - val_loss: 0.9725 - val_accuracy: 0.6650\n",
      "Epoch 40/50\n",
      "7/7 [==============================] - ETA: 0s - loss: 0.6423 - accuracy: 0.7900\n",
      "Epoch 00040: val_loss did not improve from 0.97248\n",
      "7/7 [==============================] - 22s 3s/step - loss: 0.6423 - accuracy: 0.7900 - val_loss: 1.0640 - val_accuracy: 0.6800\n",
      "Epoch 41/50\n",
      "7/7 [==============================] - ETA: 0s - loss: 0.6602 - accuracy: 0.7837\n",
      "Epoch 00041: val_loss improved from 0.97248 to 0.96056, saving model to CNN_Model\n",
      "INFO:tensorflow:Assets written to: CNN_Model/assets\n",
      "7/7 [==============================] - 22s 3s/step - loss: 0.6602 - accuracy: 0.7837 - val_loss: 0.9606 - val_accuracy: 0.6750\n",
      "Epoch 42/50\n",
      "7/7 [==============================] - ETA: 0s - loss: 0.6213 - accuracy: 0.8000\n",
      "Epoch 00042: val_loss did not improve from 0.96056\n",
      "7/7 [==============================] - 21s 3s/step - loss: 0.6213 - accuracy: 0.8000 - val_loss: 1.0730 - val_accuracy: 0.6300\n",
      "Epoch 43/50\n",
      "7/7 [==============================] - ETA: 0s - loss: 0.6447 - accuracy: 0.7763\n",
      "Epoch 00043: val_loss did not improve from 0.96056\n",
      "7/7 [==============================] - 22s 3s/step - loss: 0.6447 - accuracy: 0.7763 - val_loss: 1.0580 - val_accuracy: 0.6300\n",
      "Epoch 44/50\n",
      "7/7 [==============================] - ETA: 0s - loss: 0.7036 - accuracy: 0.7800\n",
      "Epoch 00044: val_loss did not improve from 0.96056\n",
      "7/7 [==============================] - 21s 3s/step - loss: 0.7036 - accuracy: 0.7800 - val_loss: 1.0586 - val_accuracy: 0.6300\n",
      "Epoch 45/50\n",
      "7/7 [==============================] - ETA: 0s - loss: 0.6480 - accuracy: 0.7675\n",
      "Epoch 00045: val_loss did not improve from 0.96056\n",
      "7/7 [==============================] - 21s 3s/step - loss: 0.6480 - accuracy: 0.7675 - val_loss: 0.9651 - val_accuracy: 0.7000\n",
      "Epoch 46/50\n",
      "7/7 [==============================] - ETA: 0s - loss: 0.6757 - accuracy: 0.7775\n",
      "Epoch 00046: val_loss did not improve from 0.96056\n",
      "7/7 [==============================] - 21s 3s/step - loss: 0.6757 - accuracy: 0.7775 - val_loss: 1.0039 - val_accuracy: 0.6550\n",
      "Epoch 47/50\n",
      "7/7 [==============================] - ETA: 0s - loss: 0.6298 - accuracy: 0.7875\n",
      "Epoch 00047: val_loss did not improve from 0.96056\n",
      "7/7 [==============================] - 21s 3s/step - loss: 0.6298 - accuracy: 0.7875 - val_loss: 1.0718 - val_accuracy: 0.6250\n",
      "Epoch 48/50\n",
      "7/7 [==============================] - ETA: 0s - loss: 0.5998 - accuracy: 0.7987\n",
      "Epoch 00048: val_loss did not improve from 0.96056\n",
      "7/7 [==============================] - 21s 3s/step - loss: 0.5998 - accuracy: 0.7987 - val_loss: 0.9762 - val_accuracy: 0.6950\n",
      "Epoch 49/50\n",
      "7/7 [==============================] - ETA: 0s - loss: 0.5707 - accuracy: 0.8200\n",
      "Epoch 00049: val_loss did not improve from 0.96056\n",
      "7/7 [==============================] - 22s 3s/step - loss: 0.5707 - accuracy: 0.8200 - val_loss: 0.9611 - val_accuracy: 0.6650\n",
      "Epoch 50/50\n",
      "7/7 [==============================] - ETA: 0s - loss: 0.5853 - accuracy: 0.7900\n",
      "Epoch 00050: val_loss did not improve from 0.96056\n",
      "7/7 [==============================] - 22s 3s/step - loss: 0.5853 - accuracy: 0.7900 - val_loss: 1.0292 - val_accuracy: 0.6400\n"
     ]
    }
   ],
   "source": [
    "num_epochs = 50\n",
    "num_batch_size = 128\n",
    "\n",
    "checkpointer = ModelCheckpoint(filepath = 'CNN_Model', \n",
    "                               verbose = 1, \n",
    "                               save_best_only = True)\n",
    "\n",
    "history = model.fit(x_train, y_train, \n",
    "                    batch_size = num_batch_size, \n",
    "                    epochs = num_epochs, \n",
    "                    validation_data = (x_test, y_test), \n",
    "                    callbacks = [checkpointer], \n",
    "                    verbose = 1)"
   ]
  },
  {
   "cell_type": "code",
   "execution_count": null,
   "metadata": {
    "colab": {
     "base_uri": "https://localhost:8080/",
     "height": 295
    },
    "colab_type": "code",
    "executionInfo": {
     "elapsed": 543,
     "status": "ok",
     "timestamp": 1598853078783,
     "user": {
      "displayName": "José Pascual Manzano",
      "photoUrl": "",
      "userId": "09920607595779470069"
     },
     "user_tz": -120
    },
    "id": "m0ddqqHwe5HY",
    "outputId": "00a6627d-eb04-49b7-ee1a-74da1d9f8eae"
   },
   "outputs": [
    {
     "data": {
      "image/png": "[encoded data removed]",
      "text/plain": [
       "<Figure size 432x288 with 1 Axes>"
      ]
     },
     "metadata": {
      "needs_background": "light",
      "tags": []
     },
     "output_type": "display_data"
    }
   ],
   "source": [
    "plt.plot(history.history['loss'])\n",
    "plt.plot(history.history['val_loss'])\n",
    "plt.title('Training and Validation Loss')\n",
    "plt.ylabel('Loss')\n",
    "plt.xlabel('Epoch')\n",
    "plt.legend(['Training', 'Validation'], loc='upper right')\n",
    "plt.show()"
   ]
  },
  {
   "cell_type": "code",
   "execution_count": null,
   "metadata": {
    "colab": {
     "base_uri": "https://localhost:8080/",
     "height": 295
    },
    "colab_type": "code",
    "executionInfo": {
     "elapsed": 751,
     "status": "ok",
     "timestamp": 1598853095770,
     "user": {
      "displayName": "José Pascual Manzano",
      "photoUrl": "",
      "userId": "09920607595779470069"
     },
     "user_tz": -120
    },
    "id": "FcyqV_dce5Aw",
    "outputId": "7ab3b7da-4aca-4000-9227-7dac860ea8fd"
   },
   "outputs": [
    {
     "data": {
      "image/png": "[encoded data removed]",
      "text/plain": [
       "<Figure size 432x288 with 1 Axes>"
      ]
     },
     "metadata": {
      "needs_background": "light",
      "tags": []
     },
     "output_type": "display_data"
    }
   ],
   "source": [
    "plt.plot(history.history['accuracy'])\n",
    "plt.plot(history.history['val_accuracy'])\n",
    "plt.title('Training and Validation Accuracy')\n",
    "plt.ylabel('Accuracy')\n",
    "plt.xlabel('Epoch')\n",
    "plt.legend(['Training', 'Validation'], loc='upper right')\n",
    "plt.show()"
   ]
  },
  {
   "cell_type": "code",
   "execution_count": null,
   "metadata": {
    "colab": {
     "base_uri": "https://localhost:8080/",
     "height": 54
    },
    "colab_type": "code",
    "executionInfo": {
     "elapsed": 11977,
     "status": "ok",
     "timestamp": 1598853123484,
     "user": {
      "displayName": "José Pascual Manzano",
      "photoUrl": "",
      "userId": "09920607595779470069"
     },
     "user_tz": -120
    },
    "id": "NwvKtdr4e4Qo",
    "outputId": "01f06834-3a58-4e50-af63-6a65b9c18955"
   },
   "outputs": [
    {
     "name": "stdout",
     "output_type": "stream",
     "text": [
      "Training Accuracy: 0.7975000143051147\n",
      "Testing Accuracy: 0.6399999856948853\n"
     ]
    }
   ],
   "source": [
    "training_score = model.evaluate(x_train, y_train, verbose = 0)\n",
    "print(f'Training Accuracy: {training_score[1]}')\n",
    "\n",
    "testing_score = model.evaluate(x_test, y_test, verbose = 0)\n",
    "print(f'Testing Accuracy: {testing_score[1]}')"
   ]
  },
  {
   "cell_type": "markdown",
   "metadata": {
    "colab_type": "text",
    "id": "FW0o3KUEtrn-"
   },
   "source": [
    "## Predictions"
   ]
  },
  {
   "cell_type": "code",
   "execution_count": null,
   "metadata": {
    "colab": {},
    "colab_type": "code",
    "id": "W56WiH4ottQO"
   },
   "outputs": [],
   "source": [
    "def print_prediction_cnn(file_name):\n",
    "    prediction_feature = extract_features_cnn(file_name) \n",
    "    prediction_feature = prediction_feature.reshape(1, num_rows, num_columns, num_channels)\n",
    "\n",
    "    predicted_vector = model.predict_classes(prediction_feature)\n",
    "    predicted_class = le.inverse_transform(predicted_vector) \n",
    "    print(\"The predicted class is:\", predicted_class[0], '\\n') \n",
    "\n",
    "    predicted_proba_vector = model.predict_proba(prediction_feature) \n",
    "    predicted_proba = predicted_proba_vector[0]\n",
    "    for i in range(len(predicted_proba)): \n",
    "        category = le.inverse_transform(np.array([i]))\n",
    "        print(category[0], \"\\t\\t : \", format(predicted_proba[i], '.32f') )"
   ]
  },
  {
   "cell_type": "code",
   "execution_count": null,
   "metadata": {
    "colab": {
     "base_uri": "https://localhost:8080/",
     "height": 241
    },
    "colab_type": "code",
    "executionInfo": {
     "elapsed": 1803,
     "status": "ok",
     "timestamp": 1598853475325,
     "user": {
      "displayName": "José Pascual Manzano",
      "photoUrl": "",
      "userId": "09920607595779470069"
     },
     "user_tz": -120
    },
    "id": "irOHrWr0E_BO",
    "outputId": "332350ad-6745-44f5-d3d0-c4e007f4cfcd"
   },
   "outputs": [
    {
     "name": "stdout",
     "output_type": "stream",
     "text": [
      "The predicted class is: pop \n",
      "\n",
      "blues \t\t :  0.00004050680581713095307350158691\n",
      "classical \t\t :  0.00000780637583375209942460060120\n",
      "country \t\t :  0.00046915889834053814411163330078\n",
      "disco \t\t :  0.01671979576349258422851562500000\n",
      "hiphop \t\t :  0.00433903513476252555847167968750\n",
      "jazz \t\t :  0.00416142214089632034301757812500\n",
      "metal \t\t :  0.00000234352364714141003787517548\n",
      "pop \t\t :  0.95746529102325439453125000000000\n",
      "reggae \t\t :  0.00449216086417436599731445312500\n",
      "rock \t\t :  0.01230249460786581039428710937500\n"
     ]
    }
   ],
   "source": [
    "print_prediction_cnn(\"GTZAN/genres/pop/pop.00000.au\")"
   ]
  },
  {
   "cell_type": "code",
   "execution_count": null,
   "metadata": {
    "colab": {
     "base_uri": "https://localhost:8080/",
     "height": 241
    },
    "colab_type": "code",
    "executionInfo": {
     "elapsed": 2234,
     "status": "ok",
     "timestamp": 1598853617775,
     "user": {
      "displayName": "José Pascual Manzano",
      "photoUrl": "",
      "userId": "09920607595779470069"
     },
     "user_tz": -120
    },
    "id": "aou4OgXyGL68",
    "outputId": "4971f105-bbb5-42e5-a805-c6ada25d0f0c"
   },
   "outputs": [
    {
     "name": "stdout",
     "output_type": "stream",
     "text": [
      "The predicted class is: rock \n",
      "\n",
      "blues \t\t :  0.00331091741099953651428222656250\n",
      "classical \t\t :  0.00080385460751131176948547363281\n",
      "country \t\t :  0.01140067633241415023803710937500\n",
      "disco \t\t :  0.09027677774429321289062500000000\n",
      "hiphop \t\t :  0.00514201354235410690307617187500\n",
      "jazz \t\t :  0.00489959958940744400024414062500\n",
      "metal \t\t :  0.20859144628047943115234375000000\n",
      "pop \t\t :  0.00000072122332994695170782506466\n",
      "reggae \t\t :  0.00187060493044555187225341796875\n",
      "rock \t\t :  0.67370337247848510742187500000000\n"
     ]
    }
   ],
   "source": [
    "print_prediction_cnn(\"GTZAN/genres/disco/disco.00088.au\")"
   ]
  },
  {
   "cell_type": "code",
   "execution_count": null,
   "metadata": {
    "colab": {
     "base_uri": "https://localhost:8080/",
     "height": 241
    },
    "colab_type": "code",
    "executionInfo": {
     "elapsed": 2184,
     "status": "ok",
     "timestamp": 1598853665781,
     "user": {
      "displayName": "José Pascual Manzano",
      "photoUrl": "",
      "userId": "09920607595779470069"
     },
     "user_tz": -120
    },
    "id": "DV8xh_fxGN9L",
    "outputId": "a8ffc5ac-3b9b-483e-fc39-9f2130468d39"
   },
   "outputs": [
    {
     "name": "stdout",
     "output_type": "stream",
     "text": [
      "The predicted class is: reggae \n",
      "\n",
      "blues \t\t :  0.06782383471727371215820312500000\n",
      "classical \t\t :  0.00143079971894621849060058593750\n",
      "country \t\t :  0.33166673779487609863281250000000\n",
      "disco \t\t :  0.00410197721794247627258300781250\n",
      "hiphop \t\t :  0.00316367996856570243835449218750\n",
      "jazz \t\t :  0.00049689435400068759918212890625\n",
      "metal \t\t :  0.00000907417506823549047112464905\n",
      "pop \t\t :  0.00097854656632989645004272460938\n",
      "reggae \t\t :  0.38236001133918762207031250000000\n",
      "rock \t\t :  0.20796841382980346679687500000000\n"
     ]
    }
   ],
   "source": [
    "print_prediction_cnn(\"GTZAN/genres/reggae/reggae.00006.au\")"
   ]
  },
  {
   "cell_type": "code",
   "execution_count": null,
   "metadata": {
    "colab": {
     "base_uri": "https://localhost:8080/",
     "height": 241
    },
    "colab_type": "code",
    "executionInfo": {
     "elapsed": 1742,
     "status": "ok",
     "timestamp": 1598853723181,
     "user": {
      "displayName": "José Pascual Manzano",
      "photoUrl": "",
      "userId": "09920607595779470069"
     },
     "user_tz": -120
    },
    "id": "O2_1UBC5GN3z",
    "outputId": "cacb835d-2c9b-46dd-f4a6-ffb312d0f4ab"
   },
   "outputs": [
    {
     "name": "stdout",
     "output_type": "stream",
     "text": [
      "The predicted class is: blues \n",
      "\n",
      "blues \t\t :  0.77343738079071044921875000000000\n",
      "classical \t\t :  0.00000145332808187959017232060432\n",
      "country \t\t :  0.05935002490878105163574218750000\n",
      "disco \t\t :  0.00297893048264086246490478515625\n",
      "hiphop \t\t :  0.00666435388848185539245605468750\n",
      "jazz \t\t :  0.00031695506186224520206451416016\n",
      "metal \t\t :  0.00709190173074603080749511718750\n",
      "pop \t\t :  0.00004375212665763683617115020752\n",
      "reggae \t\t :  0.04858624935150146484375000000000\n",
      "rock \t\t :  0.10152900218963623046875000000000\n"
     ]
    }
   ],
   "source": [
    "print_prediction_cnn(\"GTZAN/genres/blues/blues.00046.au\")"
   ]
  },
  {
   "cell_type": "code",
   "execution_count": null,
   "metadata": {
    "colab": {
     "base_uri": "https://localhost:8080/",
     "height": 241
    },
    "colab_type": "code",
    "executionInfo": {
     "elapsed": 1765,
     "status": "ok",
     "timestamp": 1598853728856,
     "user": {
      "displayName": "José Pascual Manzano",
      "photoUrl": "",
      "userId": "09920607595779470069"
     },
     "user_tz": -120
    },
    "id": "gsJGZ-I8GNzL",
    "outputId": "3c5ea1b5-5ce8-4d7e-ea70-b20d3026aa96"
   },
   "outputs": [
    {
     "name": "stdout",
     "output_type": "stream",
     "text": [
      "The predicted class is: reggae \n",
      "\n",
      "blues \t\t :  0.01267684251070022583007812500000\n",
      "classical \t\t :  0.02207364886999130249023437500000\n",
      "country \t\t :  0.23439498245716094970703125000000\n",
      "disco \t\t :  0.12466505169868469238281250000000\n",
      "hiphop \t\t :  0.00601097429171204566955566406250\n",
      "jazz \t\t :  0.01247928850352764129638671875000\n",
      "metal \t\t :  0.00000657491227684658952057361603\n",
      "pop \t\t :  0.04070705547928810119628906250000\n",
      "reggae \t\t :  0.38520494103431701660156250000000\n",
      "rock \t\t :  0.16178067028522491455078125000000\n"
     ]
    }
   ],
   "source": [
    "print_prediction_cnn(\"GTZAN/genres/country/country.00034.au\")"
   ]
  },
  {
   "cell_type": "code",
   "execution_count": null,
   "metadata": {
    "colab": {
     "base_uri": "https://localhost:8080/",
     "height": 241
    },
    "colab_type": "code",
    "executionInfo": {
     "elapsed": 1732,
     "status": "ok",
     "timestamp": 1598853742550,
     "user": {
      "displayName": "José Pascual Manzano",
      "photoUrl": "",
      "userId": "09920607595779470069"
     },
     "user_tz": -120
    },
    "id": "_bzf0ZOtGNuW",
    "outputId": "b1e74e0a-5692-4d59-cd70-e69de3fa6502"
   },
   "outputs": [
    {
     "name": "stdout",
     "output_type": "stream",
     "text": [
      "The predicted class is: metal \n",
      "\n",
      "blues \t\t :  0.01008549332618713378906250000000\n",
      "classical \t\t :  0.00010854120773728936910629272461\n",
      "country \t\t :  0.00352971325628459453582763671875\n",
      "disco \t\t :  0.05166629329323768615722656250000\n",
      "hiphop \t\t :  0.10727365314960479736328125000000\n",
      "jazz \t\t :  0.00004257890395820140838623046875\n",
      "metal \t\t :  0.76152938604354858398437500000000\n",
      "pop \t\t :  0.00000093825178737461101263761520\n",
      "reggae \t\t :  0.00239461800083518028259277343750\n",
      "rock \t\t :  0.06336878240108489990234375000000\n"
     ]
    }
   ],
   "source": [
    "print_prediction_cnn(\"GTZAN/genres/metal/metal.00099.au\")"
   ]
  },
  {
   "cell_type": "code",
   "execution_count": null,
   "metadata": {
    "colab": {
     "base_uri": "https://localhost:8080/",
     "height": 241
    },
    "colab_type": "code",
    "executionInfo": {
     "elapsed": 1762,
     "status": "ok",
     "timestamp": 1598853749223,
     "user": {
      "displayName": "José Pascual Manzano",
      "photoUrl": "",
      "userId": "09920607595779470069"
     },
     "user_tz": -120
    },
    "id": "Vck8nU66GNp1",
    "outputId": "99bfd53f-2f40-4700-fd3a-3ab96be06eae"
   },
   "outputs": [
    {
     "name": "stdout",
     "output_type": "stream",
     "text": [
      "The predicted class is: hiphop \n",
      "\n",
      "blues \t\t :  0.00000275421825790544971823692322\n",
      "classical \t\t :  0.00000040961467107081261929124594\n",
      "country \t\t :  0.00004369487578514963388442993164\n",
      "disco \t\t :  0.02330480143427848815917968750000\n",
      "hiphop \t\t :  0.77056682109832763671875000000000\n",
      "jazz \t\t :  0.00000083204969314465415664017200\n",
      "metal \t\t :  0.00000067380670998318237252533436\n",
      "pop \t\t :  0.00050328910583630204200744628906\n",
      "reggae \t\t :  0.20426410436630249023437500000000\n",
      "rock \t\t :  0.00131262512877583503723144531250\n"
     ]
    }
   ],
   "source": [
    "print_prediction_cnn(\"GTZAN/genres/hiphop/hiphop.00062.au\")"
   ]
  },
  {
   "cell_type": "code",
   "execution_count": null,
   "metadata": {
    "colab": {
     "base_uri": "https://localhost:8080/",
     "height": 241
    },
    "colab_type": "code",
    "executionInfo": {
     "elapsed": 1589,
     "status": "ok",
     "timestamp": 1598853757290,
     "user": {
      "displayName": "José Pascual Manzano",
      "photoUrl": "",
      "userId": "09920607595779470069"
     },
     "user_tz": -120
    },
    "id": "zetNJgj-GNk3",
    "outputId": "a8af8af6-6289-47dc-ed7a-46e182ccd882"
   },
   "outputs": [
    {
     "name": "stdout",
     "output_type": "stream",
     "text": [
      "The predicted class is: classical \n",
      "\n",
      "blues \t\t :  0.00000005728255203507615078706294\n",
      "classical \t\t :  0.99922621250152587890625000000000\n",
      "country \t\t :  0.00000125684482554788701236248016\n",
      "disco \t\t :  0.00000001278402539384160263580270\n",
      "hiphop \t\t :  0.00000000120325627239736832052586\n",
      "jazz \t\t :  0.00065039616310968995094299316406\n",
      "metal \t\t :  0.00000000001124354429005158806376\n",
      "pop \t\t :  0.00011466983414720743894577026367\n",
      "reggae \t\t :  0.00000003376252522002687328495085\n",
      "rock \t\t :  0.00000729665089238551445305347443\n"
     ]
    }
   ],
   "source": [
    "print_prediction_cnn(\"GTZAN/genres/classical/classical.00026.au\")"
   ]
  },
  {
   "cell_type": "code",
   "execution_count": null,
   "metadata": {
    "colab": {
     "base_uri": "https://localhost:8080/",
     "height": 241
    },
    "colab_type": "code",
    "executionInfo": {
     "elapsed": 1759,
     "status": "ok",
     "timestamp": 1598853762636,
     "user": {
      "displayName": "José Pascual Manzano",
      "photoUrl": "",
      "userId": "09920607595779470069"
     },
     "user_tz": -120
    },
    "id": "LJpspIVmGNfz",
    "outputId": "48105258-c73a-4ec2-e169-351c9ab525d6"
   },
   "outputs": [
    {
     "name": "stdout",
     "output_type": "stream",
     "text": [
      "The predicted class is: country \n",
      "\n",
      "blues \t\t :  0.00045465840958058834075927734375\n",
      "classical \t\t :  0.00009779064566828310489654541016\n",
      "country \t\t :  0.99171429872512817382812500000000\n",
      "disco \t\t :  0.00029328759410418570041656494141\n",
      "hiphop \t\t :  0.00002472329651936888694763183594\n",
      "jazz \t\t :  0.00002114016206178348511457443237\n",
      "metal \t\t :  0.00000731167119738529436290264130\n",
      "pop \t\t :  0.00000103496347492182394489645958\n",
      "reggae \t\t :  0.00018836576782632619142532348633\n",
      "rock \t\t :  0.00719734327867627143859863281250\n"
     ]
    }
   ],
   "source": [
    "print_prediction_cnn(\"GTZAN/genres/country/country.00083.au\")"
   ]
  },
  {
   "cell_type": "code",
   "execution_count": null,
   "metadata": {
    "colab": {
     "base_uri": "https://localhost:8080/",
     "height": 241
    },
    "colab_type": "code",
    "executionInfo": {
     "elapsed": 1748,
     "status": "ok",
     "timestamp": 1598853769617,
     "user": {
      "displayName": "José Pascual Manzano",
      "photoUrl": "",
      "userId": "09920607595779470069"
     },
     "user_tz": -120
    },
    "id": "-2AcA3PbGNZj",
    "outputId": "f286221b-1b40-4489-88ca-c1789366da05"
   },
   "outputs": [
    {
     "name": "stdout",
     "output_type": "stream",
     "text": [
      "The predicted class is: metal \n",
      "\n",
      "blues \t\t :  0.00002068891080853063613176345825\n",
      "classical \t\t :  0.00000005756362142506077361758798\n",
      "country \t\t :  0.00016232431516982614994049072266\n",
      "disco \t\t :  0.00183213991113007068634033203125\n",
      "hiphop \t\t :  0.00003832299626083113253116607666\n",
      "jazz \t\t :  0.00000047770708988537080585956573\n",
      "metal \t\t :  0.98828250169754028320312500000000\n",
      "pop \t\t :  0.00000000015826825960907342505379\n",
      "reggae \t\t :  0.00000478589663543971255421638489\n",
      "rock \t\t :  0.00965868216007947921752929687500\n"
     ]
    }
   ],
   "source": [
    "print_prediction_cnn(\"GTZAN/genres/metal/metal.00040.au\")"
   ]
  },
  {
   "cell_type": "code",
   "execution_count": null,
   "metadata": {
    "colab": {
     "base_uri": "https://localhost:8080/",
     "height": 241
    },
    "colab_type": "code",
    "executionInfo": {
     "elapsed": 1774,
     "status": "ok",
     "timestamp": 1598853779891,
     "user": {
      "displayName": "José Pascual Manzano",
      "photoUrl": "",
      "userId": "09920607595779470069"
     },
     "user_tz": -120
    },
    "id": "Mqnd12k3GNRT",
    "outputId": "54089889-5f26-4e0f-d132-0f9bf5a7e9a9"
   },
   "outputs": [
    {
     "name": "stdout",
     "output_type": "stream",
     "text": [
      "The predicted class is: jazz \n",
      "\n",
      "blues \t\t :  0.00924892257899045944213867187500\n",
      "classical \t\t :  0.00900574959814548492431640625000\n",
      "country \t\t :  0.19297853112220764160156250000000\n",
      "disco \t\t :  0.00304621807299554347991943359375\n",
      "hiphop \t\t :  0.00012932358367834240198135375977\n",
      "jazz \t\t :  0.71938657760620117187500000000000\n",
      "metal \t\t :  0.00000871703377924859523773193359\n",
      "pop \t\t :  0.01771638542413711547851562500000\n",
      "reggae \t\t :  0.00349148036912083625793457031250\n",
      "rock \t\t :  0.04498801380395889282226562500000\n"
     ]
    }
   ],
   "source": [
    "print_prediction_cnn(\"GTZAN/genres/jazz/jazz.00069.au\")"
   ]
  },
  {
   "cell_type": "code",
   "execution_count": null,
   "metadata": {
    "colab": {
     "base_uri": "https://localhost:8080/",
     "height": 241
    },
    "colab_type": "code",
    "executionInfo": {
     "elapsed": 1724,
     "status": "ok",
     "timestamp": 1598853785009,
     "user": {
      "displayName": "José Pascual Manzano",
      "photoUrl": "",
      "userId": "09920607595779470069"
     },
     "user_tz": -120
    },
    "id": "e1z9a1AhGZir",
    "outputId": "cb9d3c17-839b-4a01-d4c1-d783409d6de2"
   },
   "outputs": [
    {
     "name": "stdout",
     "output_type": "stream",
     "text": [
      "The predicted class is: rock \n",
      "\n",
      "blues \t\t :  0.00078763469355180859565734863281\n",
      "classical \t\t :  0.00001089360921469051390886306763\n",
      "country \t\t :  0.24096852540969848632812500000000\n",
      "disco \t\t :  0.00506806513294577598571777343750\n",
      "hiphop \t\t :  0.00072708335937932133674621582031\n",
      "jazz \t\t :  0.00162243354134261608123779296875\n",
      "metal \t\t :  0.00037651511956937611103057861328\n",
      "pop \t\t :  0.00000077665680464633624069392681\n",
      "reggae \t\t :  0.00187070982065051794052124023438\n",
      "rock \t\t :  0.74856734275817871093750000000000\n"
     ]
    }
   ],
   "source": [
    "print_prediction_cnn(\"GTZAN/genres/rock/rock.00069.au\")"
   ]
  },
  {
   "cell_type": "code",
   "execution_count": null,
   "metadata": {
    "colab": {
     "base_uri": "https://localhost:8080/",
     "height": 241
    },
    "colab_type": "code",
    "executionInfo": {
     "elapsed": 2234,
     "status": "ok",
     "timestamp": 1598853934764,
     "user": {
      "displayName": "José Pascual Manzano",
      "photoUrl": "",
      "userId": "09920607595779470069"
     },
     "user_tz": -120
    },
    "id": "_WWm7lXCGels",
    "outputId": "56e6138e-8e77-4c74-e72e-664ed817cd27"
   },
   "outputs": [
    {
     "name": "stdout",
     "output_type": "stream",
     "text": [
      "The predicted class is: disco \n",
      "\n",
      "blues \t\t :  0.02098001725971698760986328125000\n",
      "classical \t\t :  0.00612952979281544685363769531250\n",
      "country \t\t :  0.00141155219171196222305297851562\n",
      "disco \t\t :  0.50970590114593505859375000000000\n",
      "hiphop \t\t :  0.25401207804679870605468750000000\n",
      "jazz \t\t :  0.01114282757043838500976562500000\n",
      "metal \t\t :  0.00471942685544490814208984375000\n",
      "pop \t\t :  0.00003741619730135425925254821777\n",
      "reggae \t\t :  0.03643073514103889465332031250000\n",
      "rock \t\t :  0.15543061494827270507812500000000\n"
     ]
    }
   ],
   "source": [
    "print_prediction_cnn(\"GTZAN/genres/disco/disco.00096.au\")"
   ]
  }
 ],
 "metadata": {
  "colab": {
   "authorship_tag": "ABX9TyOaWS6cCSEQi4mqpm1pKqou",
   "collapsed_sections": [],
   "name": "Homework_Audio_Classifier_GZAN.ipynb",
   "provenance": [],
   "toc_visible": true
  },
  "kernelspec": {
   "display_name": "Python 3",
   "language": "python",
   "name": "python3"
  },
  "language_info": {
   "codemirror_mode": {
    "name": "ipython",
    "version": 3
   },
   "file_extension": ".py",
   "mimetype": "text/x-python",
   "name": "python",
   "nbconvert_exporter": "python",
   "pygments_lexer": "ipython3",
   "version": "3.7.7"
  }
 },
 "nbformat": 4,
 "nbformat_minor": 1
}
